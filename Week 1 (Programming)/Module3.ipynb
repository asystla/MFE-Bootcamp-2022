{
 "cells": [
  {
   "cell_type": "code",
   "execution_count": null,
   "metadata": {},
   "outputs": [],
   "source": [
    "import numpy as np\n",
    "import pandas as pd\n",
    "df = pd.read_csv(\"stock_data.csv\",parse_dates=['date'])"
   ]
  },
  {
   "cell_type": "markdown",
   "metadata": {},
   "source": [
    "# Logical Statements\n",
    "\n",
    "Booleans are the backbone of logical statements."
   ]
  },
  {
   "cell_type": "code",
   "execution_count": null,
   "metadata": {},
   "outputs": [],
   "source": [
    "# Using the int function\n",
    "int(3.14)"
   ]
  },
  {
   "cell_type": "code",
   "execution_count": null,
   "metadata": {},
   "outputs": [],
   "source": [
    "# understanding the bool function - similar to int(object)\n",
    "bool()\n",
    "# unless we pass 0, '', None, [], (), {} - bool function will always return True"
   ]
  },
  {
   "cell_type": "code",
   "execution_count": null,
   "metadata": {},
   "outputs": [],
   "source": [
    "# Generating booleans\n",
    "a = 5\n",
    "b = 7\n",
    "print(a>b)"
   ]
  },
  {
   "cell_type": "code",
   "execution_count": null,
   "metadata": {},
   "outputs": [],
   "source": [
    "# Value of boolean\n",
    "1 == True"
   ]
  },
  {
   "cell_type": "markdown",
   "metadata": {},
   "source": [
    "### If Statement"
   ]
  },
  {
   "cell_type": "code",
   "execution_count": null,
   "metadata": {},
   "outputs": [],
   "source": [
    "# if condition : \n",
    "    # Perform action (this section of code is indented)"
   ]
  },
  {
   "cell_type": "code",
   "execution_count": null,
   "metadata": {},
   "outputs": [],
   "source": [
    "# Using booleans in if statement : Syntax if True : execute; if False : exit\n",
    "if a<b : \n",
    "    print(\"a is less than b\")"
   ]
  },
  {
   "cell_type": "code",
   "execution_count": null,
   "metadata": {},
   "outputs": [],
   "source": [
    "# If any non-zero value is always True\n",
    "if 3 :\n",
    "    print(\"something\")"
   ]
  },
  {
   "cell_type": "code",
   "execution_count": null,
   "metadata": {},
   "outputs": [],
   "source": [
    "# Re-evaluating the NumPy .all function\n",
    "my_array = np.array([1,2,3])\n",
    "print((my_array>0).all()) # .all checks if all the values are True - getting into \"and\" statements"
   ]
  },
  {
   "cell_type": "code",
   "execution_count": null,
   "metadata": {},
   "outputs": [],
   "source": [
    "# Pandas .all and .any functions\n",
    "df1 = pd.Series([1,2,3])\n",
    "(df1>0)#.any()"
   ]
  },
  {
   "cell_type": "markdown",
   "metadata": {},
   "source": [
    "### And Statement\n",
    "\n",
    "Allows us to compare multiple booleans. \"And\" statement gets executed only if all the conditions are True."
   ]
  },
  {
   "cell_type": "code",
   "execution_count": null,
   "metadata": {},
   "outputs": [],
   "source": [
    "# Combining two true statements by and\n",
    "True and True"
   ]
  },
  {
   "cell_type": "code",
   "execution_count": null,
   "metadata": {},
   "outputs": [],
   "source": [
    "# Combining a true and a false boolean\n",
    "True and False"
   ]
  },
  {
   "cell_type": "code",
   "execution_count": null,
   "metadata": {},
   "outputs": [],
   "source": [
    "# More than 2 conditions\n",
    "a = 1\n",
    "b = 2\n",
    "c = 3\n",
    "if (a==1) and (b==2) and (c==3):\n",
    "    print('success')"
   ]
  },
  {
   "cell_type": "code",
   "execution_count": null,
   "metadata": {},
   "outputs": [],
   "source": [
    "# Again any value other than zero are treated as true by Python\n",
    "if 3 and 4 and 5 : print('success')"
   ]
  },
  {
   "cell_type": "markdown",
   "metadata": {},
   "source": [
    "### Or Statement\n",
    "\n",
    "For the or statement to get executed, at least one of the conditions must be true."
   ]
  },
  {
   "cell_type": "code",
   "execution_count": null,
   "metadata": {},
   "outputs": [],
   "source": [
    "# Combining two true booleans\n",
    "True or True "
   ]
  },
  {
   "cell_type": "code",
   "execution_count": null,
   "metadata": {},
   "outputs": [],
   "source": [
    "# Combining a true and a false boolean\n",
    "True or False"
   ]
  },
  {
   "cell_type": "code",
   "execution_count": null,
   "metadata": {},
   "outputs": [],
   "source": [
    "# More than 2 conditions\n",
    "a = 1\n",
    "b = 2\n",
    "c = 3\n",
    "if (a==1) or (b==1) or (c==1):print('success')"
   ]
  },
  {
   "cell_type": "markdown",
   "metadata": {},
   "source": [
    "### If, Elif, and Else"
   ]
  },
  {
   "cell_type": "code",
   "execution_count": null,
   "metadata": {},
   "outputs": [],
   "source": [
    "# if test1:\n",
    "    # if test1 is true, do this\n",
    "# elif test2:\n",
    "    # if test2 is true, do this\n",
    "# else : \n",
    "    # if none of the above are true, then do this"
   ]
  },
  {
   "cell_type": "code",
   "execution_count": null,
   "metadata": {},
   "outputs": [],
   "source": [
    "# A simple example of if, elif, and else statement\n",
    "a = 10\n",
    "\n",
    "if a<10 : \n",
    "    print('A')\n",
    "elif (a>=10) and (a<100) : \n",
    "    print('B')\n",
    "else :\n",
    "    print('C')"
   ]
  },
  {
   "cell_type": "markdown",
   "metadata": {},
   "source": [
    "# Loops\n",
    "\n",
    "Python has two loop commands - For and While loop. Operations on individual elements can be generalized using a loop in Python."
   ]
  },
  {
   "cell_type": "markdown",
   "metadata": {},
   "source": [
    "### While Loop"
   ]
  },
  {
   "cell_type": "code",
   "execution_count": null,
   "metadata": {},
   "outputs": [],
   "source": [
    "# As long as a condition is true, While loop is executed\n",
    "i=0\n",
    "while i<6:\n",
    "    print(i)\n",
    "    i=i+1 # Can be replaced with i=i+0.5"
   ]
  },
  {
   "cell_type": "code",
   "execution_count": null,
   "metadata": {},
   "outputs": [],
   "source": [
    "# While loops with \"break\"\n",
    "# Break statement essentially stops running the loop if encountered\n",
    "i=0\n",
    "while i<5:\n",
    "    # do something more meaningful\n",
    "    if i==3:\n",
    "        break\n",
    "    print(i)\n",
    "    i=i+1"
   ]
  },
  {
   "cell_type": "code",
   "execution_count": null,
   "metadata": {},
   "outputs": [],
   "source": [
    "# While loops with \"continue\"\n",
    "# Continue statement skips \n",
    "i=0\n",
    "while i<5:\n",
    "    i=i+1 # Does not matter where i=i+1 is present inside the indentation of while loop\n",
    "    if i==3:continue # should be present before our mathematical operation \n",
    "    print(i)\n",
    "    print(i*100)"
   ]
  },
  {
   "cell_type": "markdown",
   "metadata": {},
   "source": [
    "### For Loop"
   ]
  },
  {
   "cell_type": "code",
   "execution_count": null,
   "metadata": {},
   "outputs": [],
   "source": [
    "# Defining an array and iterating through the array\n",
    "my_array = np.array([1,2,3,4,5])\n",
    "\n",
    "# Example of an opeartion (loops are useful when we want to do a repeated computation)\n",
    "(my_array[2]+my_array[0])**(my_array[3]-my_array[0])"
   ]
  },
  {
   "cell_type": "code",
   "execution_count": null,
   "metadata": {},
   "outputs": [],
   "source": [
    "# Simple syntax of for loop\n",
    "# Similar to if-statement, for loop starts with first indentation and ends at first un-indented line\n",
    "for element in my_array:\n",
    "    print(element)"
   ]
  },
  {
   "cell_type": "code",
   "execution_count": null,
   "metadata": {},
   "outputs": [],
   "source": [
    "# range function - similar to np.arange()\n",
    "range(0,5) # gives us a range object in the range class\n",
    "#type(range(0,5))"
   ]
  },
  {
   "cell_type": "code",
   "execution_count": null,
   "metadata": {},
   "outputs": [],
   "source": [
    "list(range(10,20,2))"
   ]
  },
  {
   "cell_type": "code",
   "execution_count": null,
   "metadata": {},
   "outputs": [],
   "source": [
    "np.arange(10,20,2)"
   ]
  },
  {
   "cell_type": "code",
   "execution_count": null,
   "metadata": {},
   "outputs": [],
   "source": [
    "# For loop with range\n",
    "for i in range(0,len(my_array)):\n",
    "    print(my_array[i])"
   ]
  },
  {
   "cell_type": "markdown",
   "metadata": {},
   "source": [
    "### List Comprehension\n",
    "\n",
    "Instead of entering data/objects inside [.] for generating lists, in list comprehensions you enter for loops and if statements within [.] to evaluate your expression. "
   ]
  },
  {
   "cell_type": "code",
   "execution_count": null,
   "metadata": {},
   "outputs": [],
   "source": [
    "# Printing the list we will work on\n",
    "list(range(10))"
   ]
  },
  {
   "cell_type": "code",
   "execution_count": null,
   "metadata": {},
   "outputs": [],
   "source": [
    "# Creating a new list with squares of first 5 integers\n",
    "my_list1 = [] # Initiating an empty list\n",
    "for i in range(10):\n",
    "    my_list1.append(i**2) # Appending the square of the integer\n",
    "my_list1"
   ]
  },
  {
   "cell_type": "code",
   "execution_count": null,
   "metadata": {},
   "outputs": [],
   "source": [
    "# An alternate concise way to create lists without calling a for loop and storing output\n",
    "# Syntax is [expression for items in collection if <test condition>]\n",
    "my_list2 = [x**2 for x in range(10)] # saves us creating a blank list, indendations and appending\n",
    "my_list2"
   ]
  },
  {
   "cell_type": "code",
   "execution_count": null,
   "metadata": {},
   "outputs": [],
   "source": [
    "# Adding an if statement (calculating squares of even numbers only)\n",
    "my_list3 = [x**2 for x in range(10) if x%2==0] \n",
    "my_list3\n",
    "#[x**2 for x in range(10) if (x%2==0 and x%4==0)]"
   ]
  },
  {
   "cell_type": "markdown",
   "metadata": {},
   "source": [
    "# Functions\n",
    "\n",
    "Calculations and logical operations that need to be used repeatedly can be done so using a function."
   ]
  },
  {
   "cell_type": "code",
   "execution_count": null,
   "metadata": {},
   "outputs": [],
   "source": [
    "# Syntax for defining a function\n",
    "# def function (#arguments) : return\n",
    "# Similar to loops, code is grouped inside a function through indentation\n",
    "def my_function():\n",
    "    pass \n",
    "\n",
    "my_function() # the function is pretty good at doing nothing!"
   ]
  },
  {
   "cell_type": "code",
   "execution_count": null,
   "metadata": {},
   "outputs": [],
   "source": [
    "# Functions are also objects in python\n",
    "print(type(my_function))\n",
    "print(id(my_function))\n",
    "# Functions in python are first class objects!\n",
    "# First class basically means that the function has - type, passed into other functions (as arguments), etc."
   ]
  },
  {
   "cell_type": "code",
   "execution_count": null,
   "metadata": {},
   "outputs": [],
   "source": [
    "# Checking the output of the function created above\n",
    "my_function\n",
    "#my_function()"
   ]
  },
  {
   "cell_type": "code",
   "execution_count": null,
   "metadata": {},
   "outputs": [],
   "source": [
    "# Creating a function that does something\n",
    "from math import pi\n",
    "def area(x):\n",
    "    \"\"\"\" Function returns the area of the circle \"\"\"\n",
    "    return pi*x**2"
   ]
  },
  {
   "cell_type": "code",
   "execution_count": null,
   "metadata": {},
   "outputs": [],
   "source": [
    "# Reading the docstring of the function\n",
    "area?\n",
    "# area(5)\n",
    "# area(-5) # not good programming practice"
   ]
  },
  {
   "cell_type": "code",
   "execution_count": null,
   "metadata": {},
   "outputs": [],
   "source": [
    "# Error when we don't pass a required variable \"x\"\n",
    "area()"
   ]
  },
  {
   "cell_type": "code",
   "execution_count": null,
   "metadata": {},
   "outputs": [],
   "source": [
    "# Using the function in a list comprehension\n",
    "[area(r) for r in range(10)]"
   ]
  },
  {
   "cell_type": "code",
   "execution_count": null,
   "metadata": {},
   "outputs": [],
   "source": [
    "# Passing a numpy array inside the function\n",
    "area(np.array([1,2,3]))"
   ]
  },
  {
   "cell_type": "code",
   "execution_count": null,
   "metadata": {},
   "outputs": [],
   "source": [
    "# Modifying the area function\n",
    "def area(x=10):\n",
    "    \"\"\"\" Function returns the area of the circle \"\"\"\n",
    "    return pi*x**2"
   ]
  },
  {
   "cell_type": "code",
   "execution_count": null,
   "metadata": {},
   "outputs": [],
   "source": [
    "# Running function without specifying the key-word argument \"x\"\n",
    "area() "
   ]
  },
  {
   "cell_type": "code",
   "execution_count": null,
   "metadata": {},
   "outputs": [],
   "source": [
    "# Creating a function with required and key-word arguments\n",
    "def mfe_co_2023(input1,input2=5): # first required arguments and then key word arguments\n",
    "    \"\"\"This function returns the product of two numbers\"\"\"\n",
    "    return input1*input2"
   ]
  },
  {
   "cell_type": "code",
   "execution_count": null,
   "metadata": {},
   "outputs": [],
   "source": [
    "# Calling the function\n",
    "mfe_co_2023(10.5,10)"
   ]
  },
  {
   "cell_type": "code",
   "execution_count": null,
   "metadata": {},
   "outputs": [],
   "source": [
    "type(mfe_co_2023)"
   ]
  },
  {
   "cell_type": "code",
   "execution_count": null,
   "metadata": {},
   "outputs": [],
   "source": [
    "# Dealing with errors we know can occur by raise  \n",
    "def function(n):\n",
    "    if n%1 != 0 : raise TypeError(\"Enter an integer!!\")\n",
    "    else : print(n)\n",
    "    #if n<0 : raise ValueError(\"Your programming not so good\")\n",
    "    #else : print(np.sqrt(n))\n",
    "\n",
    "function(-1)"
   ]
  },
  {
   "cell_type": "markdown",
   "metadata": {},
   "source": [
    "### Lambda - Anonymous Functions\n",
    "\n",
    "The lambda function can take many inputs, but can only have one output.\n",
    "\n",
    "- **Advantages :** Save time and space\n",
    "- **Limitations :** Single line and only one output"
   ]
  },
  {
   "cell_type": "code",
   "execution_count": null,
   "metadata": {},
   "outputs": [],
   "source": [
    "# Syntax for the lambda function\n",
    "# lambda inputs : output\n",
    "lambda x : print(x) # A single line function only"
   ]
  },
  {
   "cell_type": "code",
   "execution_count": null,
   "metadata": {},
   "outputs": [],
   "source": [
    "# Defining a function that squares a number\n",
    "def square(x) : return x**2\n",
    "square(3)"
   ]
  },
  {
   "cell_type": "code",
   "execution_count": null,
   "metadata": {},
   "outputs": [],
   "source": [
    "# Creating a lambda function\n",
    "# We are assigning the lambda function to x; So x is a function with no name\n",
    "lambda i : i**2\n",
    "#x = lambda i : i**2\n",
    "#x(3)"
   ]
  },
  {
   "cell_type": "code",
   "execution_count": null,
   "metadata": {},
   "outputs": [],
   "source": [
    "# Passing a numpy array through the lambda function\n",
    "my_array = np.linspace(0,5,6)\n",
    "my_array\n",
    "fun = lambda x : np.exp(x)\n",
    "fun(my_array)"
   ]
  },
  {
   "cell_type": "markdown",
   "metadata": {},
   "source": [
    "### Pandas Apply\n",
    "\n",
    "The apply function can be used on a pandas series and on a pandas dataframe. Usually, groupby, apply, and the lambda functions go together."
   ]
  },
  {
   "cell_type": "code",
   "execution_count": null,
   "metadata": {},
   "outputs": [],
   "source": [
    "# Creating a random dataframe\n",
    "df = pd.DataFrame(np.linspace(0,10,100).reshape(20,5),columns=[\"A B C D E\".split()])\n",
    "df.head()"
   ]
  },
  {
   "cell_type": "code",
   "execution_count": null,
   "metadata": {},
   "outputs": [],
   "source": [
    "# Apply function on a pandas data series\n",
    "df[['A']].apply(np.exp) # calculating the exponential at each value of series A"
   ]
  },
  {
   "cell_type": "code",
   "execution_count": null,
   "metadata": {},
   "outputs": [],
   "source": [
    "# Apply function on a pandas data frame\n",
    "df[['A','B','C']].apply(np.max,axis=1).head() # axis=0 is along the column, axis=1 is along each row"
   ]
  },
  {
   "cell_type": "code",
   "execution_count": null,
   "metadata": {},
   "outputs": [],
   "source": [
    "# Reloading the dataset analyzed above (shortcut to parse the dates while reading the data)\n",
    "df = pd.read_csv(\"stock_data.csv\",sep = ',',parse_dates=['date'])\n",
    "\n",
    "# Converting any letters into NaN\n",
    "df['price'] = pd.to_numeric(df['price'],errors='coerce')\n",
    "df['total_returns'] = pd.to_numeric(df['total_returns'],errors='coerce')\n",
    "\n",
    "df.head(10)"
   ]
  },
  {
   "cell_type": "code",
   "execution_count": null,
   "metadata": {},
   "outputs": [],
   "source": [
    "# What if you want to apply a convoluted function say max-min\n",
    "df[['A','B','C']].apply(np.max-np.min,axis=0)\n",
    "\n",
    "# This is where lambda functions come handy inside the apply function\n",
    "#df[['A','B','C']].apply(lambda x : x.max()-x.min(),axis=1)"
   ]
  },
  {
   "cell_type": "code",
   "execution_count": null,
   "metadata": {},
   "outputs": [],
   "source": [
    "# Defining a function that we want to apply on the dataframe\n",
    "df.groupby('permno')[['price']].apply(lambda x : x.max()/x.min())"
   ]
  },
  {
   "cell_type": "code",
   "execution_count": null,
   "metadata": {},
   "outputs": [],
   "source": [
    "# Creating a custom function \n",
    "def modify_return(x):\n",
    "    return (x.mean()-x.median())/x.std()"
   ]
  },
  {
   "cell_type": "code",
   "execution_count": null,
   "metadata": {},
   "outputs": [],
   "source": [
    "df.groupby('permno')[['total_returns']].apply(lambda x : modify_return(x))"
   ]
  },
  {
   "cell_type": "code",
   "execution_count": null,
   "metadata": {},
   "outputs": [],
   "source": [
    "# Apply function along the rows\n",
    "#df[['price','share_outstanding']].apply(lambda x : x['price']*x['share_outstanding'],axis=1)"
   ]
  },
  {
   "cell_type": "markdown",
   "metadata": {},
   "source": [
    "# Plotting"
   ]
  },
  {
   "cell_type": "code",
   "execution_count": null,
   "metadata": {},
   "outputs": [],
   "source": [
    "import matplotlib.pyplot as plt"
   ]
  },
  {
   "cell_type": "code",
   "execution_count": null,
   "metadata": {},
   "outputs": [],
   "source": [
    "# Defining our two arrays \n",
    "x = np.linspace(-10,10,21)\n",
    "y = x**2"
   ]
  },
  {
   "cell_type": "code",
   "execution_count": null,
   "metadata": {},
   "outputs": [],
   "source": [
    "plt.plot(x,y)\n",
    "# The x-axis is the default y-index\n",
    "# First line above the plot (image location)\n",
    "# Include x in the second part of plot\n",
    "# Include label and legend\n",
    "# Include plt.show to remove the first line \n",
    "# Change line color\n",
    "# Add a Z variable\n",
    "# Change line width\n",
    "# Change line transparency using alpha\n",
    "# Change line type by adding '--'\n",
    "# Add title\n",
    "# Add x-label\n",
    "# Add x-ticks\n",
    "# Save figure"
   ]
  },
  {
   "cell_type": "code",
   "execution_count": null,
   "metadata": {},
   "outputs": [],
   "source": [
    "# We can also plot directly from pandas\n",
    "df[df['permno']<=10029].groupby(['date','permno'])['total_returns'].mean().unstack().cumsum().plot()"
   ]
  },
  {
   "cell_type": "markdown",
   "metadata": {},
   "source": [
    "### Subplots"
   ]
  },
  {
   "cell_type": "code",
   "execution_count": null,
   "metadata": {},
   "outputs": [],
   "source": [
    "fig,ax = plt.subplots(2,2)\n",
    "\n",
    "# Randomly defining 4 y-variables for subplots\n",
    "x = np.linspace(-10,10,21)\n",
    "y1 = np.exp(x)\n",
    "y2 = np.sin(x)\n",
    "y3 = np.power(x,3)\n",
    "y4 = 10*x**2\n",
    "\n",
    "# First subplot\n",
    "ax[0,0].plot(x,y1)\n",
    "\n",
    "# Second subplot\n",
    "ax[0,1].plot(x,y2)\n",
    "\n",
    "# Third subplot\n",
    "ax[1,0].plot(x,y3)\n",
    "\n",
    "# Fourth subplot\n",
    "ax[1,1].plot(x,y4)\n",
    "\n",
    "plt.show()"
   ]
  },
  {
   "cell_type": "markdown",
   "metadata": {},
   "source": [
    "# Good Programming Practices\n",
    "\n",
    "- Thinking through the problem before writing code is the secret. Once you have sufficiently thought through the problem, the code writes itself!\n",
    "- Understanding that every program operates along multiple complexities - Time and Space complexities are the most common\n",
    "- Making your code readable. Readable code that gives wrong output is better than an un-readable code that gives the right output.\n",
    "- Setting your seed when you simulate random variables (very important for generating reproducible results).\n",
    "- When coding up functions, make sure you give it a doc string and specify the input variable type. If there is a way for your code to break, something will eventually cause it to break.\n",
    "- Commenting your code and adding doc-strings to your functions is very important when you want to revisit your code to understand what it does. It's easier to read through the comments than through code.\n",
    "- Creating versions of your code (you might be interested in a Git repository). \n",
    "- Avoiding loops as much as you can and running efficient loops by vectorizing. \n",
    "- Although you feel smart when you nest multiple operations/functions on an object, long-run it is better to write one/two commands per line of code.\n",
    "\n",
    "# Advanced Python Topics\n",
    "\n",
    "- Git repository and Github\n",
    "- Pandas - Multi index, pivot, melt, stack/unstack, pickle, concat \n",
    "- Numpy - LinAlg library, random variable distributions\n",
    "- Matplotlib - 3D plots, interactive plots\n",
    "- Multiprocessing (parallel computing)\n",
    "- SQLite3 with Python\n",
    "- Memoization\n",
    "- Inheritance, Sub-classes, and meta-classes\n",
    "- Map, Reduce, and Filter\n",
    "- Tensors\n",
    "- NumBa (easily handles extremely large data sets)\n",
    "- Logging and RaiseError for Exception Handling"
   ]
  },
  {
   "cell_type": "markdown",
   "metadata": {},
   "source": [
    "# Take Home Questions\n",
    "\n",
    "- **List Comprehension**: First generate a list using the range(20) function. Next, create a second list that calculates $0.5 \\cdot n \\cdot (n+1)$ for each item $n$ in the first list. Solve this using a while loop and also the list comprehension method. Check if the outputs match for the two methods.\n",
    "\n",
    "- **Lambda function**: Create a numpy array of integers from 1 to 50. Use the lambda function to compute $x^3+x^2+x+1$ for each element $x$ of the array. Compare your output using the list comprehension method.\n",
    "\n",
    "- **For Loop**: Create a list with range(50). Return $x^3+x^2+x+1$ for every element $x$ in the list with an exception that for the last 5 elements return $x^4+x^3+x^2+x+1$. Use a for loop to do this operation. *Hint*: You might want to read up on \"enumerate\" and how that can be used with a for loop.\n",
    "\n",
    "- **List comprehension with logical statements**: First generate a list using the range(30) function. Next, create a second list that creates elements based on the logic below. *Hint*: You can do this by including an if statement inside your list comprehension.\n",
    "\n",
    "$$\n",
    "f(x)=\\begin{cases}\n",
    "x^2    , & \\text{if x is even}\\\\\n",
    "x^3 , & \\text{if x is odd}\n",
    "\\end{cases}\n",
    "$$\n",
    "\n",
    "- **Fibonacci sequence**: Construct a function \"fibonacci\" that takes in the required variable integer \"$n$\" and returns the $n_{th}$ term in a Fibonacci sequence (1,1,2,3,5,...). For example, if your call your function and pass in the argument n = 6, i.e fibonacci(n=6) it should return the value 8. You can use a for or a while loop inside your function. Print the function output for n=30, 50, and 100. \n",
    "\n",
    "- **Net Present Value**: Code up a function that computes the net present value of a stream of cash-flows and call this function NPV. The function will take three inputs - cash-flows, dates, and interest rate (constant). We will use the formula specified below to compute the NPV of a stream of cash-flows on specific dates. The time periods $t_1,t_2,..,t_N$ are computed as differences from first date. Make sure you annualize the difference in days (convert them to years). Check out this wikipedia link if you want to read up some more (https://en.wikipedia.org/wiki/Net_present_value). \n",
    "\n",
    "$$NPV(CF) = CF_0 + \\frac{CF_1}{(1+r)^{t_1}} + \\frac{CF_2}{(1+r)^{t_2}} + ... \\frac{CF_N}{(1+r)^{t_N}}$$\n",
    "\n",
    "Run this function for the following input \n",
    "\n",
    "$$\\text{Compute : } \\text{NPV}(\\text{CF} = \\text{[-100,50,40,30]},\\text{date} = [\\text{01-Jan-2020,31-Mar-2021,30-Jun-2021,31-Dec-2024}],r=0.05)$$\n",
    "\n",
    "- **Pandas .rolling()** is a very useful function to know (check out the doc string of pandas.Series.rolling for a better understanding of what the function does). In this problem, we will calculate the 1-year rolling sum of returns for the data in *stock_data.csv* file. Clean the data (remove strings and drop NaN values). Use the pandas rolling function (window=12) to calculate the sum of 1-year returns. Add this column to the original dataframe. \n",
    "\n",
    "- **Combining Pandas apply and lambda functions**: Load and clean the stock_data.csv file. Compute the market cap by multiplying the price and outstanding shares. You need to segregate PERMNOs into large-cap, mid-cap, and small-cap stocks. First, you have to write a function that takes in a value $x$ (market cap) as an input. For segregating use the following criteria mentioned below. Use the pandas apply along with lambda function, to pass the function pass you have just coded up.\n",
    "\n",
    "$$\n",
    "f(x)=\\begin{cases}\n",
    "\\text{small cap}    , & \\text{if x} < 100000\\\\\n",
    "\\text{mid cap}    , & 100000 \\le \\text{if x} < 1000000\\\\\n",
    "\\text{large cap} , & \\text{if x} \\ge  1000000\n",
    "\\end{cases}\n",
    "$$\n",
    "\n",
    "- **Plot and Subplots**: For the 4 PERMNOs - (10137, 10051, 10057, 10028), calculate the cumulative sum of returns and plot them in a 4-by-4 sub plot. Also, plot all their cumulative sum of returns in one plot. *Hint*: To compute the cumulative sum, you can use the .cumsum() function of pandas. You can also use the .plot() function of pandas dataframe instead of using matplotlib's plt function."
   ]
  }
 ],
 "metadata": {
  "kernelspec": {
   "display_name": "Python 3",
   "language": "python",
   "name": "python3"
  },
  "language_info": {
   "codemirror_mode": {
    "name": "ipython",
    "version": 3
   },
   "file_extension": ".py",
   "mimetype": "text/x-python",
   "name": "python",
   "nbconvert_exporter": "python",
   "pygments_lexer": "ipython3",
   "version": "3.7.3"
  }
 },
 "nbformat": 4,
 "nbformat_minor": 2
}
