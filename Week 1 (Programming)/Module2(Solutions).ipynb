{
 "cells": [
  {
   "cell_type": "markdown",
   "metadata": {},
   "source": [
    "# Pandas"
   ]
  },
  {
   "cell_type": "code",
   "execution_count": 1,
   "metadata": {},
   "outputs": [],
   "source": [
    "# Importing numpy and pandas library\n",
    "import numpy as np\n",
    "import pandas as pd"
   ]
  },
  {
   "cell_type": "markdown",
   "metadata": {},
   "source": [
    "### Pandas Series\n",
    "\n",
    "One dimensional labeled array in Pandas series is capable of holding any type of data. Data alignment in Pandas is intrinsic. Why is pandas similar to NumPy on this regard?"
   ]
  },
  {
   "cell_type": "code",
   "execution_count": 2,
   "metadata": {},
   "outputs": [],
   "source": [
    "# Understanding what goes into a pandas series (notice the index input option for a series)\n",
    "pd.Series?"
   ]
  },
  {
   "cell_type": "code",
   "execution_count": 4,
   "metadata": {},
   "outputs": [
    {
     "name": "stdout",
     "output_type": "stream",
     "text": [
      "[1, 2, 3]\n"
     ]
    },
    {
     "data": {
      "text/plain": [
       "pandas.core.series.Series"
      ]
     },
     "execution_count": 4,
     "metadata": {},
     "output_type": "execute_result"
    }
   ],
   "source": [
    "# Creating a pandas series from a list (similar to numpy.array)\n",
    "my_list = [1,2,3]\n",
    "print(my_list)\n",
    "ds = pd.Series(my_list) # short for data-series (ds)\n",
    "type(ds) # printing the type of pandas data series"
   ]
  },
  {
   "cell_type": "code",
   "execution_count": 5,
   "metadata": {},
   "outputs": [
    {
     "name": "stdout",
     "output_type": "stream",
     "text": [
      "0    1\n",
      "1    2\n",
      "2    3\n",
      "dtype: int64\n",
      "--------------------\n"
     ]
    },
    {
     "data": {
      "text/plain": [
       "array([1, 2, 3])"
      ]
     },
     "execution_count": 5,
     "metadata": {},
     "output_type": "execute_result"
    }
   ],
   "source": [
    "# Printing the output (notice how the output is different than that of the numpy array)\n",
    "print(pd.Series(my_list))\n",
    "print(\"--\"*10)\n",
    "np.array(my_list)"
   ]
  },
  {
   "cell_type": "code",
   "execution_count": 6,
   "metadata": {},
   "outputs": [
    {
     "name": "stdout",
     "output_type": "stream",
     "text": [
      "[ 0.  1.  2.  3.  4.  5.  6.  7.  8.  9. 10.]\n",
      "--------------------------------------------------------------------------------\n"
     ]
    },
    {
     "data": {
      "text/plain": [
       "0      0.0\n",
       "1      1.0\n",
       "2      2.0\n",
       "3      3.0\n",
       "4      4.0\n",
       "5      5.0\n",
       "6      6.0\n",
       "7      7.0\n",
       "8      8.0\n",
       "9      9.0\n",
       "10    10.0\n",
       "dtype: float64"
      ]
     },
     "execution_count": 6,
     "metadata": {},
     "output_type": "execute_result"
    }
   ],
   "source": [
    "# Again, the syntax for creating a pandas series is pd.Series(data,index)\n",
    "\n",
    "# Creating a pandas series from numpy array\n",
    "my_array = np.linspace(0,10,11)\n",
    "ds = pd.Series(my_array)\n",
    "print(my_array)\n",
    "print(80*'-')\n",
    "ds # Pandas series prints the index and values (unlike numpy array)"
   ]
  },
  {
   "cell_type": "code",
   "execution_count": 11,
   "metadata": {},
   "outputs": [],
   "source": [
    "# Playing around with the index\n",
    "my_array  = np.linspace(0,10,11)\n",
    "my_index1 = np.linspace(10,20,11)\n",
    "my_index2 = np.linspace(100,110,11)\n",
    "ds1 = pd.Series(data=my_array,index=my_index1)\n",
    "ds2 = pd.Series(data=my_array,index=my_index1) # Two series with same vlaues but different index"
   ]
  },
  {
   "cell_type": "code",
   "execution_count": 12,
   "metadata": {},
   "outputs": [
    {
     "data": {
      "text/plain": [
       "10.0     0.0\n",
       "11.0     1.0\n",
       "12.0     2.0\n",
       "13.0     3.0\n",
       "14.0     4.0\n",
       "15.0     5.0\n",
       "16.0     6.0\n",
       "17.0     7.0\n",
       "18.0     8.0\n",
       "19.0     9.0\n",
       "20.0    10.0\n",
       "dtype: float64"
      ]
     },
     "execution_count": 12,
     "metadata": {},
     "output_type": "execute_result"
    }
   ],
   "source": [
    "ds1"
   ]
  },
  {
   "cell_type": "code",
   "execution_count": 13,
   "metadata": {},
   "outputs": [
    {
     "data": {
      "text/plain": [
       "10.0     0.0\n",
       "11.0     1.0\n",
       "12.0     2.0\n",
       "13.0     3.0\n",
       "14.0     4.0\n",
       "15.0     5.0\n",
       "16.0     6.0\n",
       "17.0     7.0\n",
       "18.0     8.0\n",
       "19.0     9.0\n",
       "20.0    10.0\n",
       "dtype: float64"
      ]
     },
     "execution_count": 13,
     "metadata": {},
     "output_type": "execute_result"
    }
   ],
   "source": [
    "ds2"
   ]
  },
  {
   "cell_type": "code",
   "execution_count": 16,
   "metadata": {},
   "outputs": [
    {
     "data": {
      "text/plain": [
       "10.0    True\n",
       "11.0    True\n",
       "12.0    True\n",
       "13.0    True\n",
       "14.0    True\n",
       "15.0    True\n",
       "16.0    True\n",
       "17.0    True\n",
       "18.0    True\n",
       "19.0    True\n",
       "20.0    True\n",
       "dtype: bool"
      ]
     },
     "execution_count": 16,
     "metadata": {},
     "output_type": "execute_result"
    }
   ],
   "source": [
    "# You can not compare the two dataframes (due to different indexes they are two different dataframes)\n",
    "# For two pandas series to be comparable, they must be identical in all respects (index and values)\n",
    "(ds1 == ds2)"
   ]
  },
  {
   "cell_type": "code",
   "execution_count": 17,
   "metadata": {},
   "outputs": [
    {
     "data": {
      "text/plain": [
       "A    1\n",
       "B    2\n",
       "C    3\n",
       "D    4\n",
       "dtype: int32"
      ]
     },
     "execution_count": 17,
     "metadata": {},
     "output_type": "execute_result"
    }
   ],
   "source": [
    "# Index can take any name (not only restricted to numbers)\n",
    "my_array3 = np.array([1,2,3,4])\n",
    "my_index3 = [\"A B C D\".split()]\n",
    "ds3 = pd.Series(data=my_array3,index=my_index3)\n",
    "ds3"
   ]
  },
  {
   "cell_type": "code",
   "execution_count": 37,
   "metadata": {},
   "outputs": [
    {
     "data": {
      "text/plain": [
       "A    1\n",
       "B    2\n",
       "B    3\n",
       "C    4\n",
       "dtype: int32"
      ]
     },
     "execution_count": 37,
     "metadata": {},
     "output_type": "execute_result"
    }
   ],
   "source": [
    "# Can we have the same index across two rows?\n",
    "my_array3 = np.array([1,2,3,4])\n",
    "my_index3 = [\"A B B C\".split()]\n",
    "ds3 = pd.Series(data=my_array3,index=my_index3)\n",
    "ds3"
   ]
  },
  {
   "cell_type": "code",
   "execution_count": 44,
   "metadata": {},
   "outputs": [
    {
     "data": {
      "text/plain": [
       "(2794088006768, 2794087958120)"
      ]
     },
     "execution_count": 44,
     "metadata": {},
     "output_type": "execute_result"
    }
   ],
   "source": [
    "# What happens when we select index \"B\"\n",
    "id(ds3.loc[\"B\"]),id(ds3)"
   ]
  },
  {
   "cell_type": "code",
   "execution_count": 20,
   "metadata": {},
   "outputs": [],
   "source": [
    "# Creating two pandas series with different indices \n",
    "my_array3 = np.array([1,2,3,4])\n",
    "my_index3 = [\"A B C D\".split()]\n",
    "ds3 = pd.Series(data=my_array3,index=my_index3)\n",
    "\n",
    "my_array4 = np.array([1,2,3,4])\n",
    "my_index4 = [\"B C D E\".split()]\n",
    "ds4 = pd.Series(data=my_array4,index=my_index4)"
   ]
  },
  {
   "cell_type": "code",
   "execution_count": 46,
   "metadata": {},
   "outputs": [],
   "source": [
    "pd.Series?"
   ]
  },
  {
   "cell_type": "code",
   "execution_count": 22,
   "metadata": {},
   "outputs": [
    {
     "data": {
      "text/plain": [
       "B    1\n",
       "C    2\n",
       "D    3\n",
       "E    4\n",
       "dtype: int32"
      ]
     },
     "execution_count": 22,
     "metadata": {},
     "output_type": "execute_result"
    }
   ],
   "source": [
    "ds4"
   ]
  },
  {
   "cell_type": "code",
   "execution_count": 23,
   "metadata": {},
   "outputs": [
    {
     "data": {
      "text/plain": [
       "A    NaN\n",
       "B    3.0\n",
       "C    5.0\n",
       "D    7.0\n",
       "E    NaN\n",
       "dtype: float64"
      ]
     },
     "execution_count": 23,
     "metadata": {},
     "output_type": "execute_result"
    }
   ],
   "source": [
    "# When we try to add two series with different index values\n",
    "ds3+ds4"
   ]
  },
  {
   "cell_type": "code",
   "execution_count": 25,
   "metadata": {},
   "outputs": [
    {
     "data": {
      "text/plain": [
       "float"
      ]
     },
     "execution_count": 25,
     "metadata": {},
     "output_type": "execute_result"
    }
   ],
   "source": [
    "# What is NaN (arithmetic operations on nan)\n",
    "np.nan\n",
    "type(np.nan) "
   ]
  },
  {
   "cell_type": "code",
   "execution_count": 32,
   "metadata": {},
   "outputs": [
    {
     "name": "stdout",
     "output_type": "stream",
     "text": [
      "<class 'pandas.core.series.Series'>\n",
      "A    1\n",
      "B    2\n",
      "C    3\n",
      "D    4\n",
      "dtype: int32\n"
     ]
    },
    {
     "data": {
      "text/plain": [
       "0    1\n",
       "1    2\n",
       "2    3\n",
       "3    4\n",
       "dtype: int32"
      ]
     },
     "execution_count": 32,
     "metadata": {},
     "output_type": "execute_result"
    }
   ],
   "source": [
    "#Resetting index (a new object from a new class)\n",
    "print(type(ds))\n",
    "print(ds3)\n",
    "ds3.reset_index(drop=True)\n",
    "type(ds.reset_index())"
   ]
  },
  {
   "cell_type": "markdown",
   "metadata": {},
   "source": [
    "### Pandas Data Frames\n",
    "\n",
    "Recall that a numpy matrix was created by stacking numpy arrays. Similarly, a Pandas dataframe is constructed by stacking pandas series together."
   ]
  },
  {
   "cell_type": "code",
   "execution_count": 47,
   "metadata": {},
   "outputs": [
    {
     "data": {
      "text/plain": [
       "array([['Ronaldo', '2002', 'Brazil'],\n",
       "       ['Grosso', '2006', 'Italy'],\n",
       "       ['Iniesta', '2010', 'Spain'],\n",
       "       ['Gotze', '2014', 'Germany']], dtype='<U7')"
      ]
     },
     "execution_count": 47,
     "metadata": {},
     "output_type": "execute_result"
    }
   ],
   "source": [
    "# Visualizing our data through a numpy matrix first (numpy matrix is a stack of numpy ndarrays)\n",
    "my_matrix = np.array([['Ronaldo', 2002, 'Brazil'],\n",
    "                      ['Grosso', 2006, 'Italy'],\n",
    "                      ['Iniesta', 2010, 'Spain'],\n",
    "                      ['Gotze', 2014, 'Germany']])\n",
    "\n",
    "my_matrix"
   ]
  },
  {
   "cell_type": "code",
   "execution_count": 51,
   "metadata": {},
   "outputs": [
    {
     "data": {
      "text/html": [
       "<div>\n",
       "<style scoped>\n",
       "    .dataframe tbody tr th:only-of-type {\n",
       "        vertical-align: middle;\n",
       "    }\n",
       "\n",
       "    .dataframe tbody tr th {\n",
       "        vertical-align: top;\n",
       "    }\n",
       "\n",
       "    .dataframe thead th {\n",
       "        text-align: right;\n",
       "    }\n",
       "</style>\n",
       "<table border=\"1\" class=\"dataframe\">\n",
       "  <thead>\n",
       "    <tr style=\"text-align: right;\">\n",
       "      <th></th>\n",
       "      <th>Name</th>\n",
       "      <th>Score</th>\n",
       "      <th>Gender</th>\n",
       "    </tr>\n",
       "  </thead>\n",
       "  <tbody>\n",
       "    <tr>\n",
       "      <th>0</th>\n",
       "      <td>Andy</td>\n",
       "      <td>87</td>\n",
       "      <td>M</td>\n",
       "    </tr>\n",
       "    <tr>\n",
       "      <th>1</th>\n",
       "      <td>Bill</td>\n",
       "      <td>67</td>\n",
       "      <td>M</td>\n",
       "    </tr>\n",
       "    <tr>\n",
       "      <th>2</th>\n",
       "      <td>Catherine</td>\n",
       "      <td>93</td>\n",
       "      <td>F</td>\n",
       "    </tr>\n",
       "    <tr>\n",
       "      <th>3</th>\n",
       "      <td>David</td>\n",
       "      <td>95</td>\n",
       "      <td>M</td>\n",
       "    </tr>\n",
       "    <tr>\n",
       "      <th>4</th>\n",
       "      <td>Emma</td>\n",
       "      <td>50</td>\n",
       "      <td>F</td>\n",
       "    </tr>\n",
       "  </tbody>\n",
       "</table>\n",
       "</div>"
      ],
      "text/plain": [
       "        Name  Score Gender\n",
       "0       Andy     87      M\n",
       "1       Bill     67      M\n",
       "2  Catherine     93      F\n",
       "3      David     95      M\n",
       "4       Emma     50      F"
      ]
     },
     "execution_count": 51,
     "metadata": {},
     "output_type": "execute_result"
    }
   ],
   "source": [
    "# Creating a pandas dataframe from scratch \n",
    "df = pd.DataFrame([['Andy', 87, 'M'],\n",
    "                   ['Bill', 67, 'M'],\n",
    "                   ['Catherine', 93, 'F'],\n",
    "                   ['David', 95, 'M'],\n",
    "                   ['Emma', 50, 'F']],\n",
    "                  columns=['Name', 'Score', 'Gender'])\n",
    "\n",
    "df"
   ]
  },
  {
   "cell_type": "code",
   "execution_count": 49,
   "metadata": {},
   "outputs": [
    {
     "data": {
      "text/plain": [
       "pandas.core.frame.DataFrame"
      ]
     },
     "execution_count": 49,
     "metadata": {},
     "output_type": "execute_result"
    }
   ],
   "source": [
    "type(df)"
   ]
  },
  {
   "cell_type": "code",
   "execution_count": 62,
   "metadata": {},
   "outputs": [
    {
     "data": {
      "text/html": [
       "<div>\n",
       "<style scoped>\n",
       "    .dataframe tbody tr th:only-of-type {\n",
       "        vertical-align: middle;\n",
       "    }\n",
       "\n",
       "    .dataframe tbody tr th {\n",
       "        vertical-align: top;\n",
       "    }\n",
       "\n",
       "    .dataframe thead th {\n",
       "        text-align: right;\n",
       "    }\n",
       "</style>\n",
       "<table border=\"1\" class=\"dataframe\">\n",
       "  <thead>\n",
       "    <tr style=\"text-align: right;\">\n",
       "      <th></th>\n",
       "      <th>Score</th>\n",
       "      <th>Name</th>\n",
       "    </tr>\n",
       "  </thead>\n",
       "  <tbody>\n",
       "    <tr>\n",
       "      <th>0</th>\n",
       "      <td>87</td>\n",
       "      <td>Andy</td>\n",
       "    </tr>\n",
       "    <tr>\n",
       "      <th>1</th>\n",
       "      <td>67</td>\n",
       "      <td>Bill</td>\n",
       "    </tr>\n",
       "    <tr>\n",
       "      <th>2</th>\n",
       "      <td>93</td>\n",
       "      <td>Catherine</td>\n",
       "    </tr>\n",
       "    <tr>\n",
       "      <th>3</th>\n",
       "      <td>95</td>\n",
       "      <td>David</td>\n",
       "    </tr>\n",
       "    <tr>\n",
       "      <th>4</th>\n",
       "      <td>50</td>\n",
       "      <td>Emma</td>\n",
       "    </tr>\n",
       "  </tbody>\n",
       "</table>\n",
       "</div>"
      ],
      "text/plain": [
       "   Score       Name\n",
       "0     87       Andy\n",
       "1     67       Bill\n",
       "2     93  Catherine\n",
       "3     95      David\n",
       "4     50       Emma"
      ]
     },
     "execution_count": 62,
     "metadata": {},
     "output_type": "execute_result"
    }
   ],
   "source": [
    "# Selecting a column\n",
    "df[['Score','Name']]"
   ]
  },
  {
   "cell_type": "code",
   "execution_count": 53,
   "metadata": {},
   "outputs": [
    {
     "data": {
      "text/plain": [
       "0    87\n",
       "1    67\n",
       "2    93\n",
       "3    95\n",
       "4    50\n",
       "Name: Score, dtype: int64"
      ]
     },
     "execution_count": 53,
     "metadata": {},
     "output_type": "execute_result"
    }
   ],
   "source": [
    "# SQL way of selecting data (not the recommended way - not considered good a programming practice)\n",
    "df.Score"
   ]
  },
  {
   "cell_type": "code",
   "execution_count": 63,
   "metadata": {},
   "outputs": [
    {
     "data": {
      "text/html": [
       "<div>\n",
       "<style scoped>\n",
       "    .dataframe tbody tr th:only-of-type {\n",
       "        vertical-align: middle;\n",
       "    }\n",
       "\n",
       "    .dataframe tbody tr th {\n",
       "        vertical-align: top;\n",
       "    }\n",
       "\n",
       "    .dataframe thead th {\n",
       "        text-align: right;\n",
       "    }\n",
       "</style>\n",
       "<table border=\"1\" class=\"dataframe\">\n",
       "  <thead>\n",
       "    <tr style=\"text-align: right;\">\n",
       "      <th></th>\n",
       "      <th>Name</th>\n",
       "      <th>Score</th>\n",
       "      <th>Gender</th>\n",
       "    </tr>\n",
       "  </thead>\n",
       "  <tbody>\n",
       "    <tr>\n",
       "      <th>0</th>\n",
       "      <td>Andy</td>\n",
       "      <td>87</td>\n",
       "      <td>M</td>\n",
       "    </tr>\n",
       "    <tr>\n",
       "      <th>1</th>\n",
       "      <td>Bill</td>\n",
       "      <td>67</td>\n",
       "      <td>M</td>\n",
       "    </tr>\n",
       "    <tr>\n",
       "      <th>2</th>\n",
       "      <td>Catherine</td>\n",
       "      <td>93</td>\n",
       "      <td>F</td>\n",
       "    </tr>\n",
       "    <tr>\n",
       "      <th>3</th>\n",
       "      <td>David</td>\n",
       "      <td>95</td>\n",
       "      <td>M</td>\n",
       "    </tr>\n",
       "    <tr>\n",
       "      <th>4</th>\n",
       "      <td>Emma</td>\n",
       "      <td>50</td>\n",
       "      <td>F</td>\n",
       "    </tr>\n",
       "  </tbody>\n",
       "</table>\n",
       "</div>"
      ],
      "text/plain": [
       "        Name  Score Gender\n",
       "0       Andy     87      M\n",
       "1       Bill     67      M\n",
       "2  Catherine     93      F\n",
       "3      David     95      M\n",
       "4       Emma     50      F"
      ]
     },
     "execution_count": 63,
     "metadata": {},
     "output_type": "execute_result"
    }
   ],
   "source": [
    "# Selecting two columns (spot the difference)\n",
    "df"
   ]
  },
  {
   "cell_type": "code",
   "execution_count": 65,
   "metadata": {},
   "outputs": [
    {
     "data": {
      "text/html": [
       "<div>\n",
       "<style scoped>\n",
       "    .dataframe tbody tr th:only-of-type {\n",
       "        vertical-align: middle;\n",
       "    }\n",
       "\n",
       "    .dataframe tbody tr th {\n",
       "        vertical-align: top;\n",
       "    }\n",
       "\n",
       "    .dataframe thead th {\n",
       "        text-align: right;\n",
       "    }\n",
       "</style>\n",
       "<table border=\"1\" class=\"dataframe\">\n",
       "  <thead>\n",
       "    <tr style=\"text-align: right;\">\n",
       "      <th></th>\n",
       "      <th>Name</th>\n",
       "      <th>Gender</th>\n",
       "      <th>Score</th>\n",
       "    </tr>\n",
       "  </thead>\n",
       "  <tbody>\n",
       "    <tr>\n",
       "      <th>0</th>\n",
       "      <td>Andy</td>\n",
       "      <td>M</td>\n",
       "      <td>87</td>\n",
       "    </tr>\n",
       "    <tr>\n",
       "      <th>1</th>\n",
       "      <td>Bill</td>\n",
       "      <td>M</td>\n",
       "      <td>67</td>\n",
       "    </tr>\n",
       "    <tr>\n",
       "      <th>2</th>\n",
       "      <td>Catherine</td>\n",
       "      <td>F</td>\n",
       "      <td>93</td>\n",
       "    </tr>\n",
       "    <tr>\n",
       "      <th>3</th>\n",
       "      <td>David</td>\n",
       "      <td>M</td>\n",
       "      <td>95</td>\n",
       "    </tr>\n",
       "    <tr>\n",
       "      <th>4</th>\n",
       "      <td>Emma</td>\n",
       "      <td>F</td>\n",
       "      <td>50</td>\n",
       "    </tr>\n",
       "  </tbody>\n",
       "</table>\n",
       "</div>"
      ],
      "text/plain": [
       "        Name Gender  Score\n",
       "0       Andy      M     87\n",
       "1       Bill      M     67\n",
       "2  Catherine      F     93\n",
       "3      David      M     95\n",
       "4       Emma      F     50"
      ]
     },
     "execution_count": 65,
     "metadata": {},
     "output_type": "execute_result"
    }
   ],
   "source": [
    "# Rearranging the column order\n",
    "df = df[['Name','Gender','Score']] # not an inplace operation\n",
    "df"
   ]
  },
  {
   "cell_type": "code",
   "execution_count": 66,
   "metadata": {},
   "outputs": [
    {
     "data": {
      "text/plain": [
       "Name     Andy\n",
       "Score      87\n",
       "Name: 0, dtype: object"
      ]
     },
     "execution_count": 66,
     "metadata": {},
     "output_type": "execute_result"
    }
   ],
   "source": [
    "# Location operator - syntax is .loc[row,column]\n",
    "df.loc[0,[\"Name\",\"Score\"]]"
   ]
  },
  {
   "cell_type": "code",
   "execution_count": 67,
   "metadata": {},
   "outputs": [
    {
     "data": {
      "text/html": [
       "<div>\n",
       "<style scoped>\n",
       "    .dataframe tbody tr th:only-of-type {\n",
       "        vertical-align: middle;\n",
       "    }\n",
       "\n",
       "    .dataframe tbody tr th {\n",
       "        vertical-align: top;\n",
       "    }\n",
       "\n",
       "    .dataframe thead th {\n",
       "        text-align: right;\n",
       "    }\n",
       "</style>\n",
       "<table border=\"1\" class=\"dataframe\">\n",
       "  <thead>\n",
       "    <tr style=\"text-align: right;\">\n",
       "      <th></th>\n",
       "      <th>Name</th>\n",
       "      <th>Gender</th>\n",
       "      <th>Score</th>\n",
       "    </tr>\n",
       "  </thead>\n",
       "  <tbody>\n",
       "    <tr>\n",
       "      <th>0</th>\n",
       "      <td>Andy</td>\n",
       "      <td>M</td>\n",
       "      <td>92</td>\n",
       "    </tr>\n",
       "    <tr>\n",
       "      <th>1</th>\n",
       "      <td>Bill</td>\n",
       "      <td>M</td>\n",
       "      <td>67</td>\n",
       "    </tr>\n",
       "    <tr>\n",
       "      <th>2</th>\n",
       "      <td>Catherine</td>\n",
       "      <td>F</td>\n",
       "      <td>93</td>\n",
       "    </tr>\n",
       "    <tr>\n",
       "      <th>3</th>\n",
       "      <td>David</td>\n",
       "      <td>M</td>\n",
       "      <td>95</td>\n",
       "    </tr>\n",
       "    <tr>\n",
       "      <th>4</th>\n",
       "      <td>Emma</td>\n",
       "      <td>F</td>\n",
       "      <td>50</td>\n",
       "    </tr>\n",
       "  </tbody>\n",
       "</table>\n",
       "</div>"
      ],
      "text/plain": [
       "        Name Gender  Score\n",
       "0       Andy      M     92\n",
       "1       Bill      M     67\n",
       "2  Catherine      F     93\n",
       "3      David      M     95\n",
       "4       Emma      F     50"
      ]
     },
     "execution_count": 67,
     "metadata": {},
     "output_type": "execute_result"
    }
   ],
   "source": [
    "# Modifying data using the Location operator\n",
    "df.loc[0,\"Score\"] = 92\n",
    "df"
   ]
  },
  {
   "cell_type": "code",
   "execution_count": 70,
   "metadata": {},
   "outputs": [
    {
     "data": {
      "text/html": [
       "<div>\n",
       "<style scoped>\n",
       "    .dataframe tbody tr th:only-of-type {\n",
       "        vertical-align: middle;\n",
       "    }\n",
       "\n",
       "    .dataframe tbody tr th {\n",
       "        vertical-align: top;\n",
       "    }\n",
       "\n",
       "    .dataframe thead th {\n",
       "        text-align: right;\n",
       "    }\n",
       "</style>\n",
       "<table border=\"1\" class=\"dataframe\">\n",
       "  <thead>\n",
       "    <tr style=\"text-align: right;\">\n",
       "      <th></th>\n",
       "      <th>Name</th>\n",
       "      <th>Gender</th>\n",
       "      <th>Score</th>\n",
       "    </tr>\n",
       "  </thead>\n",
       "  <tbody>\n",
       "    <tr>\n",
       "      <th>A</th>\n",
       "      <td>Andy</td>\n",
       "      <td>M</td>\n",
       "      <td>92</td>\n",
       "    </tr>\n",
       "    <tr>\n",
       "      <th>B</th>\n",
       "      <td>Bill</td>\n",
       "      <td>M</td>\n",
       "      <td>67</td>\n",
       "    </tr>\n",
       "    <tr>\n",
       "      <th>C</th>\n",
       "      <td>Catherine</td>\n",
       "      <td>F</td>\n",
       "      <td>93</td>\n",
       "    </tr>\n",
       "    <tr>\n",
       "      <th>D</th>\n",
       "      <td>David</td>\n",
       "      <td>M</td>\n",
       "      <td>95</td>\n",
       "    </tr>\n",
       "    <tr>\n",
       "      <th>E</th>\n",
       "      <td>Emma</td>\n",
       "      <td>F</td>\n",
       "      <td>50</td>\n",
       "    </tr>\n",
       "  </tbody>\n",
       "</table>\n",
       "</div>"
      ],
      "text/plain": [
       "        Name Gender  Score\n",
       "A       Andy      M     92\n",
       "B       Bill      M     67\n",
       "C  Catherine      F     93\n",
       "D      David      M     95\n",
       "E       Emma      F     50"
      ]
     },
     "execution_count": 70,
     "metadata": {},
     "output_type": "execute_result"
    }
   ],
   "source": [
    "df"
   ]
  },
  {
   "cell_type": "code",
   "execution_count": 71,
   "metadata": {},
   "outputs": [
    {
     "data": {
      "text/plain": [
       "Name      Andy\n",
       "Gender       M\n",
       "Score       92\n",
       "Name: A, dtype: object"
      ]
     },
     "execution_count": 71,
     "metadata": {},
     "output_type": "execute_result"
    }
   ],
   "source": [
    "# Modifying the index and using the loc operator\n",
    "df.index = \"A B C D E\".split()\n",
    "df\n",
    "df.loc[\"A\",:]\n",
    "# error if we change A to 0"
   ]
  },
  {
   "cell_type": "code",
   "execution_count": 78,
   "metadata": {},
   "outputs": [
    {
     "data": {
      "text/plain": [
       "A    92\n",
       "B    67\n",
       "C    93\n",
       "D    95\n",
       "E    50\n",
       "Name: Score, dtype: int64"
      ]
     },
     "execution_count": 78,
     "metadata": {},
     "output_type": "execute_result"
    }
   ],
   "source": [
    "df['Score']"
   ]
  },
  {
   "cell_type": "code",
   "execution_count": 82,
   "metadata": {},
   "outputs": [
    {
     "data": {
      "text/plain": [
       "0    1\n",
       "1    2\n",
       "dtype: int32"
      ]
     },
     "execution_count": 82,
     "metadata": {},
     "output_type": "execute_result"
    }
   ],
   "source": [
    "df1 = pd.DataFrame([['A',1],['B',2]])\n",
    "ds1 = pd.Series(np.array([1,2]))\n",
    "ds1"
   ]
  },
  {
   "cell_type": "code",
   "execution_count": 75,
   "metadata": {},
   "outputs": [
    {
     "data": {
      "text/plain": [
       "A    M\n",
       "B    M\n",
       "C    F\n",
       "D    M\n",
       "E    F\n",
       "Name: Gender, dtype: object"
      ]
     },
     "execution_count": 75,
     "metadata": {},
     "output_type": "execute_result"
    }
   ],
   "source": [
    "# Showing column with iloc\n",
    "df.iloc[:,1] # Rows and columns in iloc have to be integers (names will give an error)"
   ]
  },
  {
   "cell_type": "code",
   "execution_count": 77,
   "metadata": {},
   "outputs": [
    {
     "data": {
      "text/html": [
       "<div>\n",
       "<style scoped>\n",
       "    .dataframe tbody tr th:only-of-type {\n",
       "        vertical-align: middle;\n",
       "    }\n",
       "\n",
       "    .dataframe tbody tr th {\n",
       "        vertical-align: top;\n",
       "    }\n",
       "\n",
       "    .dataframe thead th {\n",
       "        text-align: right;\n",
       "    }\n",
       "</style>\n",
       "<table border=\"1\" class=\"dataframe\">\n",
       "  <thead>\n",
       "    <tr style=\"text-align: right;\">\n",
       "      <th></th>\n",
       "      <th>Name</th>\n",
       "      <th>Gender</th>\n",
       "      <th>Score</th>\n",
       "    </tr>\n",
       "  </thead>\n",
       "  <tbody>\n",
       "    <tr>\n",
       "      <th>A</th>\n",
       "      <td>Andy</td>\n",
       "      <td>M</td>\n",
       "      <td>92</td>\n",
       "    </tr>\n",
       "    <tr>\n",
       "      <th>C</th>\n",
       "      <td>Catherine</td>\n",
       "      <td>F</td>\n",
       "      <td>93</td>\n",
       "    </tr>\n",
       "    <tr>\n",
       "      <th>D</th>\n",
       "      <td>David</td>\n",
       "      <td>M</td>\n",
       "      <td>95</td>\n",
       "    </tr>\n",
       "  </tbody>\n",
       "</table>\n",
       "</div>"
      ],
      "text/plain": [
       "        Name Gender  Score\n",
       "A       Andy      M     92\n",
       "C  Catherine      F     93\n",
       "D      David      M     95"
      ]
     },
     "execution_count": 77,
     "metadata": {},
     "output_type": "execute_result"
    }
   ],
   "source": [
    "# When a series is compared to a constant (similar to numpy)\n",
    "df[df['Score']>90]"
   ]
  },
  {
   "cell_type": "code",
   "execution_count": null,
   "metadata": {},
   "outputs": [],
   "source": []
  },
  {
   "cell_type": "markdown",
   "metadata": {},
   "source": [
    "### DataFrame Operations"
   ]
  },
  {
   "cell_type": "code",
   "execution_count": 94,
   "metadata": {
    "scrolled": true
   },
   "outputs": [
    {
     "data": {
      "text/html": [
       "<div>\n",
       "<style scoped>\n",
       "    .dataframe tbody tr th:only-of-type {\n",
       "        vertical-align: middle;\n",
       "    }\n",
       "\n",
       "    .dataframe tbody tr th {\n",
       "        vertical-align: top;\n",
       "    }\n",
       "\n",
       "    .dataframe thead th {\n",
       "        text-align: right;\n",
       "    }\n",
       "</style>\n",
       "<table border=\"1\" class=\"dataframe\">\n",
       "  <thead>\n",
       "    <tr style=\"text-align: right;\">\n",
       "      <th></th>\n",
       "      <th>stock_name</th>\n",
       "      <th>price</th>\n",
       "      <th>shares</th>\n",
       "      <th>market_cap</th>\n",
       "    </tr>\n",
       "  </thead>\n",
       "  <tbody>\n",
       "    <tr>\n",
       "      <th>0</th>\n",
       "      <td>stock1</td>\n",
       "      <td>50</td>\n",
       "      <td>1000</td>\n",
       "      <td>50000</td>\n",
       "    </tr>\n",
       "    <tr>\n",
       "      <th>1</th>\n",
       "      <td>stock2</td>\n",
       "      <td>75</td>\n",
       "      <td>900</td>\n",
       "      <td>67500</td>\n",
       "    </tr>\n",
       "    <tr>\n",
       "      <th>2</th>\n",
       "      <td>stock3</td>\n",
       "      <td>125</td>\n",
       "      <td>400</td>\n",
       "      <td>50000</td>\n",
       "    </tr>\n",
       "  </tbody>\n",
       "</table>\n",
       "</div>"
      ],
      "text/plain": [
       "  stock_name  price  shares  market_cap\n",
       "0     stock1     50    1000       50000\n",
       "1     stock2     75     900       67500\n",
       "2     stock3    125     400       50000"
      ]
     },
     "execution_count": 94,
     "metadata": {},
     "output_type": "execute_result"
    }
   ],
   "source": [
    "# Creating a new column\n",
    "df = pd.DataFrame([['stock1',50,1000],\n",
    "                   ['stock2',75,900],\n",
    "                   ['stock3',125,400]],columns=['stock_name','price','shares'])\n",
    "df\n",
    "df['market_cap'] = df['price']*df['shares']\n",
    "df"
   ]
  },
  {
   "cell_type": "code",
   "execution_count": 89,
   "metadata": {},
   "outputs": [
    {
     "data": {
      "text/plain": [
       "167500"
      ]
     },
     "execution_count": 89,
     "metadata": {},
     "output_type": "execute_result"
    }
   ],
   "source": [
    "# Sum function can be called on the series (and on the dataframe)\n",
    "df['market_cap'].sum()"
   ]
  },
  {
   "cell_type": "code",
   "execution_count": 90,
   "metadata": {},
   "outputs": [
    {
     "data": {
      "text/html": [
       "<div>\n",
       "<style scoped>\n",
       "    .dataframe tbody tr th:only-of-type {\n",
       "        vertical-align: middle;\n",
       "    }\n",
       "\n",
       "    .dataframe tbody tr th {\n",
       "        vertical-align: top;\n",
       "    }\n",
       "\n",
       "    .dataframe thead th {\n",
       "        text-align: right;\n",
       "    }\n",
       "</style>\n",
       "<table border=\"1\" class=\"dataframe\">\n",
       "  <thead>\n",
       "    <tr style=\"text-align: right;\">\n",
       "      <th></th>\n",
       "      <th>stock_name</th>\n",
       "      <th>price</th>\n",
       "      <th>shares</th>\n",
       "      <th>market_cap</th>\n",
       "      <th>pe_ratio</th>\n",
       "    </tr>\n",
       "  </thead>\n",
       "  <tbody>\n",
       "    <tr>\n",
       "      <th>0</th>\n",
       "      <td>stock1</td>\n",
       "      <td>50</td>\n",
       "      <td>1000</td>\n",
       "      <td>50000</td>\n",
       "      <td>0</td>\n",
       "    </tr>\n",
       "    <tr>\n",
       "      <th>1</th>\n",
       "      <td>stock2</td>\n",
       "      <td>75</td>\n",
       "      <td>900</td>\n",
       "      <td>67500</td>\n",
       "      <td>0</td>\n",
       "    </tr>\n",
       "    <tr>\n",
       "      <th>2</th>\n",
       "      <td>stock3</td>\n",
       "      <td>125</td>\n",
       "      <td>400</td>\n",
       "      <td>50000</td>\n",
       "      <td>0</td>\n",
       "    </tr>\n",
       "  </tbody>\n",
       "</table>\n",
       "</div>"
      ],
      "text/plain": [
       "  stock_name  price  shares  market_cap  pe_ratio\n",
       "0     stock1     50    1000       50000         0\n",
       "1     stock2     75     900       67500         0\n",
       "2     stock3    125     400       50000         0"
      ]
     },
     "execution_count": 90,
     "metadata": {},
     "output_type": "execute_result"
    }
   ],
   "source": [
    "# Create an empty dataframe column by broadcasting\n",
    "df['pe_ratio'] = 0\n",
    "df"
   ]
  },
  {
   "cell_type": "code",
   "execution_count": 92,
   "metadata": {},
   "outputs": [
    {
     "data": {
      "text/html": [
       "<div>\n",
       "<style scoped>\n",
       "    .dataframe tbody tr th:only-of-type {\n",
       "        vertical-align: middle;\n",
       "    }\n",
       "\n",
       "    .dataframe tbody tr th {\n",
       "        vertical-align: top;\n",
       "    }\n",
       "\n",
       "    .dataframe thead th {\n",
       "        text-align: right;\n",
       "    }\n",
       "</style>\n",
       "<table border=\"1\" class=\"dataframe\">\n",
       "  <thead>\n",
       "    <tr style=\"text-align: right;\">\n",
       "      <th></th>\n",
       "      <th>stock_name</th>\n",
       "      <th>price</th>\n",
       "      <th>shares</th>\n",
       "      <th>pe_ratio</th>\n",
       "    </tr>\n",
       "  </thead>\n",
       "  <tbody>\n",
       "    <tr>\n",
       "      <th>0</th>\n",
       "      <td>stock1</td>\n",
       "      <td>50</td>\n",
       "      <td>1000</td>\n",
       "      <td>0</td>\n",
       "    </tr>\n",
       "    <tr>\n",
       "      <th>1</th>\n",
       "      <td>stock2</td>\n",
       "      <td>75</td>\n",
       "      <td>900</td>\n",
       "      <td>0</td>\n",
       "    </tr>\n",
       "    <tr>\n",
       "      <th>2</th>\n",
       "      <td>stock3</td>\n",
       "      <td>125</td>\n",
       "      <td>400</td>\n",
       "      <td>0</td>\n",
       "    </tr>\n",
       "  </tbody>\n",
       "</table>\n",
       "</div>"
      ],
      "text/plain": [
       "  stock_name  price  shares  pe_ratio\n",
       "0     stock1     50    1000         0\n",
       "1     stock2     75     900         0\n",
       "2     stock3    125     400         0"
      ]
     },
     "execution_count": 92,
     "metadata": {},
     "output_type": "execute_result"
    }
   ],
   "source": [
    "# Dropping the market_cap column\n",
    "df.drop(columns=['market_cap'],inplace=True) # inplace=False is default\n",
    "df"
   ]
  },
  {
   "cell_type": "code",
   "execution_count": 93,
   "metadata": {},
   "outputs": [
    {
     "data": {
      "text/html": [
       "<div>\n",
       "<style scoped>\n",
       "    .dataframe tbody tr th:only-of-type {\n",
       "        vertical-align: middle;\n",
       "    }\n",
       "\n",
       "    .dataframe tbody tr th {\n",
       "        vertical-align: top;\n",
       "    }\n",
       "\n",
       "    .dataframe thead th {\n",
       "        text-align: right;\n",
       "    }\n",
       "</style>\n",
       "<table border=\"1\" class=\"dataframe\">\n",
       "  <thead>\n",
       "    <tr style=\"text-align: right;\">\n",
       "      <th></th>\n",
       "      <th>stock_name</th>\n",
       "      <th>price</th>\n",
       "      <th>shares</th>\n",
       "      <th>pe_ratio</th>\n",
       "    </tr>\n",
       "  </thead>\n",
       "  <tbody>\n",
       "    <tr>\n",
       "      <th>1</th>\n",
       "      <td>stock2</td>\n",
       "      <td>75</td>\n",
       "      <td>900</td>\n",
       "      <td>0</td>\n",
       "    </tr>\n",
       "    <tr>\n",
       "      <th>2</th>\n",
       "      <td>stock3</td>\n",
       "      <td>125</td>\n",
       "      <td>400</td>\n",
       "      <td>0</td>\n",
       "    </tr>\n",
       "  </tbody>\n",
       "</table>\n",
       "</div>"
      ],
      "text/plain": [
       "  stock_name  price  shares  pe_ratio\n",
       "1     stock2     75     900         0\n",
       "2     stock3    125     400         0"
      ]
     },
     "execution_count": 93,
     "metadata": {},
     "output_type": "execute_result"
    }
   ],
   "source": [
    "# Dropping rows\n",
    "df.drop(0,inplace=True) # not an inplace opearator\n",
    "df"
   ]
  },
  {
   "cell_type": "code",
   "execution_count": 99,
   "metadata": {},
   "outputs": [
    {
     "data": {
      "text/html": [
       "<div>\n",
       "<style scoped>\n",
       "    .dataframe tbody tr th:only-of-type {\n",
       "        vertical-align: middle;\n",
       "    }\n",
       "\n",
       "    .dataframe tbody tr th {\n",
       "        vertical-align: top;\n",
       "    }\n",
       "\n",
       "    .dataframe thead th {\n",
       "        text-align: right;\n",
       "    }\n",
       "</style>\n",
       "<table border=\"1\" class=\"dataframe\">\n",
       "  <thead>\n",
       "    <tr style=\"text-align: right;\">\n",
       "      <th></th>\n",
       "      <th>stock_name</th>\n",
       "      <th>price</th>\n",
       "      <th>shares</th>\n",
       "      <th>market_cap</th>\n",
       "    </tr>\n",
       "  </thead>\n",
       "  <tbody>\n",
       "    <tr>\n",
       "      <th>0</th>\n",
       "      <td>stock3</td>\n",
       "      <td>125</td>\n",
       "      <td>400</td>\n",
       "      <td>50000</td>\n",
       "    </tr>\n",
       "    <tr>\n",
       "      <th>1</th>\n",
       "      <td>stock2</td>\n",
       "      <td>75</td>\n",
       "      <td>900</td>\n",
       "      <td>67500</td>\n",
       "    </tr>\n",
       "    <tr>\n",
       "      <th>2</th>\n",
       "      <td>stock1</td>\n",
       "      <td>50</td>\n",
       "      <td>1000</td>\n",
       "      <td>50000</td>\n",
       "    </tr>\n",
       "  </tbody>\n",
       "</table>\n",
       "</div>"
      ],
      "text/plain": [
       "  stock_name  price  shares  market_cap\n",
       "0     stock3    125     400       50000\n",
       "1     stock2     75     900       67500\n",
       "2     stock1     50    1000       50000"
      ]
     },
     "execution_count": 99,
     "metadata": {},
     "output_type": "execute_result"
    }
   ],
   "source": [
    "# Sorting the dataframe on outstanding shares\n",
    "df.sort_values(by=['shares']).reset_index(drop=True)"
   ]
  },
  {
   "cell_type": "code",
   "execution_count": 100,
   "metadata": {},
   "outputs": [
    {
     "data": {
      "text/html": [
       "<div>\n",
       "<style scoped>\n",
       "    .dataframe tbody tr th:only-of-type {\n",
       "        vertical-align: middle;\n",
       "    }\n",
       "\n",
       "    .dataframe tbody tr th {\n",
       "        vertical-align: top;\n",
       "    }\n",
       "\n",
       "    .dataframe thead th {\n",
       "        text-align: right;\n",
       "    }\n",
       "</style>\n",
       "<table border=\"1\" class=\"dataframe\">\n",
       "  <thead>\n",
       "    <tr style=\"text-align: right;\">\n",
       "      <th></th>\n",
       "      <th>price</th>\n",
       "      <th>shares</th>\n",
       "      <th>market_cap</th>\n",
       "    </tr>\n",
       "    <tr>\n",
       "      <th>stock_name</th>\n",
       "      <th></th>\n",
       "      <th></th>\n",
       "      <th></th>\n",
       "    </tr>\n",
       "  </thead>\n",
       "  <tbody>\n",
       "    <tr>\n",
       "      <th>stock1</th>\n",
       "      <td>50</td>\n",
       "      <td>1000</td>\n",
       "      <td>50000</td>\n",
       "    </tr>\n",
       "    <tr>\n",
       "      <th>stock2</th>\n",
       "      <td>75</td>\n",
       "      <td>900</td>\n",
       "      <td>67500</td>\n",
       "    </tr>\n",
       "    <tr>\n",
       "      <th>stock3</th>\n",
       "      <td>125</td>\n",
       "      <td>400</td>\n",
       "      <td>50000</td>\n",
       "    </tr>\n",
       "  </tbody>\n",
       "</table>\n",
       "</div>"
      ],
      "text/plain": [
       "            price  shares  market_cap\n",
       "stock_name                           \n",
       "stock1         50    1000       50000\n",
       "stock2         75     900       67500\n",
       "stock3        125     400       50000"
      ]
     },
     "execution_count": 100,
     "metadata": {},
     "output_type": "execute_result"
    }
   ],
   "source": [
    "# Setting index\n",
    "df = df.set_index('stock_name')\n",
    "df"
   ]
  },
  {
   "cell_type": "code",
   "execution_count": 101,
   "metadata": {},
   "outputs": [
    {
     "data": {
      "text/html": [
       "<div>\n",
       "<style scoped>\n",
       "    .dataframe tbody tr th:only-of-type {\n",
       "        vertical-align: middle;\n",
       "    }\n",
       "\n",
       "    .dataframe tbody tr th {\n",
       "        vertical-align: top;\n",
       "    }\n",
       "\n",
       "    .dataframe thead th {\n",
       "        text-align: right;\n",
       "    }\n",
       "</style>\n",
       "<table border=\"1\" class=\"dataframe\">\n",
       "  <thead>\n",
       "    <tr style=\"text-align: right;\">\n",
       "      <th></th>\n",
       "      <th>stock_name</th>\n",
       "      <th>price</th>\n",
       "      <th>shares</th>\n",
       "      <th>market_cap</th>\n",
       "    </tr>\n",
       "  </thead>\n",
       "  <tbody>\n",
       "    <tr>\n",
       "      <th>0</th>\n",
       "      <td>stock1</td>\n",
       "      <td>50</td>\n",
       "      <td>1000</td>\n",
       "      <td>50000</td>\n",
       "    </tr>\n",
       "    <tr>\n",
       "      <th>1</th>\n",
       "      <td>stock2</td>\n",
       "      <td>75</td>\n",
       "      <td>900</td>\n",
       "      <td>67500</td>\n",
       "    </tr>\n",
       "    <tr>\n",
       "      <th>2</th>\n",
       "      <td>stock3</td>\n",
       "      <td>125</td>\n",
       "      <td>400</td>\n",
       "      <td>50000</td>\n",
       "    </tr>\n",
       "  </tbody>\n",
       "</table>\n",
       "</div>"
      ],
      "text/plain": [
       "  stock_name  price  shares  market_cap\n",
       "0     stock1     50    1000       50000\n",
       "1     stock2     75     900       67500\n",
       "2     stock3    125     400       50000"
      ]
     },
     "execution_count": 101,
     "metadata": {},
     "output_type": "execute_result"
    }
   ],
   "source": [
    "# Resetting index\n",
    "df = df.reset_index()\n",
    "df"
   ]
  },
  {
   "cell_type": "code",
   "execution_count": 102,
   "metadata": {},
   "outputs": [
    {
     "data": {
      "text/html": [
       "<div>\n",
       "<style scoped>\n",
       "    .dataframe tbody tr th:only-of-type {\n",
       "        vertical-align: middle;\n",
       "    }\n",
       "\n",
       "    .dataframe tbody tr th {\n",
       "        vertical-align: top;\n",
       "    }\n",
       "\n",
       "    .dataframe thead tr th {\n",
       "        text-align: left;\n",
       "    }\n",
       "</style>\n",
       "<table border=\"1\" class=\"dataframe\">\n",
       "  <thead>\n",
       "    <tr>\n",
       "      <th></th>\n",
       "      <th>A</th>\n",
       "      <th>B</th>\n",
       "      <th>C</th>\n",
       "    </tr>\n",
       "  </thead>\n",
       "  <tbody>\n",
       "    <tr>\n",
       "      <th>0</th>\n",
       "      <td>0.0</td>\n",
       "      <td>1.0</td>\n",
       "      <td>2.0</td>\n",
       "    </tr>\n",
       "    <tr>\n",
       "      <th>1</th>\n",
       "      <td>3.0</td>\n",
       "      <td>4.0</td>\n",
       "      <td>5.0</td>\n",
       "    </tr>\n",
       "    <tr>\n",
       "      <th>2</th>\n",
       "      <td>6.0</td>\n",
       "      <td>7.0</td>\n",
       "      <td>8.0</td>\n",
       "    </tr>\n",
       "  </tbody>\n",
       "</table>\n",
       "</div>"
      ],
      "text/plain": [
       "     A    B    C\n",
       "0  0.0  1.0  2.0\n",
       "1  3.0  4.0  5.0\n",
       "2  6.0  7.0  8.0"
      ]
     },
     "execution_count": 102,
     "metadata": {},
     "output_type": "execute_result"
    }
   ],
   "source": [
    "# Creating a dataframe \n",
    "df = pd.DataFrame(np.linspace(0,8,9).reshape(3,3),columns=['A B C'.split()])\n",
    "df"
   ]
  },
  {
   "cell_type": "code",
   "execution_count": 104,
   "metadata": {},
   "outputs": [
    {
     "data": {
      "text/plain": [
       "0     3.0\n",
       "1    12.0\n",
       "2    21.0\n",
       "dtype: float64"
      ]
     },
     "execution_count": 104,
     "metadata": {},
     "output_type": "execute_result"
    }
   ],
   "source": [
    "# Sum function \n",
    "df.sum(axis=1)"
   ]
  },
  {
   "cell_type": "markdown",
   "metadata": {},
   "source": [
    "### Data Analysis"
   ]
  },
  {
   "cell_type": "code",
   "execution_count": 180,
   "metadata": {},
   "outputs": [
    {
     "data": {
      "text/plain": [
       "(2960, 6)"
      ]
     },
     "execution_count": 180,
     "metadata": {},
     "output_type": "execute_result"
    }
   ],
   "source": [
    "# Loading panel data through pandas\n",
    "df = pd.read_csv(\"stock_data.csv\")\n",
    "df.shape"
   ]
  },
  {
   "cell_type": "code",
   "execution_count": 181,
   "metadata": {},
   "outputs": [
    {
     "data": {
      "text/html": [
       "<div>\n",
       "<style scoped>\n",
       "    .dataframe tbody tr th:only-of-type {\n",
       "        vertical-align: middle;\n",
       "    }\n",
       "\n",
       "    .dataframe tbody tr th {\n",
       "        vertical-align: top;\n",
       "    }\n",
       "\n",
       "    .dataframe thead th {\n",
       "        text-align: right;\n",
       "    }\n",
       "</style>\n",
       "<table border=\"1\" class=\"dataframe\">\n",
       "  <thead>\n",
       "    <tr style=\"text-align: right;\">\n",
       "      <th></th>\n",
       "      <th>permno</th>\n",
       "      <th>company_name</th>\n",
       "      <th>date</th>\n",
       "      <th>total_returns</th>\n",
       "      <th>price</th>\n",
       "      <th>share_outstanding</th>\n",
       "    </tr>\n",
       "  </thead>\n",
       "  <tbody>\n",
       "    <tr>\n",
       "      <th>2950</th>\n",
       "      <td>10137</td>\n",
       "      <td>ALLEGHENY ENERGY INC</td>\n",
       "      <td>5/31/2010 0:00</td>\n",
       "      <td>-0.060606</td>\n",
       "      <td>20.46</td>\n",
       "      <td>169579</td>\n",
       "    </tr>\n",
       "    <tr>\n",
       "      <th>2951</th>\n",
       "      <td>10137</td>\n",
       "      <td>ALLEGHENY ENERGY INC</td>\n",
       "      <td>6/30/2010 0:00</td>\n",
       "      <td>0.018084</td>\n",
       "      <td>20.68</td>\n",
       "      <td>169579</td>\n",
       "    </tr>\n",
       "    <tr>\n",
       "      <th>2952</th>\n",
       "      <td>10137</td>\n",
       "      <td>ALLEGHENY ENERGY INC</td>\n",
       "      <td>7/31/2010 0:00</td>\n",
       "      <td>0.102514</td>\n",
       "      <td>22.8</td>\n",
       "      <td>169579</td>\n",
       "    </tr>\n",
       "    <tr>\n",
       "      <th>2953</th>\n",
       "      <td>10137</td>\n",
       "      <td>ALLEGHENY ENERGY INC</td>\n",
       "      <td>8/31/2010 0:00</td>\n",
       "      <td>-0.010965</td>\n",
       "      <td>22.55</td>\n",
       "      <td>169615</td>\n",
       "    </tr>\n",
       "    <tr>\n",
       "      <th>2954</th>\n",
       "      <td>10137</td>\n",
       "      <td>ALLEGHENY ENERGY INC</td>\n",
       "      <td>9/30/2010 0:00</td>\n",
       "      <td>0.094013</td>\n",
       "      <td>24.52</td>\n",
       "      <td>169615</td>\n",
       "    </tr>\n",
       "    <tr>\n",
       "      <th>2955</th>\n",
       "      <td>10137</td>\n",
       "      <td>ALLEGHENY ENERGY INC</td>\n",
       "      <td>10/31/2010 0:00</td>\n",
       "      <td>-0.053834</td>\n",
       "      <td>23.2</td>\n",
       "      <td>169615</td>\n",
       "    </tr>\n",
       "    <tr>\n",
       "      <th>2956</th>\n",
       "      <td>10137</td>\n",
       "      <td>ALLEGHENY ENERGY INC</td>\n",
       "      <td>11/30/2010 0:00</td>\n",
       "      <td>NaN</td>\n",
       "      <td>22.82</td>\n",
       "      <td>169939</td>\n",
       "    </tr>\n",
       "    <tr>\n",
       "      <th>2957</th>\n",
       "      <td>10137</td>\n",
       "      <td>ALLEGHENY ENERGY INC</td>\n",
       "      <td>12/31/2010 0:00</td>\n",
       "      <td>C</td>\n",
       "      <td>C</td>\n",
       "      <td>169939</td>\n",
       "    </tr>\n",
       "    <tr>\n",
       "      <th>2958</th>\n",
       "      <td>10137</td>\n",
       "      <td>ALLEGHENY ENERGY INC</td>\n",
       "      <td>1/31/2011 0:00</td>\n",
       "      <td>0.063531</td>\n",
       "      <td>25.78</td>\n",
       "      <td>169939</td>\n",
       "    </tr>\n",
       "    <tr>\n",
       "      <th>2959</th>\n",
       "      <td>10137</td>\n",
       "      <td>ALLEGHENY ENERGY INC</td>\n",
       "      <td>2/28/2011 0:00</td>\n",
       "      <td>-0.009073</td>\n",
       "      <td>NaN</td>\n",
       "      <td>169974</td>\n",
       "    </tr>\n",
       "  </tbody>\n",
       "</table>\n",
       "</div>"
      ],
      "text/plain": [
       "      permno          company_name             date total_returns  price  \\\n",
       "2950   10137  ALLEGHENY ENERGY INC   5/31/2010 0:00     -0.060606  20.46   \n",
       "2951   10137  ALLEGHENY ENERGY INC   6/30/2010 0:00      0.018084  20.68   \n",
       "2952   10137  ALLEGHENY ENERGY INC   7/31/2010 0:00      0.102514   22.8   \n",
       "2953   10137  ALLEGHENY ENERGY INC   8/31/2010 0:00     -0.010965  22.55   \n",
       "2954   10137  ALLEGHENY ENERGY INC   9/30/2010 0:00      0.094013  24.52   \n",
       "2955   10137  ALLEGHENY ENERGY INC  10/31/2010 0:00     -0.053834   23.2   \n",
       "2956   10137  ALLEGHENY ENERGY INC  11/30/2010 0:00           NaN  22.82   \n",
       "2957   10137  ALLEGHENY ENERGY INC  12/31/2010 0:00             C      C   \n",
       "2958   10137  ALLEGHENY ENERGY INC   1/31/2011 0:00      0.063531  25.78   \n",
       "2959   10137  ALLEGHENY ENERGY INC   2/28/2011 0:00     -0.009073    NaN   \n",
       "\n",
       "      share_outstanding  \n",
       "2950             169579  \n",
       "2951             169579  \n",
       "2952             169579  \n",
       "2953             169615  \n",
       "2954             169615  \n",
       "2955             169615  \n",
       "2956             169939  \n",
       "2957             169939  \n",
       "2958             169939  \n",
       "2959             169974  "
      ]
     },
     "execution_count": 181,
     "metadata": {},
     "output_type": "execute_result"
    }
   ],
   "source": [
    "# Viewing a sample of the dataframe (due to large size)\n",
    "df.tail(10)"
   ]
  },
  {
   "cell_type": "code",
   "execution_count": 113,
   "metadata": {
    "scrolled": true
   },
   "outputs": [
    {
     "name": "stdout",
     "output_type": "stream",
     "text": [
      "<class 'pandas.core.frame.DataFrame'>\n",
      "RangeIndex: 2960 entries, 0 to 2959\n",
      "Data columns (total 6 columns):\n",
      "permno               2960 non-null int64\n",
      "company_name         2960 non-null object\n",
      "date                 2960 non-null object\n",
      "total_returns        2933 non-null object\n",
      "price                2920 non-null object\n",
      "share_outstanding    2960 non-null int64\n",
      "dtypes: int64(2), object(4)\n",
      "memory usage: 138.8+ KB\n"
     ]
    }
   ],
   "source": [
    "# Getting info on our dataframe\n",
    "df.info()"
   ]
  },
  {
   "cell_type": "code",
   "execution_count": 114,
   "metadata": {},
   "outputs": [
    {
     "data": {
      "text/plain": [
       "25"
      ]
     },
     "execution_count": 114,
     "metadata": {},
     "output_type": "execute_result"
    }
   ],
   "source": [
    "# Unique permnos\n",
    "df['permno'].nunique()"
   ]
  },
  {
   "cell_type": "code",
   "execution_count": 115,
   "metadata": {},
   "outputs": [
    {
     "data": {
      "text/plain": [
       "35"
      ]
     },
     "execution_count": 115,
     "metadata": {},
     "output_type": "execute_result"
    }
   ],
   "source": [
    "# Unique company names\n",
    "df['company_name'].nunique()"
   ]
  },
  {
   "cell_type": "code",
   "execution_count": 123,
   "metadata": {},
   "outputs": [
    {
     "data": {
      "text/plain": [
       "'12/31/2009 0:00'"
      ]
     },
     "execution_count": 123,
     "metadata": {},
     "output_type": "execute_result"
    }
   ],
   "source": [
    "# Observe how the date is initially loaded \n",
    "df['date'][0]\n",
    "#df['date'][0]"
   ]
  },
  {
   "cell_type": "code",
   "execution_count": 130,
   "metadata": {},
   "outputs": [
    {
     "data": {
      "text/plain": [
       "Timestamp('2009-12-31 00:00:00')"
      ]
     },
     "execution_count": 130,
     "metadata": {},
     "output_type": "execute_result"
    }
   ],
   "source": [
    "# Pandas has a convenient hack for dates\n",
    "df['date'] = pd.to_datetime(df['date'])\n",
    "df['date'][0]"
   ]
  },
  {
   "cell_type": "code",
   "execution_count": 128,
   "metadata": {},
   "outputs": [
    {
     "name": "stdout",
     "output_type": "stream",
     "text": [
      "<class 'pandas.core.frame.DataFrame'>\n",
      "RangeIndex: 2960 entries, 0 to 2959\n",
      "Data columns (total 6 columns):\n",
      "permno               2960 non-null int64\n",
      "company_name         2960 non-null object\n",
      "date                 2960 non-null datetime64[ns]\n",
      "total_returns        2933 non-null object\n",
      "price                2920 non-null object\n",
      "share_outstanding    2960 non-null int64\n",
      "dtypes: datetime64[ns](1), int64(2), object(3)\n",
      "memory usage: 138.8+ KB\n"
     ]
    }
   ],
   "source": [
    "# Dataframe date format\n",
    "df.info()"
   ]
  },
  {
   "cell_type": "code",
   "execution_count": null,
   "metadata": {},
   "outputs": [],
   "source": [
    "# Converting datetime from one format to another\n",
    "df['date'].dt.strftime(\"%d-%m-%Y\").tail()"
   ]
  },
  {
   "cell_type": "code",
   "execution_count": 129,
   "metadata": {},
   "outputs": [
    {
     "data": {
      "text/plain": [
       "Timestamp('2013-12-07 00:00:00')"
      ]
     },
     "execution_count": 129,
     "metadata": {},
     "output_type": "execute_result"
    }
   ],
   "source": [
    "# writing dates in pandas\n",
    "pd.Timestamp(year=2013,month=12,day=7)"
   ]
  },
  {
   "cell_type": "code",
   "execution_count": 134,
   "metadata": {},
   "outputs": [
    {
     "name": "stdout",
     "output_type": "stream",
     "text": [
      "2013-12-07 00:00:00\n"
     ]
    },
    {
     "data": {
      "text/plain": [
       "Timestamp('2013-12-10 00:00:00')"
      ]
     },
     "execution_count": 134,
     "metadata": {},
     "output_type": "execute_result"
    }
   ],
   "source": [
    "# Adding days to a date (or hours/minutes etc)\n",
    "some_date = pd.Timestamp(year=2013,month=12,day=7)\n",
    "print(some_date)\n",
    "some_date + pd.Timedelta('3 days')\n",
    "#type(pd.Timedelta(\"1 day\"))"
   ]
  },
  {
   "cell_type": "code",
   "execution_count": 135,
   "metadata": {},
   "outputs": [
    {
     "name": "stdout",
     "output_type": "stream",
     "text": [
      "0   2013-07-13\n",
      "1   2010-05-05\n",
      "2   2020-03-15\n",
      "dtype: datetime64[ns]\n"
     ]
    },
    {
     "data": {
      "text/plain": [
       "0   2013-07-31\n",
       "1   2010-05-31\n",
       "2   2020-03-31\n",
       "dtype: datetime64[ns]"
      ]
     },
     "execution_count": 135,
     "metadata": {},
     "output_type": "execute_result"
    }
   ],
   "source": [
    "# Creating a Series of dates (a cool trick!)\n",
    "my_date = pd.to_datetime(pd.Series(['13 July 2013','5 May 2010','15 March 2020']))\n",
    "print(my_date)\n",
    "my_date + pd.tseries.offsets.MonthEnd(0)"
   ]
  },
  {
   "cell_type": "code",
   "execution_count": 139,
   "metadata": {},
   "outputs": [
    {
     "data": {
      "text/plain": [
       "DatetimeIndex(['2021-01-03', '2021-01-10', '2021-01-17', '2021-01-24',\n",
       "               '2021-01-31', '2021-02-07', '2021-02-14', '2021-02-21',\n",
       "               '2021-02-28', '2021-03-07', '2021-03-14', '2021-03-21',\n",
       "               '2021-03-28', '2021-04-04', '2021-04-11', '2021-04-18',\n",
       "               '2021-04-25', '2021-05-02'],\n",
       "              dtype='datetime64[ns]', freq='W-SUN')"
      ]
     },
     "execution_count": 139,
     "metadata": {},
     "output_type": "execute_result"
    }
   ],
   "source": [
    "# Using Pandas date range to generate dates\n",
    "pd.date_range(start='01 Jan 2021', end='31 Jan 2021')\n",
    "pd.date_range(start='01 Jan 2021', periods=18, freq= 'W')"
   ]
  },
  {
   "cell_type": "code",
   "execution_count": 144,
   "metadata": {},
   "outputs": [
    {
     "data": {
      "text/html": [
       "<div>\n",
       "<style scoped>\n",
       "    .dataframe tbody tr th:only-of-type {\n",
       "        vertical-align: middle;\n",
       "    }\n",
       "\n",
       "    .dataframe tbody tr th {\n",
       "        vertical-align: top;\n",
       "    }\n",
       "\n",
       "    .dataframe thead th {\n",
       "        text-align: right;\n",
       "    }\n",
       "</style>\n",
       "<table border=\"1\" class=\"dataframe\">\n",
       "  <thead>\n",
       "    <tr style=\"text-align: right;\">\n",
       "      <th></th>\n",
       "      <th>permno</th>\n",
       "      <th>company_name</th>\n",
       "      <th>date</th>\n",
       "      <th>total_returns</th>\n",
       "      <th>price</th>\n",
       "      <th>share_outstanding</th>\n",
       "    </tr>\n",
       "  </thead>\n",
       "  <tbody>\n",
       "    <tr>\n",
       "      <th>2955</th>\n",
       "      <td>10137</td>\n",
       "      <td>ALLEGHENY ENERGY INC</td>\n",
       "      <td>2010-10-31</td>\n",
       "      <td>-0.053834</td>\n",
       "      <td>23.2</td>\n",
       "      <td>169615</td>\n",
       "    </tr>\n",
       "    <tr>\n",
       "      <th>2956</th>\n",
       "      <td>10137</td>\n",
       "      <td>ALLEGHENY ENERGY INC</td>\n",
       "      <td>2010-11-30</td>\n",
       "      <td>NaN</td>\n",
       "      <td>22.82</td>\n",
       "      <td>169939</td>\n",
       "    </tr>\n",
       "    <tr>\n",
       "      <th>2957</th>\n",
       "      <td>10137</td>\n",
       "      <td>ALLEGHENY ENERGY INC</td>\n",
       "      <td>2010-12-31</td>\n",
       "      <td>C</td>\n",
       "      <td>C</td>\n",
       "      <td>169939</td>\n",
       "    </tr>\n",
       "    <tr>\n",
       "      <th>2958</th>\n",
       "      <td>10137</td>\n",
       "      <td>ALLEGHENY ENERGY INC</td>\n",
       "      <td>2011-01-31</td>\n",
       "      <td>0.063531</td>\n",
       "      <td>25.78</td>\n",
       "      <td>169939</td>\n",
       "    </tr>\n",
       "    <tr>\n",
       "      <th>2959</th>\n",
       "      <td>10137</td>\n",
       "      <td>ALLEGHENY ENERGY INC</td>\n",
       "      <td>2011-02-28</td>\n",
       "      <td>-0.009073</td>\n",
       "      <td>NaN</td>\n",
       "      <td>169974</td>\n",
       "    </tr>\n",
       "  </tbody>\n",
       "</table>\n",
       "</div>"
      ],
      "text/plain": [
       "      permno          company_name       date total_returns  price  \\\n",
       "2955   10137  ALLEGHENY ENERGY INC 2010-10-31     -0.053834   23.2   \n",
       "2956   10137  ALLEGHENY ENERGY INC 2010-11-30           NaN  22.82   \n",
       "2957   10137  ALLEGHENY ENERGY INC 2010-12-31             C      C   \n",
       "2958   10137  ALLEGHENY ENERGY INC 2011-01-31      0.063531  25.78   \n",
       "2959   10137  ALLEGHENY ENERGY INC 2011-02-28     -0.009073    NaN   \n",
       "\n",
       "      share_outstanding  \n",
       "2955             169615  \n",
       "2956             169939  \n",
       "2957             169939  \n",
       "2958             169939  \n",
       "2959             169974  "
      ]
     },
     "execution_count": 144,
     "metadata": {},
     "output_type": "execute_result"
    }
   ],
   "source": [
    "# Loading the dataframe again\n",
    "df.tail()"
   ]
  },
  {
   "cell_type": "code",
   "execution_count": 143,
   "metadata": {},
   "outputs": [
    {
     "name": "stdout",
     "output_type": "stream",
     "text": [
      "<class 'pandas.core.frame.DataFrame'>\n",
      "RangeIndex: 2960 entries, 0 to 2959\n",
      "Data columns (total 6 columns):\n",
      "permno               2960 non-null int64\n",
      "company_name         2960 non-null object\n",
      "date                 2960 non-null datetime64[ns]\n",
      "total_returns        2933 non-null object\n",
      "price                2920 non-null object\n",
      "share_outstanding    2960 non-null int64\n",
      "dtypes: datetime64[ns](1), int64(2), object(3)\n",
      "memory usage: 138.8+ KB\n"
     ]
    }
   ],
   "source": [
    "# Checking the dataframe types (from info)\n",
    "df.info() # observe that prices and returns are still objects!"
   ]
  },
  {
   "cell_type": "code",
   "execution_count": 158,
   "metadata": {},
   "outputs": [],
   "source": [
    "# Converting price and returns to numbers\n",
    "df['price'] = pd.to_numeric(df['price'],errors='coerce')\n",
    "df['total_returns'] = pd.to_numeric(df['total_returns'],errors='coerce')"
   ]
  },
  {
   "cell_type": "code",
   "execution_count": 146,
   "metadata": {},
   "outputs": [
    {
     "name": "stdout",
     "output_type": "stream",
     "text": [
      "<class 'pandas.core.frame.DataFrame'>\n",
      "RangeIndex: 2960 entries, 0 to 2959\n",
      "Data columns (total 6 columns):\n",
      "permno               2960 non-null int64\n",
      "company_name         2960 non-null object\n",
      "date                 2960 non-null datetime64[ns]\n",
      "total_returns        2929 non-null float64\n",
      "price                2916 non-null float64\n",
      "share_outstanding    2960 non-null int64\n",
      "dtypes: datetime64[ns](1), float64(2), int64(2), object(1)\n",
      "memory usage: 138.8+ KB\n"
     ]
    }
   ],
   "source": [
    "# Checking info again\n",
    "df.info()"
   ]
  },
  {
   "cell_type": "code",
   "execution_count": 147,
   "metadata": {},
   "outputs": [
    {
     "data": {
      "text/html": [
       "<div>\n",
       "<style scoped>\n",
       "    .dataframe tbody tr th:only-of-type {\n",
       "        vertical-align: middle;\n",
       "    }\n",
       "\n",
       "    .dataframe tbody tr th {\n",
       "        vertical-align: top;\n",
       "    }\n",
       "\n",
       "    .dataframe thead th {\n",
       "        text-align: right;\n",
       "    }\n",
       "</style>\n",
       "<table border=\"1\" class=\"dataframe\">\n",
       "  <thead>\n",
       "    <tr style=\"text-align: right;\">\n",
       "      <th></th>\n",
       "      <th>permno</th>\n",
       "      <th>company_name</th>\n",
       "      <th>date</th>\n",
       "      <th>total_returns</th>\n",
       "      <th>price</th>\n",
       "      <th>share_outstanding</th>\n",
       "    </tr>\n",
       "  </thead>\n",
       "  <tbody>\n",
       "    <tr>\n",
       "      <th>2955</th>\n",
       "      <td>10137</td>\n",
       "      <td>ALLEGHENY ENERGY INC</td>\n",
       "      <td>2010-10-31</td>\n",
       "      <td>-0.053834</td>\n",
       "      <td>23.20</td>\n",
       "      <td>169615</td>\n",
       "    </tr>\n",
       "    <tr>\n",
       "      <th>2956</th>\n",
       "      <td>10137</td>\n",
       "      <td>ALLEGHENY ENERGY INC</td>\n",
       "      <td>2010-11-30</td>\n",
       "      <td>NaN</td>\n",
       "      <td>22.82</td>\n",
       "      <td>169939</td>\n",
       "    </tr>\n",
       "    <tr>\n",
       "      <th>2957</th>\n",
       "      <td>10137</td>\n",
       "      <td>ALLEGHENY ENERGY INC</td>\n",
       "      <td>2010-12-31</td>\n",
       "      <td>NaN</td>\n",
       "      <td>NaN</td>\n",
       "      <td>169939</td>\n",
       "    </tr>\n",
       "    <tr>\n",
       "      <th>2958</th>\n",
       "      <td>10137</td>\n",
       "      <td>ALLEGHENY ENERGY INC</td>\n",
       "      <td>2011-01-31</td>\n",
       "      <td>0.063531</td>\n",
       "      <td>25.78</td>\n",
       "      <td>169939</td>\n",
       "    </tr>\n",
       "    <tr>\n",
       "      <th>2959</th>\n",
       "      <td>10137</td>\n",
       "      <td>ALLEGHENY ENERGY INC</td>\n",
       "      <td>2011-02-28</td>\n",
       "      <td>-0.009073</td>\n",
       "      <td>NaN</td>\n",
       "      <td>169974</td>\n",
       "    </tr>\n",
       "  </tbody>\n",
       "</table>\n",
       "</div>"
      ],
      "text/plain": [
       "      permno          company_name       date  total_returns  price  \\\n",
       "2955   10137  ALLEGHENY ENERGY INC 2010-10-31      -0.053834  23.20   \n",
       "2956   10137  ALLEGHENY ENERGY INC 2010-11-30            NaN  22.82   \n",
       "2957   10137  ALLEGHENY ENERGY INC 2010-12-31            NaN    NaN   \n",
       "2958   10137  ALLEGHENY ENERGY INC 2011-01-31       0.063531  25.78   \n",
       "2959   10137  ALLEGHENY ENERGY INC 2011-02-28      -0.009073    NaN   \n",
       "\n",
       "      share_outstanding  \n",
       "2955             169615  \n",
       "2956             169939  \n",
       "2957             169939  \n",
       "2958             169939  \n",
       "2959             169974  "
      ]
     },
     "execution_count": 147,
     "metadata": {},
     "output_type": "execute_result"
    }
   ],
   "source": [
    "df.tail()"
   ]
  },
  {
   "cell_type": "code",
   "execution_count": null,
   "metadata": {},
   "outputs": [],
   "source": [
    "# Rows that have NaNs\n",
    "df.isnull() # Returns True in dataframe where values are NaN\n",
    "#df.isnull().sum() gives count of NaN values\n",
    "#df[df['total_returns'].isnull()] # notice I can pass a true/false array to see which rows have returns as missing"
   ]
  },
  {
   "cell_type": "code",
   "execution_count": 152,
   "metadata": {},
   "outputs": [
    {
     "data": {
      "text/html": [
       "<div>\n",
       "<style scoped>\n",
       "    .dataframe tbody tr th:only-of-type {\n",
       "        vertical-align: middle;\n",
       "    }\n",
       "\n",
       "    .dataframe tbody tr th {\n",
       "        vertical-align: top;\n",
       "    }\n",
       "\n",
       "    .dataframe thead th {\n",
       "        text-align: right;\n",
       "    }\n",
       "</style>\n",
       "<table border=\"1\" class=\"dataframe\">\n",
       "  <thead>\n",
       "    <tr style=\"text-align: right;\">\n",
       "      <th></th>\n",
       "      <th>permno</th>\n",
       "      <th>company_name</th>\n",
       "      <th>date</th>\n",
       "      <th>total_returns</th>\n",
       "      <th>price</th>\n",
       "      <th>share_outstanding</th>\n",
       "    </tr>\n",
       "  </thead>\n",
       "  <tbody>\n",
       "    <tr>\n",
       "      <th>2953</th>\n",
       "      <td>10137</td>\n",
       "      <td>ALLEGHENY ENERGY INC</td>\n",
       "      <td>2010-08-31</td>\n",
       "      <td>-0.010965</td>\n",
       "      <td>22.55</td>\n",
       "      <td>169615</td>\n",
       "    </tr>\n",
       "    <tr>\n",
       "      <th>2954</th>\n",
       "      <td>10137</td>\n",
       "      <td>ALLEGHENY ENERGY INC</td>\n",
       "      <td>2010-09-30</td>\n",
       "      <td>0.094013</td>\n",
       "      <td>24.52</td>\n",
       "      <td>169615</td>\n",
       "    </tr>\n",
       "    <tr>\n",
       "      <th>2955</th>\n",
       "      <td>10137</td>\n",
       "      <td>ALLEGHENY ENERGY INC</td>\n",
       "      <td>2010-10-31</td>\n",
       "      <td>-0.053834</td>\n",
       "      <td>23.20</td>\n",
       "      <td>169615</td>\n",
       "    </tr>\n",
       "    <tr>\n",
       "      <th>2956</th>\n",
       "      <td>10137</td>\n",
       "      <td>ALLEGHENY ENERGY INC</td>\n",
       "      <td>2010-11-30</td>\n",
       "      <td>NaN</td>\n",
       "      <td>22.82</td>\n",
       "      <td>169939</td>\n",
       "    </tr>\n",
       "    <tr>\n",
       "      <th>2958</th>\n",
       "      <td>10137</td>\n",
       "      <td>ALLEGHENY ENERGY INC</td>\n",
       "      <td>2011-01-31</td>\n",
       "      <td>0.063531</td>\n",
       "      <td>25.78</td>\n",
       "      <td>169939</td>\n",
       "    </tr>\n",
       "  </tbody>\n",
       "</table>\n",
       "</div>"
      ],
      "text/plain": [
       "      permno          company_name       date  total_returns  price  \\\n",
       "2953   10137  ALLEGHENY ENERGY INC 2010-08-31      -0.010965  22.55   \n",
       "2954   10137  ALLEGHENY ENERGY INC 2010-09-30       0.094013  24.52   \n",
       "2955   10137  ALLEGHENY ENERGY INC 2010-10-31      -0.053834  23.20   \n",
       "2956   10137  ALLEGHENY ENERGY INC 2010-11-30            NaN  22.82   \n",
       "2958   10137  ALLEGHENY ENERGY INC 2011-01-31       0.063531  25.78   \n",
       "\n",
       "      share_outstanding  \n",
       "2953             169615  \n",
       "2954             169615  \n",
       "2955             169615  \n",
       "2956             169939  \n",
       "2958             169939  "
      ]
     },
     "execution_count": 152,
     "metadata": {},
     "output_type": "execute_result"
    }
   ],
   "source": [
    "# Dropping NaN values (involves dropping the whole row) - we drop the NaNs by writing command dropna()\n",
    "df.dropna(subset=['price']).tail()"
   ]
  },
  {
   "cell_type": "code",
   "execution_count": 159,
   "metadata": {},
   "outputs": [
    {
     "data": {
      "text/html": [
       "<div>\n",
       "<style scoped>\n",
       "    .dataframe tbody tr th:only-of-type {\n",
       "        vertical-align: middle;\n",
       "    }\n",
       "\n",
       "    .dataframe tbody tr th {\n",
       "        vertical-align: top;\n",
       "    }\n",
       "\n",
       "    .dataframe thead th {\n",
       "        text-align: right;\n",
       "    }\n",
       "</style>\n",
       "<table border=\"1\" class=\"dataframe\">\n",
       "  <thead>\n",
       "    <tr style=\"text-align: right;\">\n",
       "      <th></th>\n",
       "      <th>permno</th>\n",
       "      <th>company_name</th>\n",
       "      <th>date</th>\n",
       "      <th>total_returns</th>\n",
       "      <th>price</th>\n",
       "      <th>share_outstanding</th>\n",
       "    </tr>\n",
       "  </thead>\n",
       "  <tbody>\n",
       "    <tr>\n",
       "      <th>2955</th>\n",
       "      <td>10137</td>\n",
       "      <td>ALLEGHENY ENERGY INC</td>\n",
       "      <td>10/31/2010 0:00</td>\n",
       "      <td>-0.053834</td>\n",
       "      <td>23.20</td>\n",
       "      <td>169615</td>\n",
       "    </tr>\n",
       "    <tr>\n",
       "      <th>2956</th>\n",
       "      <td>10137</td>\n",
       "      <td>ALLEGHENY ENERGY INC</td>\n",
       "      <td>11/30/2010 0:00</td>\n",
       "      <td>NaN</td>\n",
       "      <td>22.82</td>\n",
       "      <td>169939</td>\n",
       "    </tr>\n",
       "    <tr>\n",
       "      <th>2957</th>\n",
       "      <td>10137</td>\n",
       "      <td>ALLEGHENY ENERGY INC</td>\n",
       "      <td>12/31/2010 0:00</td>\n",
       "      <td>NaN</td>\n",
       "      <td>NaN</td>\n",
       "      <td>169939</td>\n",
       "    </tr>\n",
       "    <tr>\n",
       "      <th>2958</th>\n",
       "      <td>10137</td>\n",
       "      <td>ALLEGHENY ENERGY INC</td>\n",
       "      <td>1/31/2011 0:00</td>\n",
       "      <td>0.063531</td>\n",
       "      <td>25.78</td>\n",
       "      <td>169939</td>\n",
       "    </tr>\n",
       "    <tr>\n",
       "      <th>2959</th>\n",
       "      <td>10137</td>\n",
       "      <td>ALLEGHENY ENERGY INC</td>\n",
       "      <td>2/28/2011 0:00</td>\n",
       "      <td>-0.009073</td>\n",
       "      <td>NaN</td>\n",
       "      <td>169974</td>\n",
       "    </tr>\n",
       "  </tbody>\n",
       "</table>\n",
       "</div>"
      ],
      "text/plain": [
       "      permno          company_name             date  total_returns  price  \\\n",
       "2955   10137  ALLEGHENY ENERGY INC  10/31/2010 0:00      -0.053834  23.20   \n",
       "2956   10137  ALLEGHENY ENERGY INC  11/30/2010 0:00            NaN  22.82   \n",
       "2957   10137  ALLEGHENY ENERGY INC  12/31/2010 0:00            NaN    NaN   \n",
       "2958   10137  ALLEGHENY ENERGY INC   1/31/2011 0:00       0.063531  25.78   \n",
       "2959   10137  ALLEGHENY ENERGY INC   2/28/2011 0:00      -0.009073    NaN   \n",
       "\n",
       "      share_outstanding  \n",
       "2955             169615  \n",
       "2956             169939  \n",
       "2957             169939  \n",
       "2958             169939  \n",
       "2959             169974  "
      ]
     },
     "execution_count": 159,
     "metadata": {},
     "output_type": "execute_result"
    }
   ],
   "source": [
    "# Method 1 for dealing with all NaN values\n",
    "df.replace(np.nan,0).tail()\n",
    "df.tail()"
   ]
  },
  {
   "cell_type": "code",
   "execution_count": 160,
   "metadata": {},
   "outputs": [
    {
     "data": {
      "text/html": [
       "<div>\n",
       "<style scoped>\n",
       "    .dataframe tbody tr th:only-of-type {\n",
       "        vertical-align: middle;\n",
       "    }\n",
       "\n",
       "    .dataframe tbody tr th {\n",
       "        vertical-align: top;\n",
       "    }\n",
       "\n",
       "    .dataframe thead th {\n",
       "        text-align: right;\n",
       "    }\n",
       "</style>\n",
       "<table border=\"1\" class=\"dataframe\">\n",
       "  <thead>\n",
       "    <tr style=\"text-align: right;\">\n",
       "      <th></th>\n",
       "      <th>permno</th>\n",
       "      <th>company_name</th>\n",
       "      <th>date</th>\n",
       "      <th>total_returns</th>\n",
       "      <th>price</th>\n",
       "      <th>share_outstanding</th>\n",
       "    </tr>\n",
       "  </thead>\n",
       "  <tbody>\n",
       "    <tr>\n",
       "      <th>2955</th>\n",
       "      <td>10137</td>\n",
       "      <td>ALLEGHENY ENERGY INC</td>\n",
       "      <td>10/31/2010 0:00</td>\n",
       "      <td>-0.053834</td>\n",
       "      <td>23.20</td>\n",
       "      <td>169615</td>\n",
       "    </tr>\n",
       "    <tr>\n",
       "      <th>2956</th>\n",
       "      <td>10137</td>\n",
       "      <td>ALLEGHENY ENERGY INC</td>\n",
       "      <td>11/30/2010 0:00</td>\n",
       "      <td>0.000000</td>\n",
       "      <td>22.82</td>\n",
       "      <td>169939</td>\n",
       "    </tr>\n",
       "    <tr>\n",
       "      <th>2957</th>\n",
       "      <td>10137</td>\n",
       "      <td>ALLEGHENY ENERGY INC</td>\n",
       "      <td>12/31/2010 0:00</td>\n",
       "      <td>0.000000</td>\n",
       "      <td>22.82</td>\n",
       "      <td>169939</td>\n",
       "    </tr>\n",
       "    <tr>\n",
       "      <th>2958</th>\n",
       "      <td>10137</td>\n",
       "      <td>ALLEGHENY ENERGY INC</td>\n",
       "      <td>1/31/2011 0:00</td>\n",
       "      <td>0.063531</td>\n",
       "      <td>25.78</td>\n",
       "      <td>169939</td>\n",
       "    </tr>\n",
       "    <tr>\n",
       "      <th>2959</th>\n",
       "      <td>10137</td>\n",
       "      <td>ALLEGHENY ENERGY INC</td>\n",
       "      <td>2/28/2011 0:00</td>\n",
       "      <td>-0.009073</td>\n",
       "      <td>25.78</td>\n",
       "      <td>169974</td>\n",
       "    </tr>\n",
       "  </tbody>\n",
       "</table>\n",
       "</div>"
      ],
      "text/plain": [
       "      permno          company_name             date  total_returns  price  \\\n",
       "2955   10137  ALLEGHENY ENERGY INC  10/31/2010 0:00      -0.053834  23.20   \n",
       "2956   10137  ALLEGHENY ENERGY INC  11/30/2010 0:00       0.000000  22.82   \n",
       "2957   10137  ALLEGHENY ENERGY INC  12/31/2010 0:00       0.000000  22.82   \n",
       "2958   10137  ALLEGHENY ENERGY INC   1/31/2011 0:00       0.063531  25.78   \n",
       "2959   10137  ALLEGHENY ENERGY INC   2/28/2011 0:00      -0.009073  25.78   \n",
       "\n",
       "      share_outstanding  \n",
       "2955             169615  \n",
       "2956             169939  \n",
       "2957             169939  \n",
       "2958             169939  \n",
       "2959             169974  "
      ]
     },
     "execution_count": 160,
     "metadata": {},
     "output_type": "execute_result"
    }
   ],
   "source": [
    "# Method 2 for dealing with all NaN values\n",
    "df['total_returns'] = df['total_returns'].fillna(0)\n",
    "df['price'] = df['price'].fillna(method='ffill') # ffill is forward fill for handling NaN values\n",
    "df.tail()"
   ]
  },
  {
   "cell_type": "code",
   "execution_count": null,
   "metadata": {},
   "outputs": [],
   "source": [
    "# Filtering\n",
    "df = df[df['permno']==10001] # df and index start without 10001 permno\n",
    "df"
   ]
  },
  {
   "cell_type": "code",
   "execution_count": null,
   "metadata": {},
   "outputs": [],
   "source": [
    "# Exporting your dataframe to a csv\n",
    "df.to_csv('out.csv')"
   ]
  },
  {
   "cell_type": "markdown",
   "metadata": {},
   "source": [
    "### Merging"
   ]
  },
  {
   "cell_type": "code",
   "execution_count": 224,
   "metadata": {},
   "outputs": [
    {
     "data": {
      "text/html": [
       "<div>\n",
       "<style scoped>\n",
       "    .dataframe tbody tr th:only-of-type {\n",
       "        vertical-align: middle;\n",
       "    }\n",
       "\n",
       "    .dataframe tbody tr th {\n",
       "        vertical-align: top;\n",
       "    }\n",
       "\n",
       "    .dataframe thead th {\n",
       "        text-align: right;\n",
       "    }\n",
       "</style>\n",
       "<table border=\"1\" class=\"dataframe\">\n",
       "  <thead>\n",
       "    <tr style=\"text-align: right;\">\n",
       "      <th></th>\n",
       "      <th>stock</th>\n",
       "      <th>price</th>\n",
       "    </tr>\n",
       "  </thead>\n",
       "  <tbody>\n",
       "    <tr>\n",
       "      <th>0</th>\n",
       "      <td>A</td>\n",
       "      <td>100</td>\n",
       "    </tr>\n",
       "    <tr>\n",
       "      <th>1</th>\n",
       "      <td>B</td>\n",
       "      <td>120</td>\n",
       "    </tr>\n",
       "    <tr>\n",
       "      <th>2</th>\n",
       "      <td>C</td>\n",
       "      <td>50</td>\n",
       "    </tr>\n",
       "  </tbody>\n",
       "</table>\n",
       "</div>"
      ],
      "text/plain": [
       "  stock  price\n",
       "0     A    100\n",
       "1     B    120\n",
       "2     C     50"
      ]
     },
     "execution_count": 224,
     "metadata": {},
     "output_type": "execute_result"
    }
   ],
   "source": [
    "# Creating a dataframe with stock names and stock price\n",
    "df1 = pd.DataFrame([['A',100],\n",
    "                    ['B',120],\n",
    "                    ['C',50]],columns=['stock','price'])\n",
    "df1"
   ]
  },
  {
   "cell_type": "code",
   "execution_count": 225,
   "metadata": {},
   "outputs": [
    {
     "data": {
      "text/html": [
       "<div>\n",
       "<style scoped>\n",
       "    .dataframe tbody tr th:only-of-type {\n",
       "        vertical-align: middle;\n",
       "    }\n",
       "\n",
       "    .dataframe tbody tr th {\n",
       "        vertical-align: top;\n",
       "    }\n",
       "\n",
       "    .dataframe thead th {\n",
       "        text-align: right;\n",
       "    }\n",
       "</style>\n",
       "<table border=\"1\" class=\"dataframe\">\n",
       "  <thead>\n",
       "    <tr style=\"text-align: right;\">\n",
       "      <th></th>\n",
       "      <th>stock</th>\n",
       "      <th>pe_ratio</th>\n",
       "    </tr>\n",
       "  </thead>\n",
       "  <tbody>\n",
       "    <tr>\n",
       "      <th>0</th>\n",
       "      <td>B</td>\n",
       "      <td>10</td>\n",
       "    </tr>\n",
       "    <tr>\n",
       "      <th>1</th>\n",
       "      <td>C</td>\n",
       "      <td>14</td>\n",
       "    </tr>\n",
       "    <tr>\n",
       "      <th>2</th>\n",
       "      <td>D</td>\n",
       "      <td>1000</td>\n",
       "    </tr>\n",
       "  </tbody>\n",
       "</table>\n",
       "</div>"
      ],
      "text/plain": [
       "  stock  pe_ratio\n",
       "0     B        10\n",
       "1     C        14\n",
       "2     D      1000"
      ]
     },
     "execution_count": 225,
     "metadata": {},
     "output_type": "execute_result"
    }
   ],
   "source": [
    "# Creating a dataframe with stock name and stock PE ratio\n",
    "df2 = pd.DataFrame([['B',10],\n",
    "                    ['C',14],\n",
    "                    ['D',1000]],columns=['stock','pe_ratio'])\n",
    "df2"
   ]
  },
  {
   "cell_type": "code",
   "execution_count": 227,
   "metadata": {},
   "outputs": [
    {
     "data": {
      "text/html": [
       "<div>\n",
       "<style scoped>\n",
       "    .dataframe tbody tr th:only-of-type {\n",
       "        vertical-align: middle;\n",
       "    }\n",
       "\n",
       "    .dataframe tbody tr th {\n",
       "        vertical-align: top;\n",
       "    }\n",
       "\n",
       "    .dataframe thead th {\n",
       "        text-align: right;\n",
       "    }\n",
       "</style>\n",
       "<table border=\"1\" class=\"dataframe\">\n",
       "  <thead>\n",
       "    <tr style=\"text-align: right;\">\n",
       "      <th></th>\n",
       "      <th>stock</th>\n",
       "      <th>price</th>\n",
       "      <th>pe_ratio</th>\n",
       "    </tr>\n",
       "  </thead>\n",
       "  <tbody>\n",
       "    <tr>\n",
       "      <th>0</th>\n",
       "      <td>B</td>\n",
       "      <td>120.0</td>\n",
       "      <td>10</td>\n",
       "    </tr>\n",
       "    <tr>\n",
       "      <th>1</th>\n",
       "      <td>C</td>\n",
       "      <td>50.0</td>\n",
       "      <td>14</td>\n",
       "    </tr>\n",
       "    <tr>\n",
       "      <th>2</th>\n",
       "      <td>D</td>\n",
       "      <td>NaN</td>\n",
       "      <td>1000</td>\n",
       "    </tr>\n",
       "  </tbody>\n",
       "</table>\n",
       "</div>"
      ],
      "text/plain": [
       "  stock  price  pe_ratio\n",
       "0     B  120.0        10\n",
       "1     C   50.0        14\n",
       "2     D    NaN      1000"
      ]
     },
     "execution_count": 227,
     "metadata": {},
     "output_type": "execute_result"
    }
   ],
   "source": [
    "# Simple merging syntax\n",
    "df1.merge(df2,on=['stock'],how='right')\n",
    "# inner - intersection\n",
    "# outer - union\n",
    "# left - keeps all left dataframe \n",
    "# right - keeps all right dataframe"
   ]
  },
  {
   "cell_type": "markdown",
   "metadata": {},
   "source": [
    "### Groupby\n",
    "\n",
    "Similar to the Pivot table in excel, this function lets you group/split data for calculations and transformations."
   ]
  },
  {
   "cell_type": "code",
   "execution_count": 169,
   "metadata": {},
   "outputs": [
    {
     "data": {
      "text/html": [
       "<div>\n",
       "<style scoped>\n",
       "    .dataframe tbody tr th:only-of-type {\n",
       "        vertical-align: middle;\n",
       "    }\n",
       "\n",
       "    .dataframe tbody tr th {\n",
       "        vertical-align: top;\n",
       "    }\n",
       "\n",
       "    .dataframe thead th {\n",
       "        text-align: right;\n",
       "    }\n",
       "</style>\n",
       "<table border=\"1\" class=\"dataframe\">\n",
       "  <thead>\n",
       "    <tr style=\"text-align: right;\">\n",
       "      <th></th>\n",
       "      <th>permno</th>\n",
       "      <th>company_name</th>\n",
       "      <th>date</th>\n",
       "      <th>total_returns</th>\n",
       "      <th>price</th>\n",
       "      <th>share_outstanding</th>\n",
       "      <th>market cap</th>\n",
       "    </tr>\n",
       "  </thead>\n",
       "  <tbody>\n",
       "    <tr>\n",
       "      <th>2953</th>\n",
       "      <td>10137</td>\n",
       "      <td>ALLEGHENY ENERGY INC</td>\n",
       "      <td>2010-08-31</td>\n",
       "      <td>-0.010965</td>\n",
       "      <td>22.55</td>\n",
       "      <td>169615</td>\n",
       "      <td>3824818.25</td>\n",
       "    </tr>\n",
       "    <tr>\n",
       "      <th>2954</th>\n",
       "      <td>10137</td>\n",
       "      <td>ALLEGHENY ENERGY INC</td>\n",
       "      <td>2010-09-30</td>\n",
       "      <td>0.094013</td>\n",
       "      <td>24.52</td>\n",
       "      <td>169615</td>\n",
       "      <td>4158959.80</td>\n",
       "    </tr>\n",
       "    <tr>\n",
       "      <th>2955</th>\n",
       "      <td>10137</td>\n",
       "      <td>ALLEGHENY ENERGY INC</td>\n",
       "      <td>2010-10-31</td>\n",
       "      <td>-0.053834</td>\n",
       "      <td>23.20</td>\n",
       "      <td>169615</td>\n",
       "      <td>3935068.00</td>\n",
       "    </tr>\n",
       "    <tr>\n",
       "      <th>2956</th>\n",
       "      <td>10137</td>\n",
       "      <td>ALLEGHENY ENERGY INC</td>\n",
       "      <td>2010-11-30</td>\n",
       "      <td>NaN</td>\n",
       "      <td>22.82</td>\n",
       "      <td>169939</td>\n",
       "      <td>3878007.98</td>\n",
       "    </tr>\n",
       "    <tr>\n",
       "      <th>2957</th>\n",
       "      <td>10137</td>\n",
       "      <td>ALLEGHENY ENERGY INC</td>\n",
       "      <td>2010-12-31</td>\n",
       "      <td>NaN</td>\n",
       "      <td>NaN</td>\n",
       "      <td>169939</td>\n",
       "      <td>NaN</td>\n",
       "    </tr>\n",
       "    <tr>\n",
       "      <th>2958</th>\n",
       "      <td>10137</td>\n",
       "      <td>ALLEGHENY ENERGY INC</td>\n",
       "      <td>2011-01-31</td>\n",
       "      <td>0.063531</td>\n",
       "      <td>25.78</td>\n",
       "      <td>169939</td>\n",
       "      <td>4381027.42</td>\n",
       "    </tr>\n",
       "    <tr>\n",
       "      <th>2959</th>\n",
       "      <td>10137</td>\n",
       "      <td>ALLEGHENY ENERGY INC</td>\n",
       "      <td>2011-02-28</td>\n",
       "      <td>-0.009073</td>\n",
       "      <td>NaN</td>\n",
       "      <td>169974</td>\n",
       "      <td>NaN</td>\n",
       "    </tr>\n",
       "  </tbody>\n",
       "</table>\n",
       "</div>"
      ],
      "text/plain": [
       "      permno          company_name       date  total_returns  price  \\\n",
       "2953   10137  ALLEGHENY ENERGY INC 2010-08-31      -0.010965  22.55   \n",
       "2954   10137  ALLEGHENY ENERGY INC 2010-09-30       0.094013  24.52   \n",
       "2955   10137  ALLEGHENY ENERGY INC 2010-10-31      -0.053834  23.20   \n",
       "2956   10137  ALLEGHENY ENERGY INC 2010-11-30            NaN  22.82   \n",
       "2957   10137  ALLEGHENY ENERGY INC 2010-12-31            NaN    NaN   \n",
       "2958   10137  ALLEGHENY ENERGY INC 2011-01-31       0.063531  25.78   \n",
       "2959   10137  ALLEGHENY ENERGY INC 2011-02-28      -0.009073    NaN   \n",
       "\n",
       "      share_outstanding  market cap  \n",
       "2953             169615  3824818.25  \n",
       "2954             169615  4158959.80  \n",
       "2955             169615  3935068.00  \n",
       "2956             169939  3878007.98  \n",
       "2957             169939         NaN  \n",
       "2958             169939  4381027.42  \n",
       "2959             169974         NaN  "
      ]
     },
     "execution_count": 169,
     "metadata": {},
     "output_type": "execute_result"
    }
   ],
   "source": [
    "# Reloading the dataset analyzed above (shortcut to parse the dates while reading the data)\n",
    "df = pd.read_csv(\"stock_data.csv\",sep = ',',parse_dates=['date'])\n",
    "\n",
    "# Converting any letters into NaN\n",
    "df['price'] = pd.to_numeric(df['price'],errors='coerce')\n",
    "df['total_returns'] = pd.to_numeric(df['total_returns'],errors='coerce')\n",
    "\n",
    "# Creating a new column\n",
    "df['market cap'] = df['price']*df['share_outstanding']\n",
    "\n",
    "# Printing the tail\n",
    "df.tail(7)"
   ]
  },
  {
   "cell_type": "code",
   "execution_count": 177,
   "metadata": {},
   "outputs": [
    {
     "data": {
      "text/plain": [
       "permno\n",
       "10001    0.007565\n",
       "10006    0.007779\n",
       "10014    0.026291\n",
       "10028    0.039606\n",
       "10029    0.019836\n",
       "10042    0.052273\n",
       "10048    0.023579\n",
       "10051    0.024228\n",
       "10057    0.015555\n",
       "10064    0.022415\n",
       "10066    0.081440\n",
       "10071    0.013895\n",
       "10085    0.024964\n",
       "10092    0.026263\n",
       "10097    0.041925\n",
       "10102    0.009493\n",
       "10104    0.002682\n",
       "10108    0.010004\n",
       "10116    0.060224\n",
       "10119    0.008312\n",
       "10120    0.012519\n",
       "10123    0.026234\n",
       "10125    0.106278\n",
       "10126    0.006824\n",
       "10137    0.005876\n",
       "Name: total_returns, dtype: float64"
      ]
     },
     "execution_count": 177,
     "metadata": {},
     "output_type": "execute_result"
    }
   ],
   "source": [
    "# Grouping by Company Name and counting number of data points available\n",
    "df.groupby('permno')['total_returns'].var()\n",
    "#list(df.groupby('permno')['total_returns'])\n",
    "#df[['total_returns']]"
   ]
  },
  {
   "cell_type": "code",
   "execution_count": 179,
   "metadata": {},
   "outputs": [
    {
     "data": {
      "text/html": [
       "<div>\n",
       "<style scoped>\n",
       "    .dataframe tbody tr th:only-of-type {\n",
       "        vertical-align: middle;\n",
       "    }\n",
       "\n",
       "    .dataframe tbody tr th {\n",
       "        vertical-align: top;\n",
       "    }\n",
       "\n",
       "    .dataframe thead th {\n",
       "        text-align: right;\n",
       "    }\n",
       "</style>\n",
       "<table border=\"1\" class=\"dataframe\">\n",
       "  <thead>\n",
       "    <tr style=\"text-align: right;\">\n",
       "      <th></th>\n",
       "      <th>permno</th>\n",
       "      <th>mean</th>\n",
       "      <th>median</th>\n",
       "      <th>std</th>\n",
       "      <th>var</th>\n",
       "    </tr>\n",
       "  </thead>\n",
       "  <tbody>\n",
       "    <tr>\n",
       "      <th>0</th>\n",
       "      <td>10001</td>\n",
       "      <td>0.011265</td>\n",
       "      <td>0.005005</td>\n",
       "      <td>0.086980</td>\n",
       "      <td>0.007565</td>\n",
       "    </tr>\n",
       "    <tr>\n",
       "      <th>1</th>\n",
       "      <td>10006</td>\n",
       "      <td>0.016444</td>\n",
       "      <td>0.004781</td>\n",
       "      <td>0.088196</td>\n",
       "      <td>0.007779</td>\n",
       "    </tr>\n",
       "    <tr>\n",
       "      <th>2</th>\n",
       "      <td>10014</td>\n",
       "      <td>0.066331</td>\n",
       "      <td>0.063492</td>\n",
       "      <td>0.162146</td>\n",
       "      <td>0.026291</td>\n",
       "    </tr>\n",
       "    <tr>\n",
       "      <th>3</th>\n",
       "      <td>10028</td>\n",
       "      <td>0.018371</td>\n",
       "      <td>0.000000</td>\n",
       "      <td>0.199012</td>\n",
       "      <td>0.039606</td>\n",
       "    </tr>\n",
       "    <tr>\n",
       "      <th>4</th>\n",
       "      <td>10029</td>\n",
       "      <td>0.016912</td>\n",
       "      <td>-0.015385</td>\n",
       "      <td>0.140841</td>\n",
       "      <td>0.019836</td>\n",
       "    </tr>\n",
       "    <tr>\n",
       "      <th>5</th>\n",
       "      <td>10042</td>\n",
       "      <td>0.000938</td>\n",
       "      <td>-0.019328</td>\n",
       "      <td>0.228634</td>\n",
       "      <td>0.052273</td>\n",
       "    </tr>\n",
       "    <tr>\n",
       "      <th>6</th>\n",
       "      <td>10048</td>\n",
       "      <td>0.013463</td>\n",
       "      <td>-0.006173</td>\n",
       "      <td>0.153554</td>\n",
       "      <td>0.023579</td>\n",
       "    </tr>\n",
       "    <tr>\n",
       "      <th>7</th>\n",
       "      <td>10051</td>\n",
       "      <td>0.016105</td>\n",
       "      <td>0.005057</td>\n",
       "      <td>0.155655</td>\n",
       "      <td>0.024228</td>\n",
       "    </tr>\n",
       "    <tr>\n",
       "      <th>8</th>\n",
       "      <td>10057</td>\n",
       "      <td>0.016231</td>\n",
       "      <td>-0.003774</td>\n",
       "      <td>0.124718</td>\n",
       "      <td>0.015555</td>\n",
       "    </tr>\n",
       "    <tr>\n",
       "      <th>9</th>\n",
       "      <td>10064</td>\n",
       "      <td>0.004924</td>\n",
       "      <td>0.000000</td>\n",
       "      <td>0.149715</td>\n",
       "      <td>0.022415</td>\n",
       "    </tr>\n",
       "    <tr>\n",
       "      <th>10</th>\n",
       "      <td>10066</td>\n",
       "      <td>-0.123156</td>\n",
       "      <td>-0.113636</td>\n",
       "      <td>0.285377</td>\n",
       "      <td>0.081440</td>\n",
       "    </tr>\n",
       "    <tr>\n",
       "      <th>11</th>\n",
       "      <td>10071</td>\n",
       "      <td>0.036420</td>\n",
       "      <td>0.040795</td>\n",
       "      <td>0.117875</td>\n",
       "      <td>0.013895</td>\n",
       "    </tr>\n",
       "    <tr>\n",
       "      <th>12</th>\n",
       "      <td>10085</td>\n",
       "      <td>0.019568</td>\n",
       "      <td>0.004620</td>\n",
       "      <td>0.158000</td>\n",
       "      <td>0.024964</td>\n",
       "    </tr>\n",
       "    <tr>\n",
       "      <th>13</th>\n",
       "      <td>10092</td>\n",
       "      <td>-0.014759</td>\n",
       "      <td>-0.030699</td>\n",
       "      <td>0.162058</td>\n",
       "      <td>0.026263</td>\n",
       "    </tr>\n",
       "    <tr>\n",
       "      <th>14</th>\n",
       "      <td>10097</td>\n",
       "      <td>0.065653</td>\n",
       "      <td>-0.024390</td>\n",
       "      <td>0.204756</td>\n",
       "      <td>0.041925</td>\n",
       "    </tr>\n",
       "    <tr>\n",
       "      <th>15</th>\n",
       "      <td>10102</td>\n",
       "      <td>0.046957</td>\n",
       "      <td>0.005263</td>\n",
       "      <td>0.097431</td>\n",
       "      <td>0.009493</td>\n",
       "    </tr>\n",
       "    <tr>\n",
       "      <th>16</th>\n",
       "      <td>10104</td>\n",
       "      <td>0.009577</td>\n",
       "      <td>0.008271</td>\n",
       "      <td>0.051786</td>\n",
       "      <td>0.002682</td>\n",
       "    </tr>\n",
       "    <tr>\n",
       "      <th>17</th>\n",
       "      <td>10108</td>\n",
       "      <td>0.017236</td>\n",
       "      <td>0.012736</td>\n",
       "      <td>0.100021</td>\n",
       "      <td>0.010004</td>\n",
       "    </tr>\n",
       "    <tr>\n",
       "      <th>18</th>\n",
       "      <td>10116</td>\n",
       "      <td>0.018598</td>\n",
       "      <td>-0.017241</td>\n",
       "      <td>0.245405</td>\n",
       "      <td>0.060224</td>\n",
       "    </tr>\n",
       "    <tr>\n",
       "      <th>19</th>\n",
       "      <td>10119</td>\n",
       "      <td>0.005927</td>\n",
       "      <td>0.003708</td>\n",
       "      <td>0.091172</td>\n",
       "      <td>0.008312</td>\n",
       "    </tr>\n",
       "    <tr>\n",
       "      <th>20</th>\n",
       "      <td>10120</td>\n",
       "      <td>0.020410</td>\n",
       "      <td>0.010091</td>\n",
       "      <td>0.111890</td>\n",
       "      <td>0.012519</td>\n",
       "    </tr>\n",
       "    <tr>\n",
       "      <th>21</th>\n",
       "      <td>10123</td>\n",
       "      <td>0.019944</td>\n",
       "      <td>0.000000</td>\n",
       "      <td>0.161970</td>\n",
       "      <td>0.026234</td>\n",
       "    </tr>\n",
       "    <tr>\n",
       "      <th>22</th>\n",
       "      <td>10125</td>\n",
       "      <td>-0.123404</td>\n",
       "      <td>-0.153846</td>\n",
       "      <td>0.326003</td>\n",
       "      <td>0.106278</td>\n",
       "    </tr>\n",
       "    <tr>\n",
       "      <th>23</th>\n",
       "      <td>10126</td>\n",
       "      <td>0.008206</td>\n",
       "      <td>0.020000</td>\n",
       "      <td>0.082606</td>\n",
       "      <td>0.006824</td>\n",
       "    </tr>\n",
       "    <tr>\n",
       "      <th>24</th>\n",
       "      <td>10137</td>\n",
       "      <td>0.011641</td>\n",
       "      <td>0.013954</td>\n",
       "      <td>0.076652</td>\n",
       "      <td>0.005876</td>\n",
       "    </tr>\n",
       "  </tbody>\n",
       "</table>\n",
       "</div>"
      ],
      "text/plain": [
       "    permno      mean    median       std       var\n",
       "0    10001  0.011265  0.005005  0.086980  0.007565\n",
       "1    10006  0.016444  0.004781  0.088196  0.007779\n",
       "2    10014  0.066331  0.063492  0.162146  0.026291\n",
       "3    10028  0.018371  0.000000  0.199012  0.039606\n",
       "4    10029  0.016912 -0.015385  0.140841  0.019836\n",
       "5    10042  0.000938 -0.019328  0.228634  0.052273\n",
       "6    10048  0.013463 -0.006173  0.153554  0.023579\n",
       "7    10051  0.016105  0.005057  0.155655  0.024228\n",
       "8    10057  0.016231 -0.003774  0.124718  0.015555\n",
       "9    10064  0.004924  0.000000  0.149715  0.022415\n",
       "10   10066 -0.123156 -0.113636  0.285377  0.081440\n",
       "11   10071  0.036420  0.040795  0.117875  0.013895\n",
       "12   10085  0.019568  0.004620  0.158000  0.024964\n",
       "13   10092 -0.014759 -0.030699  0.162058  0.026263\n",
       "14   10097  0.065653 -0.024390  0.204756  0.041925\n",
       "15   10102  0.046957  0.005263  0.097431  0.009493\n",
       "16   10104  0.009577  0.008271  0.051786  0.002682\n",
       "17   10108  0.017236  0.012736  0.100021  0.010004\n",
       "18   10116  0.018598 -0.017241  0.245405  0.060224\n",
       "19   10119  0.005927  0.003708  0.091172  0.008312\n",
       "20   10120  0.020410  0.010091  0.111890  0.012519\n",
       "21   10123  0.019944  0.000000  0.161970  0.026234\n",
       "22   10125 -0.123404 -0.153846  0.326003  0.106278\n",
       "23   10126  0.008206  0.020000  0.082606  0.006824\n",
       "24   10137  0.011641  0.013954  0.076652  0.005876"
      ]
     },
     "execution_count": 179,
     "metadata": {},
     "output_type": "execute_result"
    }
   ],
   "source": [
    "# Aggregating various statistics of returns for each PERMNO\n",
    "df.groupby('permno')['total_returns'].agg([np.mean,np.median,np.std,np.var]).reset_index()"
   ]
  },
  {
   "cell_type": "code",
   "execution_count": null,
   "metadata": {},
   "outputs": [],
   "source": [
    "# Grouping by dates and calculating average returns for each date\n",
    "df.groupby('date')['total_returns'].mean()#.reset_index()"
   ]
  },
  {
   "cell_type": "code",
   "execution_count": null,
   "metadata": {},
   "outputs": [],
   "source": [
    "# Binning market cap >200,000 USD\n",
    "df.loc[df['market cap']<=200000,'category'] = 1\n",
    "df.loc[df['market cap']>200000,'category'] = 2\n",
    "df.head()"
   ]
  },
  {
   "cell_type": "code",
   "execution_count": null,
   "metadata": {},
   "outputs": [],
   "source": [
    "# Grouping by two columns\n",
    "df.groupby(['date','category'])['total_returns'].mean().head(15)#reset_index"
   ]
  },
  {
   "cell_type": "markdown",
   "metadata": {},
   "source": [
    "### Stack/Unstack"
   ]
  },
  {
   "cell_type": "code",
   "execution_count": null,
   "metadata": {},
   "outputs": [],
   "source": [
    "# Simple example of unstacking (from above example)\n",
    "df.groupby(['date','category'])['total_returns'].mean().head(15)\n",
    "# Execute the unstack command and show how 1 and 2 are now separate columns"
   ]
  },
  {
   "cell_type": "code",
   "execution_count": null,
   "metadata": {},
   "outputs": [],
   "source": [
    "# creating a new dataframe\n",
    "df2 = pd.DataFrame(np.linspace(0,10,10).reshape(5,2),columns=['A','B'])\n",
    "df2"
   ]
  },
  {
   "cell_type": "code",
   "execution_count": null,
   "metadata": {},
   "outputs": [],
   "source": [
    "# Stacking the columns \n",
    "df2.stack()"
   ]
  },
  {
   "cell_type": "markdown",
   "metadata": {},
   "source": [
    "# Take Home Questions\n",
    "\n",
    "- **Pandas Mul Function** - Use this dataframe created in the code chunk below. We have three columns with random float values. The goal is to multiply columns 1 and 2 with columns 3. Firstly, notice how running the function (df[['col1','col2']]*df['col3']) returns a matrix of NaN values. Now, use the .mul() function by passing df[['col1','col2']].mul(df['col3'],axis=0). Notice how we get the same NaN matrix when we change axis=1 instead. "
   ]
  },
  {
   "cell_type": "code",
   "execution_count": 187,
   "metadata": {},
   "outputs": [
    {
     "data": {
      "text/html": [
       "<div>\n",
       "<style scoped>\n",
       "    .dataframe tbody tr th:only-of-type {\n",
       "        vertical-align: middle;\n",
       "    }\n",
       "\n",
       "    .dataframe tbody tr th {\n",
       "        vertical-align: top;\n",
       "    }\n",
       "\n",
       "    .dataframe thead th {\n",
       "        text-align: right;\n",
       "    }\n",
       "</style>\n",
       "<table border=\"1\" class=\"dataframe\">\n",
       "  <thead>\n",
       "    <tr style=\"text-align: right;\">\n",
       "      <th></th>\n",
       "      <th>col1</th>\n",
       "      <th>col2</th>\n",
       "      <th>col3</th>\n",
       "    </tr>\n",
       "  </thead>\n",
       "  <tbody>\n",
       "    <tr>\n",
       "      <th>0</th>\n",
       "      <td>0.696469</td>\n",
       "      <td>0.343178</td>\n",
       "      <td>0.634401</td>\n",
       "    </tr>\n",
       "    <tr>\n",
       "      <th>1</th>\n",
       "      <td>0.286139</td>\n",
       "      <td>0.729050</td>\n",
       "      <td>0.849432</td>\n",
       "    </tr>\n",
       "    <tr>\n",
       "      <th>2</th>\n",
       "      <td>0.226851</td>\n",
       "      <td>0.438572</td>\n",
       "      <td>0.724455</td>\n",
       "    </tr>\n",
       "    <tr>\n",
       "      <th>3</th>\n",
       "      <td>0.551315</td>\n",
       "      <td>0.059678</td>\n",
       "      <td>0.611024</td>\n",
       "    </tr>\n",
       "    <tr>\n",
       "      <th>4</th>\n",
       "      <td>0.719469</td>\n",
       "      <td>0.398044</td>\n",
       "      <td>0.722443</td>\n",
       "    </tr>\n",
       "    <tr>\n",
       "      <th>5</th>\n",
       "      <td>0.423106</td>\n",
       "      <td>0.737995</td>\n",
       "      <td>0.322959</td>\n",
       "    </tr>\n",
       "    <tr>\n",
       "      <th>6</th>\n",
       "      <td>0.980764</td>\n",
       "      <td>0.182492</td>\n",
       "      <td>0.361789</td>\n",
       "    </tr>\n",
       "    <tr>\n",
       "      <th>7</th>\n",
       "      <td>0.684830</td>\n",
       "      <td>0.175452</td>\n",
       "      <td>0.228263</td>\n",
       "    </tr>\n",
       "    <tr>\n",
       "      <th>8</th>\n",
       "      <td>0.480932</td>\n",
       "      <td>0.531551</td>\n",
       "      <td>0.293714</td>\n",
       "    </tr>\n",
       "    <tr>\n",
       "      <th>9</th>\n",
       "      <td>0.392118</td>\n",
       "      <td>0.531828</td>\n",
       "      <td>0.630976</td>\n",
       "    </tr>\n",
       "  </tbody>\n",
       "</table>\n",
       "</div>"
      ],
      "text/plain": [
       "       col1      col2      col3\n",
       "0  0.696469  0.343178  0.634401\n",
       "1  0.286139  0.729050  0.849432\n",
       "2  0.226851  0.438572  0.724455\n",
       "3  0.551315  0.059678  0.611024\n",
       "4  0.719469  0.398044  0.722443\n",
       "5  0.423106  0.737995  0.322959\n",
       "6  0.980764  0.182492  0.361789\n",
       "7  0.684830  0.175452  0.228263\n",
       "8  0.480932  0.531551  0.293714\n",
       "9  0.392118  0.531828  0.630976"
      ]
     },
     "execution_count": 187,
     "metadata": {},
     "output_type": "execute_result"
    }
   ],
   "source": [
    "# Creating a dataframe for problem 1\n",
    "np.random.seed(123)\n",
    "df = pd.DataFrame() # Creating a blank data-frame\n",
    "df['col1'] = np.random.rand(10)\n",
    "df['col2'] = np.random.rand(10)\n",
    "df['col3'] = np.random.rand(10)\n",
    "df"
   ]
  },
  {
   "cell_type": "markdown",
   "metadata": {},
   "source": [
    "- **Load CSV data** (*stock_data.csv*) - parse dates using the *pd.to_datetime* command, read the stock returns as numeric values using the *pd.to_numeric* command, drop all NaN values using the dropna(), and reset the index. We will be working with this dataframe (unless stated otherwise) for the remainder of the questions below.\n",
    "\n",
    "- **Aggregating** - For each PERMNO, calculate the following statistics for the total_returns - sum, mean, std dev, and median. *Hint - use .groupby('permno') and then aggregate by the stats. The \".agg()\" function might be useful*.\n",
    "\n",
    "- **Filtering Text** - You can parse the company name column to search for companies that match your key words. A basic filter would be to check for \"OIL\", \"GAS\", and \"ENERGY\" companies. Write a program that returns the number of unique PERMNOs that match the above 3 key-words. *Hint*: Try using df['company_name'].str.contains(). Also, **regex** (regular expression) is a is a powerful library you may want to try out (for those interested in text analysis)!\n",
    "\n",
    "- **Merging** - Create a new dataframe with the last available date and price for each PERMNO. For example, the only entry for PERMNO 10001 is 31-Jul-2017 (date) and 12.95 (price). Merge this new dataframe onto the original dataframe. Fill the missing/NaN values using pandas fillna function with a method of your choice.\n",
    "\n",
    "- **Lagged Market Cap** - Create three new columns that contain the 6-month, 1-year, and 5-year lagged market cap. For example: PERMNO 10001 on 30-Jun-2016 will have the market cap as on 31-Dec-2015 (7.45 $\\cdot$ 10505 = 78262.25) as its 6-month lag market cap. Perform a similar exercise to generate the 1-year and the 5-year lag market caps.\n",
    "\n",
    "- **Resampling Frequency** - Convert the monthly dataframe that you loaded above into quarterly data and annual data. *Hint*: First, load and clean the data as per procedure mentioned above. Second, create a new column containing quarters corresponding to the given month (ex: 30-Nov-2010 is a quarter 4). Lastly, create a new dataframe \"df_quarter\" by aggregating data using the groupby command. For the quarterly dataframe your columns will be {permno, date, quarter, total_returns, market_cap}. Note that you will need to add the monthly returns to generate quarterly returns. Also note that you will need the quarter end market cap for each PERMNO each quarter. For example : In the Quarterly dataframe, PERMNO 10001 as of 31-Mar-2010 will have total returns 0.001055 (-0.018932-0.000656+0.020643) and the market cap 44351.37 (10.17$\\cdot$4361). Perform the same procedure for creating data at an annual frequency."
   ]
  },
  {
   "cell_type": "code",
   "execution_count": 203,
   "metadata": {},
   "outputs": [
    {
     "data": {
      "text/html": [
       "<div>\n",
       "<style scoped>\n",
       "    .dataframe tbody tr th:only-of-type {\n",
       "        vertical-align: middle;\n",
       "    }\n",
       "\n",
       "    .dataframe tbody tr th {\n",
       "        vertical-align: top;\n",
       "    }\n",
       "\n",
       "    .dataframe thead th {\n",
       "        text-align: right;\n",
       "    }\n",
       "</style>\n",
       "<table border=\"1\" class=\"dataframe\">\n",
       "  <thead>\n",
       "    <tr style=\"text-align: right;\">\n",
       "      <th></th>\n",
       "      <th>col1</th>\n",
       "      <th>col2</th>\n",
       "    </tr>\n",
       "  </thead>\n",
       "  <tbody>\n",
       "    <tr>\n",
       "      <th>0</th>\n",
       "      <td>0.441841</td>\n",
       "      <td>0.217712</td>\n",
       "    </tr>\n",
       "    <tr>\n",
       "      <th>1</th>\n",
       "      <td>0.243056</td>\n",
       "      <td>0.619278</td>\n",
       "    </tr>\n",
       "    <tr>\n",
       "      <th>2</th>\n",
       "      <td>0.164344</td>\n",
       "      <td>0.317726</td>\n",
       "    </tr>\n",
       "    <tr>\n",
       "      <th>3</th>\n",
       "      <td>0.336866</td>\n",
       "      <td>0.036465</td>\n",
       "    </tr>\n",
       "    <tr>\n",
       "      <th>4</th>\n",
       "      <td>0.519776</td>\n",
       "      <td>0.287564</td>\n",
       "    </tr>\n",
       "    <tr>\n",
       "      <th>5</th>\n",
       "      <td>0.136646</td>\n",
       "      <td>0.238342</td>\n",
       "    </tr>\n",
       "    <tr>\n",
       "      <th>6</th>\n",
       "      <td>0.354829</td>\n",
       "      <td>0.066023</td>\n",
       "    </tr>\n",
       "    <tr>\n",
       "      <th>7</th>\n",
       "      <td>0.156321</td>\n",
       "      <td>0.040049</td>\n",
       "    </tr>\n",
       "    <tr>\n",
       "      <th>8</th>\n",
       "      <td>0.141256</td>\n",
       "      <td>0.156124</td>\n",
       "    </tr>\n",
       "    <tr>\n",
       "      <th>9</th>\n",
       "      <td>0.247417</td>\n",
       "      <td>0.335571</td>\n",
       "    </tr>\n",
       "  </tbody>\n",
       "</table>\n",
       "</div>"
      ],
      "text/plain": [
       "       col1      col2\n",
       "0  0.441841  0.217712\n",
       "1  0.243056  0.619278\n",
       "2  0.164344  0.317726\n",
       "3  0.336866  0.036465\n",
       "4  0.519776  0.287564\n",
       "5  0.136646  0.238342\n",
       "6  0.354829  0.066023\n",
       "7  0.156321  0.040049\n",
       "8  0.141256  0.156124\n",
       "9  0.247417  0.335571"
      ]
     },
     "execution_count": 203,
     "metadata": {},
     "output_type": "execute_result"
    }
   ],
   "source": [
    "# Question 1\n",
    "np.random.seed(123)\n",
    "df = pd.DataFrame() # Creating a blank data-frame\n",
    "df['col1'] = np.random.rand(10)\n",
    "df['col2'] = np.random.rand(10)\n",
    "df['col3'] = np.random.rand(10)\n",
    "df[['col1','col2']].mul(df['col3'],axis=0) # 10x2 and a 10x1\n",
    "#df[['col1','col2']]*df['col3']"
   ]
  },
  {
   "cell_type": "code",
   "execution_count": 222,
   "metadata": {},
   "outputs": [
    {
     "name": "stdout",
     "output_type": "stream",
     "text": [
      "(2960, 6)\n",
      "(2913, 6)\n"
     ]
    },
    {
     "data": {
      "text/html": [
       "<div>\n",
       "<style scoped>\n",
       "    .dataframe tbody tr th:only-of-type {\n",
       "        vertical-align: middle;\n",
       "    }\n",
       "\n",
       "    .dataframe tbody tr th {\n",
       "        vertical-align: top;\n",
       "    }\n",
       "\n",
       "    .dataframe thead th {\n",
       "        text-align: right;\n",
       "    }\n",
       "</style>\n",
       "<table border=\"1\" class=\"dataframe\">\n",
       "  <thead>\n",
       "    <tr style=\"text-align: right;\">\n",
       "      <th></th>\n",
       "      <th>permno</th>\n",
       "      <th>company_name</th>\n",
       "      <th>date</th>\n",
       "      <th>total_returns</th>\n",
       "      <th>price</th>\n",
       "      <th>share_outstanding</th>\n",
       "    </tr>\n",
       "  </thead>\n",
       "  <tbody>\n",
       "    <tr>\n",
       "      <th>0</th>\n",
       "      <td>10001</td>\n",
       "      <td>ENERGY INC</td>\n",
       "      <td>2009-12-31</td>\n",
       "      <td>0.162621</td>\n",
       "      <td>10.3000</td>\n",
       "      <td>4361</td>\n",
       "    </tr>\n",
       "    <tr>\n",
       "      <th>1</th>\n",
       "      <td>10001</td>\n",
       "      <td>ENERGY INC</td>\n",
       "      <td>2010-01-31</td>\n",
       "      <td>-0.018932</td>\n",
       "      <td>10.0600</td>\n",
       "      <td>4361</td>\n",
       "    </tr>\n",
       "    <tr>\n",
       "      <th>2</th>\n",
       "      <td>10001</td>\n",
       "      <td>ENERGY INC</td>\n",
       "      <td>2010-02-28</td>\n",
       "      <td>-0.000656</td>\n",
       "      <td>10.0084</td>\n",
       "      <td>4361</td>\n",
       "    </tr>\n",
       "    <tr>\n",
       "      <th>3</th>\n",
       "      <td>10001</td>\n",
       "      <td>ENERGY INC</td>\n",
       "      <td>2010-03-31</td>\n",
       "      <td>0.020643</td>\n",
       "      <td>10.1700</td>\n",
       "      <td>4361</td>\n",
       "    </tr>\n",
       "    <tr>\n",
       "      <th>4</th>\n",
       "      <td>10001</td>\n",
       "      <td>ENERGY INC</td>\n",
       "      <td>2010-04-30</td>\n",
       "      <td>0.124385</td>\n",
       "      <td>11.3900</td>\n",
       "      <td>6070</td>\n",
       "    </tr>\n",
       "  </tbody>\n",
       "</table>\n",
       "</div>"
      ],
      "text/plain": [
       "   permno company_name       date  total_returns    price  share_outstanding\n",
       "0   10001   ENERGY INC 2009-12-31       0.162621  10.3000               4361\n",
       "1   10001   ENERGY INC 2010-01-31      -0.018932  10.0600               4361\n",
       "2   10001   ENERGY INC 2010-02-28      -0.000656  10.0084               4361\n",
       "3   10001   ENERGY INC 2010-03-31       0.020643  10.1700               4361\n",
       "4   10001   ENERGY INC 2010-04-30       0.124385  11.3900               6070"
      ]
     },
     "execution_count": 222,
     "metadata": {},
     "output_type": "execute_result"
    }
   ],
   "source": [
    "# Question 2\n",
    "df = pd.read_csv(\"stock_data.csv\",sep = ',',parse_dates=['date'])\n",
    "df['total_returns'] = pd.to_numeric(df['total_returns'],errors='coerce')\n",
    "df['price'] = pd.to_numeric(df['price'],errors='coerce')\n",
    "print(df.shape)\n",
    "df = df.dropna().reset_index(drop=True)\n",
    "print(df.shape)\n",
    "df.head()"
   ]
  },
  {
   "cell_type": "code",
   "execution_count": 206,
   "metadata": {},
   "outputs": [
    {
     "name": "stdout",
     "output_type": "stream",
     "text": [
      "There are 2 energy and 1 oil & gas firms\n"
     ]
    }
   ],
   "source": [
    "# Question 3\n",
    "energy = df[df['company_name'].str.contains(\"ENERGY\")]['permno'].nunique()\n",
    "oil = df[df['company_name'].str.contains(\"OIL\")]['permno'].nunique()\n",
    "gas = df[df['company_name'].str.contains(\"GAS\")]['permno'].nunique()\n",
    "\n",
    "print(\"There are {} energy and {} oil & gas firms\".format(energy,oil+gas))"
   ]
  },
  {
   "cell_type": "code",
   "execution_count": 220,
   "metadata": {},
   "outputs": [
    {
     "data": {
      "text/html": [
       "<div>\n",
       "<style scoped>\n",
       "    .dataframe tbody tr th:only-of-type {\n",
       "        vertical-align: middle;\n",
       "    }\n",
       "\n",
       "    .dataframe tbody tr th {\n",
       "        vertical-align: top;\n",
       "    }\n",
       "\n",
       "    .dataframe thead th {\n",
       "        text-align: right;\n",
       "    }\n",
       "</style>\n",
       "<table border=\"1\" class=\"dataframe\">\n",
       "  <thead>\n",
       "    <tr style=\"text-align: right;\">\n",
       "      <th></th>\n",
       "      <th>permno</th>\n",
       "      <th>date</th>\n",
       "      <th>price</th>\n",
       "    </tr>\n",
       "  </thead>\n",
       "  <tbody>\n",
       "    <tr>\n",
       "      <th>0</th>\n",
       "      <td>10001</td>\n",
       "      <td>2017-07-31</td>\n",
       "      <td>12.950</td>\n",
       "    </tr>\n",
       "    <tr>\n",
       "      <th>1</th>\n",
       "      <td>10006</td>\n",
       "      <td>1984-05-31</td>\n",
       "      <td>52.625</td>\n",
       "    </tr>\n",
       "    <tr>\n",
       "      <th>2</th>\n",
       "      <td>10014</td>\n",
       "      <td>1977-03-31</td>\n",
       "      <td>4.750</td>\n",
       "    </tr>\n",
       "    <tr>\n",
       "      <th>3</th>\n",
       "      <td>10028</td>\n",
       "      <td>2019-12-31</td>\n",
       "      <td>1.350</td>\n",
       "    </tr>\n",
       "    <tr>\n",
       "      <th>4</th>\n",
       "      <td>10029</td>\n",
       "      <td>1990-07-31</td>\n",
       "      <td>6.125</td>\n",
       "    </tr>\n",
       "  </tbody>\n",
       "</table>\n",
       "</div>"
      ],
      "text/plain": [
       "   permno       date   price\n",
       "0   10001 2017-07-31  12.950\n",
       "1   10006 1984-05-31  52.625\n",
       "2   10014 1977-03-31   4.750\n",
       "3   10028 2019-12-31   1.350\n",
       "4   10029 1990-07-31   6.125"
      ]
     },
     "execution_count": 220,
     "metadata": {},
     "output_type": "execute_result"
    }
   ],
   "source": [
    "df_last = df.groupby('permno')['date'].max().reset_index()\n",
    "\n",
    "# Merging the corresponding price of the last date\n",
    "df_last = df_last.merge(df[['permno','date','price']],on=['permno','date'],how='left')\n",
    "\n",
    "df_last.head()"
   ]
  },
  {
   "cell_type": "code",
   "execution_count": 223,
   "metadata": {},
   "outputs": [
    {
     "data": {
      "text/html": [
       "<div>\n",
       "<style scoped>\n",
       "    .dataframe tbody tr th:only-of-type {\n",
       "        vertical-align: middle;\n",
       "    }\n",
       "\n",
       "    .dataframe tbody tr th {\n",
       "        vertical-align: top;\n",
       "    }\n",
       "\n",
       "    .dataframe thead th {\n",
       "        text-align: right;\n",
       "    }\n",
       "</style>\n",
       "<table border=\"1\" class=\"dataframe\">\n",
       "  <thead>\n",
       "    <tr style=\"text-align: right;\">\n",
       "      <th></th>\n",
       "      <th>permno</th>\n",
       "      <th>company_name</th>\n",
       "      <th>date</th>\n",
       "      <th>total_returns</th>\n",
       "      <th>price</th>\n",
       "      <th>share_outstanding</th>\n",
       "      <th>price_last</th>\n",
       "    </tr>\n",
       "  </thead>\n",
       "  <tbody>\n",
       "    <tr>\n",
       "      <th>0</th>\n",
       "      <td>10001</td>\n",
       "      <td>ENERGY INC</td>\n",
       "      <td>2009-12-31</td>\n",
       "      <td>0.162621</td>\n",
       "      <td>10.3000</td>\n",
       "      <td>4361</td>\n",
       "      <td>12.95</td>\n",
       "    </tr>\n",
       "    <tr>\n",
       "      <th>1</th>\n",
       "      <td>10001</td>\n",
       "      <td>ENERGY INC</td>\n",
       "      <td>2010-01-31</td>\n",
       "      <td>-0.018932</td>\n",
       "      <td>10.0600</td>\n",
       "      <td>4361</td>\n",
       "      <td>12.95</td>\n",
       "    </tr>\n",
       "    <tr>\n",
       "      <th>2</th>\n",
       "      <td>10001</td>\n",
       "      <td>ENERGY INC</td>\n",
       "      <td>2010-02-28</td>\n",
       "      <td>-0.000656</td>\n",
       "      <td>10.0084</td>\n",
       "      <td>4361</td>\n",
       "      <td>12.95</td>\n",
       "    </tr>\n",
       "    <tr>\n",
       "      <th>3</th>\n",
       "      <td>10001</td>\n",
       "      <td>ENERGY INC</td>\n",
       "      <td>2010-03-31</td>\n",
       "      <td>0.020643</td>\n",
       "      <td>10.1700</td>\n",
       "      <td>4361</td>\n",
       "      <td>12.95</td>\n",
       "    </tr>\n",
       "    <tr>\n",
       "      <th>4</th>\n",
       "      <td>10001</td>\n",
       "      <td>ENERGY INC</td>\n",
       "      <td>2010-04-30</td>\n",
       "      <td>0.124385</td>\n",
       "      <td>11.3900</td>\n",
       "      <td>6070</td>\n",
       "      <td>12.95</td>\n",
       "    </tr>\n",
       "  </tbody>\n",
       "</table>\n",
       "</div>"
      ],
      "text/plain": [
       "   permno company_name       date  total_returns    price  share_outstanding  \\\n",
       "0   10001   ENERGY INC 2009-12-31       0.162621  10.3000               4361   \n",
       "1   10001   ENERGY INC 2010-01-31      -0.018932  10.0600               4361   \n",
       "2   10001   ENERGY INC 2010-02-28      -0.000656  10.0084               4361   \n",
       "3   10001   ENERGY INC 2010-03-31       0.020643  10.1700               4361   \n",
       "4   10001   ENERGY INC 2010-04-30       0.124385  11.3900               6070   \n",
       "\n",
       "   price_last  \n",
       "0       12.95  \n",
       "1       12.95  \n",
       "2       12.95  \n",
       "3       12.95  \n",
       "4       12.95  "
      ]
     },
     "execution_count": 223,
     "metadata": {},
     "output_type": "execute_result"
    }
   ],
   "source": [
    "# Question 4\n",
    "# First selecting each PERMNO and selecting the last avaialbale date\n",
    "df_last = df.groupby('permno')['date'].max().reset_index()\n",
    "\n",
    "# Merging the corresponding price of the last date\n",
    "df_last = df_last.merge(df[['permno','date','price']],on=['permno','date'],how='left')\n",
    "\n",
    "# Printing the output of the above dataframe\n",
    "df_last = df_last.rename(columns={'price':'price_last'}) #renaming price to price_last\n",
    "\n",
    "# Merging df_last onto our original dataframe\n",
    "df = df.merge(df_last[['permno','price_last']],on=['permno'],how='left')\n",
    "\n",
    "df.head()"
   ]
  },
  {
   "cell_type": "code",
   "execution_count": null,
   "metadata": {},
   "outputs": [],
   "source": [
    "# First selecting each PERMNO and selecting the last avaialbale date\n",
    "df_last = df.groupby('permno')['date'].max().reset_index()\n",
    "\n",
    "# Merging the corresponding price of the last date\n",
    "df_last = df_last.merge(df[['permno','date','price']],on=['permno','date'],how='left')\n",
    "\n",
    "df = df.merge(df_last,on=['permno','date'],how='left')\n",
    "\n",
    "df[df['permno']==10001]"
   ]
  },
  {
   "cell_type": "code",
   "execution_count": 231,
   "metadata": {},
   "outputs": [
    {
     "data": {
      "text/html": [
       "<div>\n",
       "<style scoped>\n",
       "    .dataframe tbody tr th:only-of-type {\n",
       "        vertical-align: middle;\n",
       "    }\n",
       "\n",
       "    .dataframe tbody tr th {\n",
       "        vertical-align: top;\n",
       "    }\n",
       "\n",
       "    .dataframe thead th {\n",
       "        text-align: right;\n",
       "    }\n",
       "</style>\n",
       "<table border=\"1\" class=\"dataframe\">\n",
       "  <thead>\n",
       "    <tr style=\"text-align: right;\">\n",
       "      <th></th>\n",
       "      <th>permno</th>\n",
       "      <th>company_name</th>\n",
       "      <th>date_x</th>\n",
       "      <th>total_returns</th>\n",
       "      <th>price</th>\n",
       "      <th>share_outstanding</th>\n",
       "      <th>market_cap</th>\n",
       "      <th>date_lag_6m</th>\n",
       "      <th>date_lag_1y</th>\n",
       "      <th>date_lag_5y</th>\n",
       "      <th>date_y</th>\n",
       "      <th>market_cap_lag_6m</th>\n",
       "    </tr>\n",
       "  </thead>\n",
       "  <tbody>\n",
       "    <tr>\n",
       "      <th>0</th>\n",
       "      <td>10001</td>\n",
       "      <td>ENERGY INC</td>\n",
       "      <td>2009-12-31</td>\n",
       "      <td>0.162621</td>\n",
       "      <td>10.3000</td>\n",
       "      <td>4361</td>\n",
       "      <td>44918.3000</td>\n",
       "      <td>2009-06-30</td>\n",
       "      <td>2008-12-31</td>\n",
       "      <td>2004-12-31</td>\n",
       "      <td>NaT</td>\n",
       "      <td>NaN</td>\n",
       "    </tr>\n",
       "    <tr>\n",
       "      <th>1</th>\n",
       "      <td>10001</td>\n",
       "      <td>ENERGY INC</td>\n",
       "      <td>2010-01-31</td>\n",
       "      <td>-0.018932</td>\n",
       "      <td>10.0600</td>\n",
       "      <td>4361</td>\n",
       "      <td>43871.6600</td>\n",
       "      <td>2009-07-31</td>\n",
       "      <td>2009-01-31</td>\n",
       "      <td>2005-01-31</td>\n",
       "      <td>NaT</td>\n",
       "      <td>NaN</td>\n",
       "    </tr>\n",
       "    <tr>\n",
       "      <th>2</th>\n",
       "      <td>10001</td>\n",
       "      <td>ENERGY INC</td>\n",
       "      <td>2010-02-28</td>\n",
       "      <td>-0.000656</td>\n",
       "      <td>10.0084</td>\n",
       "      <td>4361</td>\n",
       "      <td>43646.6324</td>\n",
       "      <td>2009-08-31</td>\n",
       "      <td>2009-02-28</td>\n",
       "      <td>2005-02-28</td>\n",
       "      <td>NaT</td>\n",
       "      <td>NaN</td>\n",
       "    </tr>\n",
       "    <tr>\n",
       "      <th>3</th>\n",
       "      <td>10001</td>\n",
       "      <td>ENERGY INC</td>\n",
       "      <td>2010-03-31</td>\n",
       "      <td>0.020643</td>\n",
       "      <td>10.1700</td>\n",
       "      <td>4361</td>\n",
       "      <td>44351.3700</td>\n",
       "      <td>2009-09-30</td>\n",
       "      <td>2009-03-31</td>\n",
       "      <td>2005-03-31</td>\n",
       "      <td>NaT</td>\n",
       "      <td>NaN</td>\n",
       "    </tr>\n",
       "    <tr>\n",
       "      <th>4</th>\n",
       "      <td>10001</td>\n",
       "      <td>ENERGY INC</td>\n",
       "      <td>2010-04-30</td>\n",
       "      <td>0.124385</td>\n",
       "      <td>11.3900</td>\n",
       "      <td>6070</td>\n",
       "      <td>69137.3000</td>\n",
       "      <td>2009-10-31</td>\n",
       "      <td>2009-04-30</td>\n",
       "      <td>2005-04-30</td>\n",
       "      <td>NaT</td>\n",
       "      <td>NaN</td>\n",
       "    </tr>\n",
       "    <tr>\n",
       "      <th>5</th>\n",
       "      <td>10001</td>\n",
       "      <td>ENERGY INC</td>\n",
       "      <td>2010-05-31</td>\n",
       "      <td>0.004829</td>\n",
       "      <td>11.4000</td>\n",
       "      <td>6071</td>\n",
       "      <td>69209.4000</td>\n",
       "      <td>2009-11-30</td>\n",
       "      <td>2009-05-31</td>\n",
       "      <td>2005-05-31</td>\n",
       "      <td>NaT</td>\n",
       "      <td>NaN</td>\n",
       "    </tr>\n",
       "    <tr>\n",
       "      <th>6</th>\n",
       "      <td>10001</td>\n",
       "      <td>ENERGY INC</td>\n",
       "      <td>2010-06-30</td>\n",
       "      <td>-0.043421</td>\n",
       "      <td>10.8600</td>\n",
       "      <td>6080</td>\n",
       "      <td>66028.8000</td>\n",
       "      <td>2009-12-31</td>\n",
       "      <td>2009-06-30</td>\n",
       "      <td>2005-06-30</td>\n",
       "      <td>2009-12-31</td>\n",
       "      <td>44918.3000</td>\n",
       "    </tr>\n",
       "    <tr>\n",
       "      <th>7</th>\n",
       "      <td>10001</td>\n",
       "      <td>GAS NATURAL INC</td>\n",
       "      <td>2010-07-31</td>\n",
       "      <td>0.083333</td>\n",
       "      <td>11.7200</td>\n",
       "      <td>6080</td>\n",
       "      <td>71257.6000</td>\n",
       "      <td>2010-01-31</td>\n",
       "      <td>2009-07-31</td>\n",
       "      <td>2005-07-31</td>\n",
       "      <td>2010-01-31</td>\n",
       "      <td>43871.6600</td>\n",
       "    </tr>\n",
       "    <tr>\n",
       "      <th>8</th>\n",
       "      <td>10001</td>\n",
       "      <td>GAS NATURAL INC</td>\n",
       "      <td>2010-08-31</td>\n",
       "      <td>-0.111263</td>\n",
       "      <td>10.3710</td>\n",
       "      <td>6073</td>\n",
       "      <td>62983.0830</td>\n",
       "      <td>2010-02-28</td>\n",
       "      <td>2009-08-31</td>\n",
       "      <td>2005-08-31</td>\n",
       "      <td>2010-02-28</td>\n",
       "      <td>43646.6324</td>\n",
       "    </tr>\n",
       "    <tr>\n",
       "      <th>9</th>\n",
       "      <td>10001</td>\n",
       "      <td>GAS NATURAL INC</td>\n",
       "      <td>2010-09-30</td>\n",
       "      <td>0.076560</td>\n",
       "      <td>11.1200</td>\n",
       "      <td>6073</td>\n",
       "      <td>67531.7600</td>\n",
       "      <td>2010-03-31</td>\n",
       "      <td>2009-09-30</td>\n",
       "      <td>2005-09-30</td>\n",
       "      <td>2010-03-31</td>\n",
       "      <td>44351.3700</td>\n",
       "    </tr>\n",
       "  </tbody>\n",
       "</table>\n",
       "</div>"
      ],
      "text/plain": [
       "   permno     company_name     date_x  total_returns    price  \\\n",
       "0   10001       ENERGY INC 2009-12-31       0.162621  10.3000   \n",
       "1   10001       ENERGY INC 2010-01-31      -0.018932  10.0600   \n",
       "2   10001       ENERGY INC 2010-02-28      -0.000656  10.0084   \n",
       "3   10001       ENERGY INC 2010-03-31       0.020643  10.1700   \n",
       "4   10001       ENERGY INC 2010-04-30       0.124385  11.3900   \n",
       "5   10001       ENERGY INC 2010-05-31       0.004829  11.4000   \n",
       "6   10001       ENERGY INC 2010-06-30      -0.043421  10.8600   \n",
       "7   10001  GAS NATURAL INC 2010-07-31       0.083333  11.7200   \n",
       "8   10001  GAS NATURAL INC 2010-08-31      -0.111263  10.3710   \n",
       "9   10001  GAS NATURAL INC 2010-09-30       0.076560  11.1200   \n",
       "\n",
       "   share_outstanding  market_cap date_lag_6m date_lag_1y date_lag_5y  \\\n",
       "0               4361  44918.3000  2009-06-30  2008-12-31  2004-12-31   \n",
       "1               4361  43871.6600  2009-07-31  2009-01-31  2005-01-31   \n",
       "2               4361  43646.6324  2009-08-31  2009-02-28  2005-02-28   \n",
       "3               4361  44351.3700  2009-09-30  2009-03-31  2005-03-31   \n",
       "4               6070  69137.3000  2009-10-31  2009-04-30  2005-04-30   \n",
       "5               6071  69209.4000  2009-11-30  2009-05-31  2005-05-31   \n",
       "6               6080  66028.8000  2009-12-31  2009-06-30  2005-06-30   \n",
       "7               6080  71257.6000  2010-01-31  2009-07-31  2005-07-31   \n",
       "8               6073  62983.0830  2010-02-28  2009-08-31  2005-08-31   \n",
       "9               6073  67531.7600  2010-03-31  2009-09-30  2005-09-30   \n",
       "\n",
       "      date_y  market_cap_lag_6m  \n",
       "0        NaT                NaN  \n",
       "1        NaT                NaN  \n",
       "2        NaT                NaN  \n",
       "3        NaT                NaN  \n",
       "4        NaT                NaN  \n",
       "5        NaT                NaN  \n",
       "6 2009-12-31         44918.3000  \n",
       "7 2010-01-31         43871.6600  \n",
       "8 2010-02-28         43646.6324  \n",
       "9 2010-03-31         44351.3700  "
      ]
     },
     "execution_count": 231,
     "metadata": {},
     "output_type": "execute_result"
    }
   ],
   "source": [
    "# Question 5\n",
    "# Loading and cleaning the dataframe\n",
    "df = pd.read_csv(\"stock_data.csv\",sep = ',',parse_dates=['date'])\n",
    "df['total_returns'] = pd.to_numeric(df['total_returns'],errors='coerce')\n",
    "df['price'] = pd.to_numeric(df['price'],errors='coerce')\n",
    "df = df.dropna().reset_index(drop=True) # Passing multiple functions (big plus of Python!)\n",
    "\n",
    "# Computing market cap\n",
    "df['market_cap'] = df['price']*df['share_outstanding']\n",
    "\n",
    "# Creating 6-month lag column for each date\n",
    "df['date_lag_6m'] = df['date']- pd.tseries.offsets.MonthEnd(6)\n",
    "\n",
    "# Creating 1-year and 5-year lag columns for each date\n",
    "df['date_lag_1y'] = df['date']- pd.tseries.offsets.MonthEnd(12)\n",
    "df['date_lag_5y'] = df['date']- pd.tseries.offsets.MonthEnd(60)\n",
    "\n",
    "# Merging market cap for lag 6-months column\n",
    "df = df.merge(df[['permno',\n",
    "                  'date',\n",
    "                  'market_cap']].rename(columns={'market_cap':'market_cap_lag_6m'}),\n",
    "              left_on=['permno','date_lag_6m'],\n",
    "              right_on=['permno','date'],\n",
    "              how='left')\n",
    "\n",
    "df.head(10)\n",
    "\n",
    "# Note : You don't want to apply the shift operator since firms could get listed/delisted/listed again\n",
    "# Similarly you can do this for 1Y and 5Y lags"
   ]
  },
  {
   "cell_type": "code",
   "execution_count": 230,
   "metadata": {},
   "outputs": [
    {
     "data": {
      "text/html": [
       "<div>\n",
       "<style scoped>\n",
       "    .dataframe tbody tr th:only-of-type {\n",
       "        vertical-align: middle;\n",
       "    }\n",
       "\n",
       "    .dataframe tbody tr th {\n",
       "        vertical-align: top;\n",
       "    }\n",
       "\n",
       "    .dataframe thead th {\n",
       "        text-align: right;\n",
       "    }\n",
       "</style>\n",
       "<table border=\"1\" class=\"dataframe\">\n",
       "  <thead>\n",
       "    <tr style=\"text-align: right;\">\n",
       "      <th></th>\n",
       "      <th>permno</th>\n",
       "      <th>date_lag_6m</th>\n",
       "      <th>market_cap_lag_6m</th>\n",
       "    </tr>\n",
       "  </thead>\n",
       "  <tbody>\n",
       "    <tr>\n",
       "      <th>0</th>\n",
       "      <td>10001</td>\n",
       "      <td>2009-12-31</td>\n",
       "      <td>4.491830e+04</td>\n",
       "    </tr>\n",
       "    <tr>\n",
       "      <th>1</th>\n",
       "      <td>10001</td>\n",
       "      <td>2010-01-31</td>\n",
       "      <td>4.387166e+04</td>\n",
       "    </tr>\n",
       "    <tr>\n",
       "      <th>2</th>\n",
       "      <td>10001</td>\n",
       "      <td>2010-02-28</td>\n",
       "      <td>4.364663e+04</td>\n",
       "    </tr>\n",
       "    <tr>\n",
       "      <th>3</th>\n",
       "      <td>10001</td>\n",
       "      <td>2010-03-31</td>\n",
       "      <td>4.435137e+04</td>\n",
       "    </tr>\n",
       "    <tr>\n",
       "      <th>4</th>\n",
       "      <td>10001</td>\n",
       "      <td>2010-04-30</td>\n",
       "      <td>6.913730e+04</td>\n",
       "    </tr>\n",
       "    <tr>\n",
       "      <th>5</th>\n",
       "      <td>10001</td>\n",
       "      <td>2010-05-31</td>\n",
       "      <td>6.920940e+04</td>\n",
       "    </tr>\n",
       "    <tr>\n",
       "      <th>6</th>\n",
       "      <td>10001</td>\n",
       "      <td>2010-06-30</td>\n",
       "      <td>6.602880e+04</td>\n",
       "    </tr>\n",
       "    <tr>\n",
       "      <th>7</th>\n",
       "      <td>10001</td>\n",
       "      <td>2010-07-31</td>\n",
       "      <td>7.125760e+04</td>\n",
       "    </tr>\n",
       "    <tr>\n",
       "      <th>8</th>\n",
       "      <td>10001</td>\n",
       "      <td>2010-08-31</td>\n",
       "      <td>6.298308e+04</td>\n",
       "    </tr>\n",
       "    <tr>\n",
       "      <th>9</th>\n",
       "      <td>10001</td>\n",
       "      <td>2010-09-30</td>\n",
       "      <td>6.753176e+04</td>\n",
       "    </tr>\n",
       "    <tr>\n",
       "      <th>10</th>\n",
       "      <td>10001</td>\n",
       "      <td>2010-10-31</td>\n",
       "      <td>6.948595e+04</td>\n",
       "    </tr>\n",
       "    <tr>\n",
       "      <th>11</th>\n",
       "      <td>10001</td>\n",
       "      <td>2010-11-30</td>\n",
       "      <td>7.865336e+04</td>\n",
       "    </tr>\n",
       "    <tr>\n",
       "      <th>12</th>\n",
       "      <td>10001</td>\n",
       "      <td>2010-12-31</td>\n",
       "      <td>8.241368e+04</td>\n",
       "    </tr>\n",
       "    <tr>\n",
       "      <th>13</th>\n",
       "      <td>10001</td>\n",
       "      <td>2011-01-31</td>\n",
       "      <td>8.445052e+04</td>\n",
       "    </tr>\n",
       "    <tr>\n",
       "      <th>14</th>\n",
       "      <td>10001</td>\n",
       "      <td>2011-02-28</td>\n",
       "      <td>8.601732e+04</td>\n",
       "    </tr>\n",
       "    <tr>\n",
       "      <th>15</th>\n",
       "      <td>10001</td>\n",
       "      <td>2011-03-31</td>\n",
       "      <td>9.189282e+04</td>\n",
       "    </tr>\n",
       "    <tr>\n",
       "      <th>16</th>\n",
       "      <td>10001</td>\n",
       "      <td>2011-04-30</td>\n",
       "      <td>9.153573e+04</td>\n",
       "    </tr>\n",
       "    <tr>\n",
       "      <th>17</th>\n",
       "      <td>10001</td>\n",
       "      <td>2011-05-31</td>\n",
       "      <td>9.373650e+04</td>\n",
       "    </tr>\n",
       "    <tr>\n",
       "      <th>18</th>\n",
       "      <td>10001</td>\n",
       "      <td>2011-06-30</td>\n",
       "      <td>9.414405e+04</td>\n",
       "    </tr>\n",
       "    <tr>\n",
       "      <th>19</th>\n",
       "      <td>10001</td>\n",
       "      <td>2011-07-31</td>\n",
       "      <td>9.112818e+04</td>\n",
       "    </tr>\n",
       "    <tr>\n",
       "      <th>20</th>\n",
       "      <td>10001</td>\n",
       "      <td>2011-08-31</td>\n",
       "      <td>8.950896e+04</td>\n",
       "    </tr>\n",
       "    <tr>\n",
       "      <th>21</th>\n",
       "      <td>10001</td>\n",
       "      <td>2011-09-30</td>\n",
       "      <td>8.959048e+04</td>\n",
       "    </tr>\n",
       "    <tr>\n",
       "      <th>22</th>\n",
       "      <td>10001</td>\n",
       "      <td>2011-10-31</td>\n",
       "      <td>8.967200e+04</td>\n",
       "    </tr>\n",
       "    <tr>\n",
       "      <th>23</th>\n",
       "      <td>10001</td>\n",
       "      <td>2011-11-30</td>\n",
       "      <td>8.887860e+04</td>\n",
       "    </tr>\n",
       "    <tr>\n",
       "      <th>24</th>\n",
       "      <td>10001</td>\n",
       "      <td>2011-12-31</td>\n",
       "      <td>9.311868e+04</td>\n",
       "    </tr>\n",
       "    <tr>\n",
       "      <th>25</th>\n",
       "      <td>10001</td>\n",
       "      <td>2012-01-31</td>\n",
       "      <td>9.091710e+04</td>\n",
       "    </tr>\n",
       "    <tr>\n",
       "      <th>26</th>\n",
       "      <td>10001</td>\n",
       "      <td>2012-02-29</td>\n",
       "      <td>9.100516e+04</td>\n",
       "    </tr>\n",
       "    <tr>\n",
       "      <th>27</th>\n",
       "      <td>10001</td>\n",
       "      <td>2012-03-31</td>\n",
       "      <td>9.507564e+04</td>\n",
       "    </tr>\n",
       "    <tr>\n",
       "      <th>28</th>\n",
       "      <td>10001</td>\n",
       "      <td>2012-04-30</td>\n",
       "      <td>9.329402e+04</td>\n",
       "    </tr>\n",
       "    <tr>\n",
       "      <th>29</th>\n",
       "      <td>10001</td>\n",
       "      <td>2012-05-31</td>\n",
       "      <td>8.506708e+04</td>\n",
       "    </tr>\n",
       "    <tr>\n",
       "      <th>...</th>\n",
       "      <td>...</td>\n",
       "      <td>...</td>\n",
       "      <td>...</td>\n",
       "    </tr>\n",
       "    <tr>\n",
       "      <th>2883</th>\n",
       "      <td>10137</td>\n",
       "      <td>2008-06-30</td>\n",
       "      <td>8.420033e+06</td>\n",
       "    </tr>\n",
       "    <tr>\n",
       "      <th>2884</th>\n",
       "      <td>10137</td>\n",
       "      <td>2008-07-31</td>\n",
       "      <td>8.132700e+06</td>\n",
       "    </tr>\n",
       "    <tr>\n",
       "      <th>2885</th>\n",
       "      <td>10137</td>\n",
       "      <td>2008-08-31</td>\n",
       "      <td>7.654469e+06</td>\n",
       "    </tr>\n",
       "    <tr>\n",
       "      <th>2886</th>\n",
       "      <td>10137</td>\n",
       "      <td>2008-09-30</td>\n",
       "      <td>6.209019e+06</td>\n",
       "    </tr>\n",
       "    <tr>\n",
       "      <th>2887</th>\n",
       "      <td>10137</td>\n",
       "      <td>2008-10-31</td>\n",
       "      <td>5.091159e+06</td>\n",
       "    </tr>\n",
       "    <tr>\n",
       "      <th>2888</th>\n",
       "      <td>10137</td>\n",
       "      <td>2008-11-30</td>\n",
       "      <td>5.959154e+06</td>\n",
       "    </tr>\n",
       "    <tr>\n",
       "      <th>2889</th>\n",
       "      <td>10137</td>\n",
       "      <td>2008-12-31</td>\n",
       "      <td>5.724168e+06</td>\n",
       "    </tr>\n",
       "    <tr>\n",
       "      <th>2890</th>\n",
       "      <td>10137</td>\n",
       "      <td>2009-01-31</td>\n",
       "      <td>5.619355e+06</td>\n",
       "    </tr>\n",
       "    <tr>\n",
       "      <th>2891</th>\n",
       "      <td>10137</td>\n",
       "      <td>2009-02-28</td>\n",
       "      <td>3.996437e+06</td>\n",
       "    </tr>\n",
       "    <tr>\n",
       "      <th>2892</th>\n",
       "      <td>10137</td>\n",
       "      <td>2009-03-31</td>\n",
       "      <td>3.924465e+06</td>\n",
       "    </tr>\n",
       "    <tr>\n",
       "      <th>2893</th>\n",
       "      <td>10137</td>\n",
       "      <td>2009-04-30</td>\n",
       "      <td>4.390252e+06</td>\n",
       "    </tr>\n",
       "    <tr>\n",
       "      <th>2894</th>\n",
       "      <td>10137</td>\n",
       "      <td>2009-05-31</td>\n",
       "      <td>4.234975e+06</td>\n",
       "    </tr>\n",
       "    <tr>\n",
       "      <th>2895</th>\n",
       "      <td>10137</td>\n",
       "      <td>2009-06-30</td>\n",
       "      <td>4.345084e+06</td>\n",
       "    </tr>\n",
       "    <tr>\n",
       "      <th>2896</th>\n",
       "      <td>10137</td>\n",
       "      <td>2009-07-31</td>\n",
       "      <td>4.270549e+06</td>\n",
       "    </tr>\n",
       "    <tr>\n",
       "      <th>2897</th>\n",
       "      <td>10137</td>\n",
       "      <td>2009-08-31</td>\n",
       "      <td>4.476046e+06</td>\n",
       "    </tr>\n",
       "    <tr>\n",
       "      <th>2898</th>\n",
       "      <td>10137</td>\n",
       "      <td>2009-09-30</td>\n",
       "      <td>4.494689e+06</td>\n",
       "    </tr>\n",
       "    <tr>\n",
       "      <th>2899</th>\n",
       "      <td>10137</td>\n",
       "      <td>2009-10-31</td>\n",
       "      <td>3.867602e+06</td>\n",
       "    </tr>\n",
       "    <tr>\n",
       "      <th>2900</th>\n",
       "      <td>10137</td>\n",
       "      <td>2009-11-30</td>\n",
       "      <td>3.726995e+06</td>\n",
       "    </tr>\n",
       "    <tr>\n",
       "      <th>2901</th>\n",
       "      <td>10137</td>\n",
       "      <td>2009-12-31</td>\n",
       "      <td>3.981339e+06</td>\n",
       "    </tr>\n",
       "    <tr>\n",
       "      <th>2902</th>\n",
       "      <td>10137</td>\n",
       "      <td>2010-01-31</td>\n",
       "      <td>3.552345e+06</td>\n",
       "    </tr>\n",
       "    <tr>\n",
       "      <th>2903</th>\n",
       "      <td>10137</td>\n",
       "      <td>2010-02-28</td>\n",
       "      <td>3.840760e+06</td>\n",
       "    </tr>\n",
       "    <tr>\n",
       "      <th>2904</th>\n",
       "      <td>10137</td>\n",
       "      <td>2010-03-31</td>\n",
       "      <td>3.900110e+06</td>\n",
       "    </tr>\n",
       "    <tr>\n",
       "      <th>2905</th>\n",
       "      <td>10137</td>\n",
       "      <td>2010-04-30</td>\n",
       "      <td>3.693235e+06</td>\n",
       "    </tr>\n",
       "    <tr>\n",
       "      <th>2906</th>\n",
       "      <td>10137</td>\n",
       "      <td>2010-05-31</td>\n",
       "      <td>3.469586e+06</td>\n",
       "    </tr>\n",
       "    <tr>\n",
       "      <th>2907</th>\n",
       "      <td>10137</td>\n",
       "      <td>2010-06-30</td>\n",
       "      <td>3.506894e+06</td>\n",
       "    </tr>\n",
       "    <tr>\n",
       "      <th>2908</th>\n",
       "      <td>10137</td>\n",
       "      <td>2010-07-31</td>\n",
       "      <td>3.866401e+06</td>\n",
       "    </tr>\n",
       "    <tr>\n",
       "      <th>2909</th>\n",
       "      <td>10137</td>\n",
       "      <td>2010-08-31</td>\n",
       "      <td>3.824818e+06</td>\n",
       "    </tr>\n",
       "    <tr>\n",
       "      <th>2910</th>\n",
       "      <td>10137</td>\n",
       "      <td>2010-09-30</td>\n",
       "      <td>4.158960e+06</td>\n",
       "    </tr>\n",
       "    <tr>\n",
       "      <th>2911</th>\n",
       "      <td>10137</td>\n",
       "      <td>2010-10-31</td>\n",
       "      <td>3.935068e+06</td>\n",
       "    </tr>\n",
       "    <tr>\n",
       "      <th>2912</th>\n",
       "      <td>10137</td>\n",
       "      <td>2011-01-31</td>\n",
       "      <td>4.381027e+06</td>\n",
       "    </tr>\n",
       "  </tbody>\n",
       "</table>\n",
       "<p>2913 rows × 3 columns</p>\n",
       "</div>"
      ],
      "text/plain": [
       "      permno date_lag_6m  market_cap_lag_6m\n",
       "0      10001  2009-12-31       4.491830e+04\n",
       "1      10001  2010-01-31       4.387166e+04\n",
       "2      10001  2010-02-28       4.364663e+04\n",
       "3      10001  2010-03-31       4.435137e+04\n",
       "4      10001  2010-04-30       6.913730e+04\n",
       "5      10001  2010-05-31       6.920940e+04\n",
       "6      10001  2010-06-30       6.602880e+04\n",
       "7      10001  2010-07-31       7.125760e+04\n",
       "8      10001  2010-08-31       6.298308e+04\n",
       "9      10001  2010-09-30       6.753176e+04\n",
       "10     10001  2010-10-31       6.948595e+04\n",
       "11     10001  2010-11-30       7.865336e+04\n",
       "12     10001  2010-12-31       8.241368e+04\n",
       "13     10001  2011-01-31       8.445052e+04\n",
       "14     10001  2011-02-28       8.601732e+04\n",
       "15     10001  2011-03-31       9.189282e+04\n",
       "16     10001  2011-04-30       9.153573e+04\n",
       "17     10001  2011-05-31       9.373650e+04\n",
       "18     10001  2011-06-30       9.414405e+04\n",
       "19     10001  2011-07-31       9.112818e+04\n",
       "20     10001  2011-08-31       8.950896e+04\n",
       "21     10001  2011-09-30       8.959048e+04\n",
       "22     10001  2011-10-31       8.967200e+04\n",
       "23     10001  2011-11-30       8.887860e+04\n",
       "24     10001  2011-12-31       9.311868e+04\n",
       "25     10001  2012-01-31       9.091710e+04\n",
       "26     10001  2012-02-29       9.100516e+04\n",
       "27     10001  2012-03-31       9.507564e+04\n",
       "28     10001  2012-04-30       9.329402e+04\n",
       "29     10001  2012-05-31       8.506708e+04\n",
       "...      ...         ...                ...\n",
       "2883   10137  2008-06-30       8.420033e+06\n",
       "2884   10137  2008-07-31       8.132700e+06\n",
       "2885   10137  2008-08-31       7.654469e+06\n",
       "2886   10137  2008-09-30       6.209019e+06\n",
       "2887   10137  2008-10-31       5.091159e+06\n",
       "2888   10137  2008-11-30       5.959154e+06\n",
       "2889   10137  2008-12-31       5.724168e+06\n",
       "2890   10137  2009-01-31       5.619355e+06\n",
       "2891   10137  2009-02-28       3.996437e+06\n",
       "2892   10137  2009-03-31       3.924465e+06\n",
       "2893   10137  2009-04-30       4.390252e+06\n",
       "2894   10137  2009-05-31       4.234975e+06\n",
       "2895   10137  2009-06-30       4.345084e+06\n",
       "2896   10137  2009-07-31       4.270549e+06\n",
       "2897   10137  2009-08-31       4.476046e+06\n",
       "2898   10137  2009-09-30       4.494689e+06\n",
       "2899   10137  2009-10-31       3.867602e+06\n",
       "2900   10137  2009-11-30       3.726995e+06\n",
       "2901   10137  2009-12-31       3.981339e+06\n",
       "2902   10137  2010-01-31       3.552345e+06\n",
       "2903   10137  2010-02-28       3.840760e+06\n",
       "2904   10137  2010-03-31       3.900110e+06\n",
       "2905   10137  2010-04-30       3.693235e+06\n",
       "2906   10137  2010-05-31       3.469586e+06\n",
       "2907   10137  2010-06-30       3.506894e+06\n",
       "2908   10137  2010-07-31       3.866401e+06\n",
       "2909   10137  2010-08-31       3.824818e+06\n",
       "2910   10137  2010-09-30       4.158960e+06\n",
       "2911   10137  2010-10-31       3.935068e+06\n",
       "2912   10137  2011-01-31       4.381027e+06\n",
       "\n",
       "[2913 rows x 3 columns]"
      ]
     },
     "execution_count": 230,
     "metadata": {},
     "output_type": "execute_result"
    }
   ],
   "source": [
    "df[['permno','date','market_cap']].rename(columns={'date':'date_lag_6m','market_cap':'market_cap_lag_6m'})"
   ]
  },
  {
   "cell_type": "code",
   "execution_count": 241,
   "metadata": {},
   "outputs": [
    {
     "data": {
      "text/html": [
       "<div>\n",
       "<style scoped>\n",
       "    .dataframe tbody tr th:only-of-type {\n",
       "        vertical-align: middle;\n",
       "    }\n",
       "\n",
       "    .dataframe tbody tr th {\n",
       "        vertical-align: top;\n",
       "    }\n",
       "\n",
       "    .dataframe thead th {\n",
       "        text-align: right;\n",
       "    }\n",
       "</style>\n",
       "<table border=\"1\" class=\"dataframe\">\n",
       "  <thead>\n",
       "    <tr style=\"text-align: right;\">\n",
       "      <th></th>\n",
       "      <th>permno</th>\n",
       "      <th>year</th>\n",
       "      <th>quarter</th>\n",
       "      <th>date_quarter_max</th>\n",
       "      <th>total_returns</th>\n",
       "      <th>date</th>\n",
       "      <th>market_cap</th>\n",
       "    </tr>\n",
       "  </thead>\n",
       "  <tbody>\n",
       "    <tr>\n",
       "      <th>0</th>\n",
       "      <td>10001</td>\n",
       "      <td>2009</td>\n",
       "      <td>4</td>\n",
       "      <td>2009-12-31</td>\n",
       "      <td>0.162621</td>\n",
       "      <td>2009-12-31</td>\n",
       "      <td>44918.30</td>\n",
       "    </tr>\n",
       "    <tr>\n",
       "      <th>1</th>\n",
       "      <td>10001</td>\n",
       "      <td>2010</td>\n",
       "      <td>1</td>\n",
       "      <td>2010-03-31</td>\n",
       "      <td>0.001055</td>\n",
       "      <td>2010-03-31</td>\n",
       "      <td>44351.37</td>\n",
       "    </tr>\n",
       "    <tr>\n",
       "      <th>2</th>\n",
       "      <td>10001</td>\n",
       "      <td>2010</td>\n",
       "      <td>2</td>\n",
       "      <td>2010-06-30</td>\n",
       "      <td>0.085793</td>\n",
       "      <td>2010-06-30</td>\n",
       "      <td>66028.80</td>\n",
       "    </tr>\n",
       "    <tr>\n",
       "      <th>3</th>\n",
       "      <td>10001</td>\n",
       "      <td>2010</td>\n",
       "      <td>3</td>\n",
       "      <td>2010-09-30</td>\n",
       "      <td>0.048630</td>\n",
       "      <td>2010-09-30</td>\n",
       "      <td>67531.76</td>\n",
       "    </tr>\n",
       "    <tr>\n",
       "      <th>4</th>\n",
       "      <td>10001</td>\n",
       "      <td>2010</td>\n",
       "      <td>4</td>\n",
       "      <td>2010-12-31</td>\n",
       "      <td>-0.033330</td>\n",
       "      <td>2010-12-31</td>\n",
       "      <td>82413.68</td>\n",
       "    </tr>\n",
       "  </tbody>\n",
       "</table>\n",
       "</div>"
      ],
      "text/plain": [
       "   permno  year  quarter date_quarter_max  total_returns       date  \\\n",
       "0   10001  2009        4       2009-12-31       0.162621 2009-12-31   \n",
       "1   10001  2010        1       2010-03-31       0.001055 2010-03-31   \n",
       "2   10001  2010        2       2010-06-30       0.085793 2010-06-30   \n",
       "3   10001  2010        3       2010-09-30       0.048630 2010-09-30   \n",
       "4   10001  2010        4       2010-12-31      -0.033330 2010-12-31   \n",
       "\n",
       "   market_cap  \n",
       "0    44918.30  \n",
       "1    44351.37  \n",
       "2    66028.80  \n",
       "3    67531.76  \n",
       "4    82413.68  "
      ]
     },
     "execution_count": 241,
     "metadata": {},
     "output_type": "execute_result"
    }
   ],
   "source": [
    "# Question 6\n",
    "# Loading and cleaning the dataframe\n",
    "df = pd.read_csv(\"stock_data.csv\",sep = ',',parse_dates=['date'])\n",
    "df['total_returns'] = pd.to_numeric(df['total_returns'],errors='coerce')\n",
    "df['price'] = pd.to_numeric(df['price'],errors='coerce')\n",
    "df = df.dropna().reset_index(drop=True) # Passing multiple functions (big plus of Python!)\n",
    "\n",
    "# Computing market cap\n",
    "df['market_cap'] = df['price']*df['share_outstanding']\n",
    "\n",
    "# Creating quarters column\n",
    "df['quarter'] = df['date'].dt.quarter\n",
    "\n",
    "# Creating year column\n",
    "df['year'] = df['date'].dt.year\n",
    "\n",
    "# Selecting quarter end month\n",
    "df = df.merge(df.groupby(['permno',\n",
    "                          'year',\n",
    "                          'quarter'])['date'].max().reset_index().rename(columns={'date':'date_quarter_max'}),on=['permno',\n",
    "                                                                                                                  'year',\n",
    "                                                                                                                  'quarter'],how='left')\n",
    "\n",
    "# Creating df_quarter dataframe with averaged monthly returns for each quarter\n",
    "df_quarter = df.groupby(['permno','year','quarter','date_quarter_max'])['total_returns'].sum().reset_index()\n",
    "\n",
    "# Merging quarter end market cap values\n",
    "df_quarter = df_quarter.merge(df[['permno','date','market_cap']],\n",
    "                              left_on=['permno','date_quarter_max'],\n",
    "                              right_on=['permno','date'],\n",
    "                              how='left')\n",
    "\n",
    "df_quarter.head()"
   ]
  },
  {
   "cell_type": "code",
   "execution_count": null,
   "metadata": {},
   "outputs": [],
   "source": []
  }
 ],
 "metadata": {
  "kernelspec": {
   "display_name": "Python 3",
   "language": "python",
   "name": "python3"
  },
  "language_info": {
   "codemirror_mode": {
    "name": "ipython",
    "version": 3
   },
   "file_extension": ".py",
   "mimetype": "text/x-python",
   "name": "python",
   "nbconvert_exporter": "python",
   "pygments_lexer": "ipython3",
   "version": "3.7.3"
  }
 },
 "nbformat": 4,
 "nbformat_minor": 2
}
