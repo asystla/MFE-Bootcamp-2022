{
 "cells": [
  {
   "cell_type": "markdown",
   "metadata": {},
   "source": [
    "# Python\n",
    "\n",
    "Python is a high-level, interpreted, object-oriented, and multi-purpose programming language. \n",
    "\n",
    "# Why Python?\n",
    "\n",
    "- Relevant (https://www.tiobe.com/tiobe-index/)\n",
    "- Simple, scalable, versatile (https://www.monterail.com/blog/five-reasons-to-choose-python-for-finance-and-fintech)\n",
    "- NumPy + Pandas + SciPy = Powerful!\n",
    "- Multi-purpose language \n",
    "- Large community and easier query resolution"
   ]
  },
  {
   "cell_type": "markdown",
   "metadata": {},
   "source": [
    "# Understanding The Environment"
   ]
  },
  {
   "cell_type": "code",
   "execution_count": null,
   "metadata": {},
   "outputs": [],
   "source": [
    "100*12.5/5"
   ]
  },
  {
   "cell_type": "code",
   "execution_count": null,
   "metadata": {},
   "outputs": [],
   "source": [
    "a = 100*12.5/5"
   ]
  },
  {
   "cell_type": "code",
   "execution_count": null,
   "metadata": {},
   "outputs": [],
   "source": [
    "# Comment type 1\n",
    "'Comment type 2'\n",
    "\"Comment type 3\"\n",
    "\n",
    "\"\"\" Commments (doc string)\n",
    "\n",
    "dadasdas\n",
    "asdada\n",
    "\"\"\"\n",
    "\n",
    "print(\"xyz\")"
   ]
  },
  {
   "cell_type": "markdown",
   "metadata": {},
   "source": [
    "# Numerical Operations"
   ]
  },
  {
   "cell_type": "code",
   "execution_count": null,
   "metadata": {},
   "outputs": [],
   "source": [
    "# Assigning values to variables 'x' and 'y'\n",
    "x = 2\n",
    "y = 5\n",
    "x,y"
   ]
  },
  {
   "cell_type": "code",
   "execution_count": null,
   "metadata": {},
   "outputs": [],
   "source": [
    "# Python is a case sensitive language (X != x)\n",
    "A = 17\n",
    "a = 15\n",
    "A,a"
   ]
  },
  {
   "cell_type": "code",
   "execution_count": null,
   "metadata": {},
   "outputs": [],
   "source": [
    "# Addition\n",
    "x+y"
   ]
  },
  {
   "cell_type": "code",
   "execution_count": null,
   "metadata": {},
   "outputs": [],
   "source": [
    "# Division\n",
    "y/x"
   ]
  },
  {
   "cell_type": "code",
   "execution_count": null,
   "metadata": {},
   "outputs": [],
   "source": [
    "# Quotient\n",
    "y//x"
   ]
  },
  {
   "cell_type": "code",
   "execution_count": null,
   "metadata": {},
   "outputs": [],
   "source": [
    "# Remainder\n",
    "y%x"
   ]
  },
  {
   "cell_type": "code",
   "execution_count": null,
   "metadata": {},
   "outputs": [],
   "source": [
    "# Power\n",
    "x**y"
   ]
  },
  {
   "cell_type": "code",
   "execution_count": null,
   "metadata": {},
   "outputs": [],
   "source": [
    "# Variables can be anything (like below) \n",
    "mfe_class_of_2023 = 80 # no spaces allowed\n",
    "print(mfe_class_of_2023)\n",
    "#print(type(mfe_class_of_2023)) # what is the type? and what is integer class?"
   ]
  },
  {
   "cell_type": "markdown",
   "metadata": {},
   "source": [
    "# Data Types\n",
    "\n",
    "Class, Object, Attribute, and Method differentiate Python from R (or an object oriented language from a functional language).\n",
    "\n",
    "A class provides a template for building data (the object) and functionality together. \n",
    "\n",
    "An object is an instance/creation of the class. \n",
    "\n",
    "A class has attributes and methods/functions. We access them by writing the command \"object.attribute\" or \"object.function\".\n",
    "\n",
    "**Example** - consider a car to be a class. We have 3 types of cars - Toyota (White, Gas), Tesla (Black, Electric), and BMW (Grey, Hybrid). The three cars Toyota, Tesla & BMW are the objects of this class (cars). The attributes are it's color and it's power source (car specific). Methods/functions can be move forward or open door or honk.\n",
    "\n",
    "- **Class :** Cars\n",
    "- **Objects :** Toyota, Tesla, and BMW\n",
    "- **Attribute :** Color, engine type\n",
    "- **Function :** Go forward, reverse, honk, etc."
   ]
  },
  {
   "cell_type": "markdown",
   "metadata": {},
   "source": [
    "### Arithmetic Data Types"
   ]
  },
  {
   "cell_type": "code",
   "execution_count": null,
   "metadata": {},
   "outputs": [],
   "source": [
    "# Type tells us the variable type inside the brackets\n",
    "x = 5\n",
    "#x = 5.1 \n",
    "#x = 5 + 3j\n",
    "type(x)"
   ]
  },
  {
   "cell_type": "code",
   "execution_count": null,
   "metadata": {},
   "outputs": [],
   "source": [
    "# variable x can take any value - integer, boolean, string, complex numbers\n",
    "x = 2\n",
    "y = 2\n",
    "type(x == y)"
   ]
  },
  {
   "cell_type": "code",
   "execution_count": null,
   "metadata": {},
   "outputs": [],
   "source": [
    "# Checking if one variable is lesser or greater than other\n",
    "print(x>y)"
   ]
  },
  {
   "cell_type": "code",
   "execution_count": null,
   "metadata": {},
   "outputs": [],
   "source": [
    "# Checking if two variables are different \n",
    "print(x!=y)"
   ]
  },
  {
   "cell_type": "code",
   "execution_count": null,
   "metadata": {},
   "outputs": [],
   "source": [
    "# Gives us the attributes and functions of x (in class int)\n",
    "# Calling these functions using the object.function command\n",
    "x = 10\n",
    "y = 10\n",
    "dir(x)"
   ]
  },
  {
   "cell_type": "code",
   "execution_count": null,
   "metadata": {},
   "outputs": [],
   "source": [
    "# Each variable points to the location of object\n",
    "print(id(x),id(y)) # unique ID for object x points to\n",
    "# In C++, x and y are given a unique ID even if they contain the same data \n",
    "# This is what makes python dynamically typed (variables can refer to any type of object)\n",
    "hex(id(x)) # the memory location of the object in your CPU!"
   ]
  },
  {
   "cell_type": "markdown",
   "metadata": {},
   "source": [
    "### String Data Type"
   ]
  },
  {
   "cell_type": "code",
   "execution_count": null,
   "metadata": {},
   "outputs": [],
   "source": [
    "x = \"MFE Class of 2022\"\n",
    "type(x)"
   ]
  },
  {
   "cell_type": "code",
   "execution_count": null,
   "metadata": {},
   "outputs": [],
   "source": [
    "x = \"A B C D E\"\n",
    "#dir(x) # Shows us what we can do with a string\n",
    "#x.lower() # converts to lower case\n",
    "#x.split() # One of the function of x, gives us a split string covered in []\n",
    "# print(type(x.split()))"
   ]
  },
  {
   "cell_type": "code",
   "execution_count": null,
   "metadata": {},
   "outputs": [],
   "source": [
    "# We can also split a string around a specific object, in this case \".\"\n",
    "x = \" N.Djokovic is the G.O.A.T.\"\n",
    "x.split(\".\")"
   ]
  },
  {
   "cell_type": "markdown",
   "metadata": {},
   "source": [
    "# Data Structures\n",
    "\n",
    "Data structures are a collection of related data. There are 4 built in data structures in Python - List, Tuple, Dictionary, and Set. \n",
    "\n",
    "### List"
   ]
  },
  {
   "cell_type": "code",
   "execution_count": null,
   "metadata": {},
   "outputs": [],
   "source": [
    "# A list always starts and ends with the square brackets []\n",
    "int_list = [10,20,30] # (Python index always starts from 0) and elements are at index 0,1,2\n",
    "print(type(int_list))\n",
    "int_list[1] # How would you do this in R?"
   ]
  },
  {
   "cell_type": "code",
   "execution_count": null,
   "metadata": {},
   "outputs": [],
   "source": [
    "# List can also be created using the list function\n",
    "list((1,2,3))"
   ]
  },
  {
   "cell_type": "code",
   "execution_count": null,
   "metadata": {},
   "outputs": [],
   "source": [
    "# Understanding the object and it's attributes\n",
    "dir(int_list)\n",
    "#int_list"
   ]
  },
  {
   "cell_type": "code",
   "execution_count": null,
   "metadata": {},
   "outputs": [],
   "source": [
    "# A list can store other lists and any data type (no restrictions)\n",
    "mix_list = [[1,2,3],\"MFE Class of 2020\",3.14,5+4j,True]\n",
    "mix_list"
   ]
  },
  {
   "cell_type": "code",
   "execution_count": null,
   "metadata": {},
   "outputs": [],
   "source": [
    "# Method 1 of adding a variable to the end of a list\n",
    "mix_list.append('Hello World')\n",
    "mix_list"
   ]
  },
  {
   "cell_type": "code",
   "execution_count": null,
   "metadata": {},
   "outputs": [],
   "source": [
    "# Alternate way to add items to a list\n",
    "mix_list+['abc123']"
   ]
  },
  {
   "cell_type": "code",
   "execution_count": null,
   "metadata": {},
   "outputs": [],
   "source": [
    "# Something very interesting happens when you try to print(list.append())\n",
    "print(mix_list.append('Hello World'))\n",
    "mix_list = mix_list+['abc123']"
   ]
  },
  {
   "cell_type": "code",
   "execution_count": null,
   "metadata": {},
   "outputs": [],
   "source": [
    "# Method 2 of adding a variable to a list (the more preferred way)\n",
    "mix_list = [[1,2,3],\"MFE Class of 2020\",3.14,5+4j,True]\n",
    "mix_list.insert(5,'Hello World') # synatax is insert(index,variable)\n",
    "mix_list"
   ]
  },
  {
   "cell_type": "code",
   "execution_count": null,
   "metadata": {},
   "outputs": [],
   "source": [
    "# Printing the length of a list\n",
    "print(mix_list.__len__())\n",
    "len(mix_list)"
   ]
  },
  {
   "cell_type": "code",
   "execution_count": null,
   "metadata": {},
   "outputs": [],
   "source": [
    "# Removing an item from list\n",
    "int_list = [1,2,2,3,4,5]\n",
    "int_list.remove(2) # inpace function, \n",
    "int_list"
   ]
  },
  {
   "cell_type": "code",
   "execution_count": null,
   "metadata": {},
   "outputs": [],
   "source": [
    "int_list[1]"
   ]
  },
  {
   "cell_type": "code",
   "execution_count": null,
   "metadata": {},
   "outputs": [],
   "source": [
    "# Another way to remove an item from list\n",
    "del int_list[1]\n",
    "int_list"
   ]
  },
  {
   "cell_type": "code",
   "execution_count": null,
   "metadata": {},
   "outputs": [],
   "source": [
    "len int_list"
   ]
  },
  {
   "cell_type": "code",
   "execution_count": null,
   "metadata": {},
   "outputs": [],
   "source": [
    "# Referencing items in a list\n",
    "int_list = [10,11,12,13,14]\n",
    "int_list[0]"
   ]
  },
  {
   "cell_type": "code",
   "execution_count": null,
   "metadata": {},
   "outputs": [],
   "source": [
    "# Indexing (an explicit example)\n",
    "\"\"\"\n",
    "list11 = [1 ,  2 ,  3,  4]\n",
    "index1 = [0 ,  1 ,  2,  3]\n",
    "index2 = [-4, -3 , -2, -1]\n",
    "\"\"\"\n",
    "list11 = [1,2,3,4]"
   ]
  },
  {
   "cell_type": "code",
   "execution_count": null,
   "metadata": {},
   "outputs": [],
   "source": [
    "int_list"
   ]
  },
  {
   "cell_type": "code",
   "execution_count": null,
   "metadata": {},
   "outputs": [],
   "source": [
    "int_list[-1]"
   ]
  },
  {
   "cell_type": "code",
   "execution_count": null,
   "metadata": {},
   "outputs": [],
   "source": [
    "int_list[-3:-1]"
   ]
  },
  {
   "cell_type": "code",
   "execution_count": null,
   "metadata": {},
   "outputs": [],
   "source": [
    "# Renaming item in a list\n",
    "int_list[0] = 100\n",
    "int_list"
   ]
  },
  {
   "cell_type": "code",
   "execution_count": null,
   "metadata": {},
   "outputs": [],
   "source": [
    "# Memory allocation (very important)\n",
    "list1 = [1,2,3,4,5]\n",
    "list2 = list1.copy()\n",
    "list2[0] = 100\n",
    "list2[1] = 500\n",
    "list1"
   ]
  },
  {
   "cell_type": "code",
   "execution_count": null,
   "metadata": {},
   "outputs": [],
   "source": [
    "# Easy work around\n",
    "list2 = list1.copy()"
   ]
  },
  {
   "cell_type": "code",
   "execution_count": null,
   "metadata": {},
   "outputs": [],
   "source": [
    "# Assigning multiple variables to same object \n",
    "a = [1,2]\n",
    "b = a\n",
    "print(a,b)\n",
    "\n",
    "#a.append(3)\n",
    "#print(a,b)"
   ]
  },
  {
   "cell_type": "code",
   "execution_count": null,
   "metadata": {},
   "outputs": [],
   "source": [
    "# Two variables pointint to same object have the same ID/memory location\n",
    "a = [10,20,30]\n",
    "b = a\n",
    "print(id(a),id(b))"
   ]
  },
  {
   "cell_type": "code",
   "execution_count": null,
   "metadata": {},
   "outputs": [],
   "source": [
    "# Comparing variable storage in Python (reference type) vs C (value type)\n",
    "\n",
    "\"\"\"\n",
    "Storage in C:\n",
    "int x = 10\n",
    "x.loc = 00xU556\n",
    "x.value = 10\n",
    "\"\"\"\n",
    "\n",
    "\"\"\"\n",
    "Storage in Python:\n",
    "x = 10\n",
    "x -> object (10) # x references/points to this object (object has type/memory/ref)\n",
    "obj.type = integer\n",
    "obj.value = 10\n",
    "obj.reference = 1\n",
    "\"\"\"\n",
    "\n",
    "### Key takeaway\n",
    "# C creates a box for every label/variable\n",
    "# Py puts different labels on the same box"
   ]
  },
  {
   "cell_type": "code",
   "execution_count": null,
   "metadata": {},
   "outputs": [],
   "source": [
    "# Adding two numerical lists together (same as append/union of two lists)\n",
    " [1,2,3] + [4,5,'abcxyz']"
   ]
  },
  {
   "cell_type": "code",
   "execution_count": null,
   "metadata": {},
   "outputs": [],
   "source": [
    "# Unpacking a list (easy pythonic way)\n",
    "a,b,c = [1,2,3]\n",
    "print(a,b,c)"
   ]
  },
  {
   "cell_type": "markdown",
   "metadata": {},
   "source": [
    "### Tuple (Immutable Object)"
   ]
  },
  {
   "cell_type": "code",
   "execution_count": null,
   "metadata": {},
   "outputs": [],
   "source": [
    "# A tuple always starts and ends with the round brackets ()\n",
    "int_tuple = (1,2,3)\n",
    "print(type(int_tuple))\n",
    "int_tuple"
   ]
  },
  {
   "cell_type": "code",
   "execution_count": null,
   "metadata": {},
   "outputs": [],
   "source": [
    "# Accessing elements of a tuple (similar to a list)\n",
    "int_tuple"
   ]
  },
  {
   "cell_type": "markdown",
   "metadata": {},
   "source": [
    "### Dictionary"
   ]
  },
  {
   "cell_type": "code",
   "execution_count": null,
   "metadata": {},
   "outputs": [],
   "source": [
    "# Dictionary is like an address book, in Python it is specified by a key:value\n",
    "dictionary = {'student':['student1','student2'],\"id\":('id1','id2','id3'),\"workshop_grade\":['A','A-','A+']}\n",
    "dictionary"
   ]
  },
  {
   "cell_type": "code",
   "execution_count": null,
   "metadata": {},
   "outputs": [],
   "source": [
    "# Printing the keys\n",
    "dictionary.keys()"
   ]
  },
  {
   "cell_type": "code",
   "execution_count": null,
   "metadata": {},
   "outputs": [],
   "source": [
    "# Note how the IDs are a tuple and student names/grades are a list\n",
    "dictionary.values()"
   ]
  },
  {
   "cell_type": "code",
   "execution_count": null,
   "metadata": {},
   "outputs": [],
   "source": [
    "# Printing the specific values of a key\n",
    "dictionary['workshop_grade']"
   ]
  },
  {
   "cell_type": "code",
   "execution_count": null,
   "metadata": {},
   "outputs": [],
   "source": [
    "# Prints keys and values of a dictionary\n",
    "dictionary.items()"
   ]
  },
  {
   "cell_type": "markdown",
   "metadata": {},
   "source": [
    "# NumPy (Numerical Python)"
   ]
  },
  {
   "cell_type": "code",
   "execution_count": null,
   "metadata": {},
   "outputs": [],
   "source": [
    "import numpy\n",
    "import numpy as np # alias of numpy is np"
   ]
  },
  {
   "cell_type": "markdown",
   "metadata": {},
   "source": [
    "### Creating a NumPy array"
   ]
  },
  {
   "cell_type": "code",
   "execution_count": null,
   "metadata": {},
   "outputs": [],
   "source": [
    "# Creating a numpy array from a list\n",
    "my_array = np.array([1.,2,3])\n",
    "type(my_array)\n",
    "#my_array"
   ]
  },
  {
   "cell_type": "code",
   "execution_count": null,
   "metadata": {},
   "outputs": [],
   "source": [
    "# Accessing what the function does using a \"?\"\n",
    "np.linspace?"
   ]
  },
  {
   "cell_type": "code",
   "execution_count": null,
   "metadata": {},
   "outputs": [],
   "source": [
    "# Creating an array using linspace (returns evenly spaced numbers between two intervals)\n",
    "my_array = np.linspace(start = 0,stop = 10,num = 11)\n",
    "my_array"
   ]
  },
  {
   "cell_type": "code",
   "execution_count": null,
   "metadata": {},
   "outputs": [],
   "source": [
    "np.arange?"
   ]
  },
  {
   "cell_type": "code",
   "execution_count": null,
   "metadata": {},
   "outputs": [],
   "source": [
    "# Creating an array using arange (returns array with start, stop-step and length of array ~ (stop-start)//step)\n",
    "my_array = np.arange(start = 0,stop = 10,step = 3)\n",
    "my_array"
   ]
  },
  {
   "cell_type": "code",
   "execution_count": null,
   "metadata": {},
   "outputs": [],
   "source": [
    "# Combining multiple data types into Numpy array - observe what happens in the output\n",
    "my_array = np.array(['abc',2,True])\n",
    "my_array"
   ]
  },
  {
   "cell_type": "code",
   "execution_count": null,
   "metadata": {},
   "outputs": [],
   "source": [
    "# Other ways of creating arrays\n",
    "np.zeros(10) "
   ]
  },
  {
   "cell_type": "markdown",
   "metadata": {},
   "source": [
    "### NumPy Matrix"
   ]
  },
  {
   "cell_type": "code",
   "execution_count": null,
   "metadata": {},
   "outputs": [],
   "source": [
    "x = np.array([[1,2,3],[4,5,6]])\n",
    "x"
   ]
  },
  {
   "cell_type": "code",
   "execution_count": null,
   "metadata": {},
   "outputs": [],
   "source": [
    "# Reshaping a regular array into a matrix\n",
    "my_array = np.linspace(0,10,12)\n",
    "my_matrix = my_array.reshape(4,3) # 4 rows, 3 columns\n",
    "my_matrix"
   ]
  },
  {
   "cell_type": "code",
   "execution_count": null,
   "metadata": {},
   "outputs": [],
   "source": [
    "# A numpy matrix is essentially a stack of numpy arrays \n",
    "my_matrix[2]\n",
    "\n",
    "# Accessing a row/column/cell by [row,column]\n",
    "#my_matrix[1,1]"
   ]
  },
  {
   "cell_type": "code",
   "execution_count": null,
   "metadata": {},
   "outputs": [],
   "source": [
    "# Creating a numpy matrix of zeros\n",
    "my_matrix = np.zeros((5,5))\n",
    "type(my_matrix)"
   ]
  },
  {
   "cell_type": "code",
   "execution_count": null,
   "metadata": {},
   "outputs": [],
   "source": [
    "# You can also create a matrix using numpy's matrix function (soon to be deprecated)\n",
    "new_matrix = np.matrix([[1,2,3],[4,5,6]])\n",
    "print(new_matrix)\n",
    "#print(dir(new_matrix))\n",
    "#print(dir(my_matrix))"
   ]
  },
  {
   "cell_type": "code",
   "execution_count": null,
   "metadata": {},
   "outputs": [],
   "source": [
    "# Going beyond the 2-dimensional arrays\n",
    "type(np.linspace(0,10,16).reshape(2,2,2,2))"
   ]
  },
  {
   "cell_type": "markdown",
   "metadata": {},
   "source": [
    "### Selection and Broadcasting"
   ]
  },
  {
   "cell_type": "code",
   "execution_count": null,
   "metadata": {},
   "outputs": [],
   "source": [
    "# Selecting range of items\n",
    "my_array = np.linspace(0,10,101)\n",
    "my_array[90:92]\n",
    "my_array"
   ]
  },
  {
   "cell_type": "code",
   "execution_count": null,
   "metadata": {},
   "outputs": [],
   "source": [
    "# Selecting specific items\n",
    "my_array[[10,15,20]] # Passing a list works"
   ]
  },
  {
   "cell_type": "code",
   "execution_count": null,
   "metadata": {},
   "outputs": [],
   "source": [
    "# Selecting even cells [startAt:endBefore:skip]\n",
    "my_array[::3]"
   ]
  },
  {
   "cell_type": "code",
   "execution_count": null,
   "metadata": {},
   "outputs": [],
   "source": [
    "my_array[list(int(np.linspace(0,10,11)))]"
   ]
  },
  {
   "cell_type": "code",
   "execution_count": null,
   "metadata": {},
   "outputs": [],
   "source": [
    "# Broadcasting\n",
    "my_array[90:] = 100\n",
    "my_array"
   ]
  },
  {
   "cell_type": "code",
   "execution_count": null,
   "metadata": {},
   "outputs": [],
   "source": [
    "# Selecting items in a matrix\n",
    "my_matrix = np.linspace(0,10,9).reshape(3,3)\n",
    "my_matrix"
   ]
  },
  {
   "cell_type": "code",
   "execution_count": null,
   "metadata": {},
   "outputs": [],
   "source": [
    "# Syntax for selection matrix[row,column]\n",
    "my_matrix[0,1]"
   ]
  },
  {
   "cell_type": "code",
   "execution_count": null,
   "metadata": {},
   "outputs": [],
   "source": [
    "# A new way of selecting items\n",
    "my_array = np.linspace(-1,1,3)\n",
    "#print(my_array)\n",
    "my_array>0\n",
    "bool_array = [True,True,False]\n",
    "my_array[bool_array]\n",
    "#print(my_array)\n",
    "#print(my_array>0)\n",
    "#my_array[my_array>0]"
   ]
  },
  {
   "cell_type": "code",
   "execution_count": null,
   "metadata": {},
   "outputs": [],
   "source": [
    "# A new way of selecting items\n",
    "my_matrix = np.linspace(0,10,9).reshape(3,3)\n",
    "print(my_matrix)\n",
    "my_matrix>5"
   ]
  },
  {
   "cell_type": "markdown",
   "metadata": {},
   "source": [
    "### NumPy Array Operations"
   ]
  },
  {
   "cell_type": "code",
   "execution_count": null,
   "metadata": {},
   "outputs": [],
   "source": [
    "# Easy way to find all functions of NumPy\n",
    "dir(np)"
   ]
  },
  {
   "cell_type": "code",
   "execution_count": null,
   "metadata": {},
   "outputs": [],
   "source": [
    "# This works in Numpy arrays (unlike lists)\n",
    "#[1,2]+[3,4]\n",
    "np.array([1,2,3])+np.array([4,5,6])"
   ]
  },
  {
   "cell_type": "code",
   "execution_count": null,
   "metadata": {},
   "outputs": [],
   "source": [
    "# Max value of numpy array\n",
    "my_array = np.linspace(-10,10,21)\n",
    "print(my_array)\n",
    "my_array.max()"
   ]
  },
  {
   "cell_type": "code",
   "execution_count": null,
   "metadata": {},
   "outputs": [],
   "source": [
    "# Argmax value of numpy array (location at which the max occurs)\n",
    "my_array = np.linspace(-10,10,21)\n",
    "my_array.argmax()"
   ]
  },
  {
   "cell_type": "code",
   "execution_count": null,
   "metadata": {},
   "outputs": [],
   "source": [
    "# Alternate ways to compute max, argmax, sum, cumsum\n",
    "my_array.sum() # We can do this because the numpy array has this attribute"
   ]
  },
  {
   "cell_type": "code",
   "execution_count": null,
   "metadata": {},
   "outputs": [],
   "source": [
    "# Exponentials (array.exp() can not be used)\n",
    "np.exp(my_array)"
   ]
  },
  {
   "cell_type": "code",
   "execution_count": null,
   "metadata": {},
   "outputs": [],
   "source": [
    "# Warning of log\n",
    "np.mean(my_array)"
   ]
  },
  {
   "cell_type": "code",
   "execution_count": null,
   "metadata": {},
   "outputs": [],
   "source": [
    "# Stacking numpy arrays\n",
    "my_array1 = np.array([1,2,3])\n",
    "my_array2 = np.array([4,5,6])\n",
    "print(my_array1,my_array2)\n",
    "print(np.hstack((my_array1,my_array2)))"
   ]
  },
  {
   "cell_type": "code",
   "execution_count": null,
   "metadata": {},
   "outputs": [],
   "source": [
    "# Vertically stacking arrays\n",
    "print(np.vstack((my_array1,my_array2)))"
   ]
  },
  {
   "cell_type": "code",
   "execution_count": null,
   "metadata": {},
   "outputs": [],
   "source": [
    "# Sorting your array\n",
    "my_array = np.linspace(0,10,10)\n",
    "my_array[0] = 100\n",
    "#print(my_array)\n",
    "#my_array = my_array.sort()\n",
    "#my_array\n",
    "my_array.sort()\n",
    "my_array"
   ]
  },
  {
   "cell_type": "code",
   "execution_count": null,
   "metadata": {},
   "outputs": [],
   "source": [
    "# Numpy Sort has no inbuilt functionality to give descending order\n",
    "# Trick to reverse the order of numpy array\n",
    "my_array[::-1] "
   ]
  },
  {
   "cell_type": "markdown",
   "metadata": {},
   "source": [
    "### NumPy Matrix Operations"
   ]
  },
  {
   "cell_type": "code",
   "execution_count": null,
   "metadata": {},
   "outputs": [],
   "source": [
    "# Matrix addition (Creating two identical shape matrices)\n",
    "my_matrix1 = np.linspace(0,10,20).reshape(4,5)\n",
    "my_matrix2 = np.linspace(30,40,20).reshape(4,5)\n",
    "my_matrix1"
   ]
  },
  {
   "cell_type": "code",
   "execution_count": null,
   "metadata": {},
   "outputs": [],
   "source": [
    "my_matrix2"
   ]
  },
  {
   "cell_type": "code",
   "execution_count": null,
   "metadata": {},
   "outputs": [],
   "source": [
    "# Matrix addition\n",
    "my_matrix1+my_matrix2"
   ]
  },
  {
   "cell_type": "code",
   "execution_count": null,
   "metadata": {},
   "outputs": [],
   "source": [
    "# Adding constant\n",
    "my_matrix1+100"
   ]
  },
  {
   "cell_type": "code",
   "execution_count": null,
   "metadata": {},
   "outputs": [],
   "source": [
    "# Matrix multiplication two 4x5 matrices (transposing matrices)\n",
    "np.matmul(my_matrix1.T,my_matrix2) "
   ]
  },
  {
   "cell_type": "code",
   "execution_count": null,
   "metadata": {},
   "outputs": [],
   "source": [
    "# What happens when we compare a matrix to a constant\n",
    "mat = np.linspace(0,10,16).reshape(4,4)\n",
    "print(mat)\n",
    "mat>=5"
   ]
  },
  {
   "cell_type": "code",
   "execution_count": null,
   "metadata": {},
   "outputs": [],
   "source": [
    "# Identity matrix\n",
    "identity_matrix = np.identity(10)\n",
    "identity_matrix"
   ]
  },
  {
   "cell_type": "code",
   "execution_count": null,
   "metadata": {},
   "outputs": [],
   "source": [
    "# Diagonal of matrix\n",
    "np.diag(identity_matrix)"
   ]
  },
  {
   "cell_type": "code",
   "execution_count": null,
   "metadata": {},
   "outputs": [],
   "source": [
    "# The Linear Algebra library of NumPy (advanced operations)\n",
    "np.linalg?"
   ]
  },
  {
   "cell_type": "markdown",
   "metadata": {},
   "source": [
    "### Random Numbers"
   ]
  },
  {
   "cell_type": "code",
   "execution_count": null,
   "metadata": {},
   "outputs": [],
   "source": [
    "# Generating random numbers using Numpy's random function\n",
    "np.random.rand?"
   ]
  },
  {
   "cell_type": "code",
   "execution_count": null,
   "metadata": {},
   "outputs": [],
   "source": [
    "# Creates an array of random numbers from [0,1) - uniform distribution\n",
    "random_array = np.random.rand(10)\n",
    "random_array"
   ]
  },
  {
   "cell_type": "code",
   "execution_count": null,
   "metadata": {},
   "outputs": [],
   "source": [
    "# Generating a random matrix (Uniform distribution)\n",
    "random_matrix = np.random.rand(5,5)\n",
    "random_matrix"
   ]
  },
  {
   "cell_type": "code",
   "execution_count": null,
   "metadata": {},
   "outputs": [],
   "source": [
    "# Generating random integers\n",
    "np.random.randint(low=0,high=10,size=100)"
   ]
  },
  {
   "cell_type": "code",
   "execution_count": null,
   "metadata": {},
   "outputs": [],
   "source": [
    "# Setting seed (very important - for future projects to ensure reproducible results)\n",
    "np.random.seed(123)\n",
    "np.random.rand(5)"
   ]
  },
  {
   "cell_type": "code",
   "execution_count": null,
   "metadata": {},
   "outputs": [],
   "source": [
    "np.random.seed(123)\n",
    "np.random.rand(5)"
   ]
  },
  {
   "cell_type": "code",
   "execution_count": null,
   "metadata": {},
   "outputs": [],
   "source": [
    "np.linalg?"
   ]
  },
  {
   "cell_type": "markdown",
   "metadata": {},
   "source": [
    "# Take Home Questions\n",
    "\n",
    "To keep you thinking about Python"
   ]
  },
  {
   "cell_type": "markdown",
   "metadata": {},
   "source": [
    "- Create a list([3,4,5,7,8]) and store it in variable \"my_list\". The list contains 5 elements. Write a program to interchange the first and second elements with the last and second last elements respectively. The new list will be [8,7,5,4,3]. \n",
    "\n",
    "- Create a dictionary with five stocks (any five stocks from S&P 500). The keys of the dictionary that you will have to populate are - Name, Company Sector, Price, Market Cap (USD Mn), and Price-Earnings Ratio. You should find such data on Yahoo Finance. The keys have to be strings. For example (https://finance.yahoo.com/quote/TSLA/).\n",
    "\n",
    "\n",
    "- Using NumPy's arange and linspace, generate the same arrays between [0,10] and the array has size of 101 elements. Check if all the elements match.\n",
    "\n",
    "\n",
    "- Generate 50 random numbers from [0,1) using np.random.rand function and calculate the mean, median, and variance.\n",
    "\n",
    "\n",
    "- Now reshape the above array into a 10x5 matrix (10 rows and 5 columns). calculate the same statistics for each **column**.\n",
    "\n",
    "\n",
    "- Generate 50 random numbers from [0,1). Split this array into two equal arrays of size 25 each. Now reshape the two new arrays into 5x5 matrices and multiply both of them. Calculate the determinant of the new matrix (check wiki if you don't know what it means). *Hint - you will find the determinant function part of the numpy linalg function (the linear algebra library)*"
   ]
  },
  {
   "cell_type": "code",
   "execution_count": null,
   "metadata": {},
   "outputs": [],
   "source": []
  },
  {
   "cell_type": "code",
   "execution_count": null,
   "metadata": {},
   "outputs": [],
   "source": []
  },
  {
   "cell_type": "code",
   "execution_count": null,
   "metadata": {},
   "outputs": [],
   "source": []
  },
  {
   "cell_type": "code",
   "execution_count": null,
   "metadata": {},
   "outputs": [],
   "source": []
  }
 ],
 "metadata": {
  "kernelspec": {
   "display_name": "Python 3",
   "language": "python",
   "name": "python3"
  },
  "language_info": {
   "codemirror_mode": {
    "name": "ipython",
    "version": 3
   },
   "file_extension": ".py",
   "mimetype": "text/x-python",
   "name": "python",
   "nbconvert_exporter": "python",
   "pygments_lexer": "ipython3",
   "version": "3.7.3"
  }
 },
 "nbformat": 4,
 "nbformat_minor": 2
}
